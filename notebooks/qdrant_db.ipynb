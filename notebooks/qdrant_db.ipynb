{
 "cells": [
  {
   "cell_type": "code",
   "execution_count": 1,
   "id": "f50edc4b",
   "metadata": {},
   "outputs": [],
   "source": [
    "# =============================\n",
    "# 1. Imports\n",
    "# =============================\n",
    "import psycopg2\n",
    "from qdrant_client import QdrantClient\n",
    "from qdrant_client.http.models import VectorParams, Distance\n",
    "from langchain_qdrant import QdrantVectorStore\n",
    "from langchain_openai import OpenAIEmbeddings\n",
    "import os"
   ]
  },
  {
   "cell_type": "code",
   "execution_count": 3,
   "id": "85dd6f69",
   "metadata": {},
   "outputs": [],
   "source": [
    "# =============================\n",
    "# 2. Connect to Postgres\n",
    "# =============================\n",
    "DB_CONFIG = {\n",
    "    \"host\": os.getenv(\"DB_HOST\"),\n",
    "    \"port\": int(os.getenv(\"DB_PORT\")),\n",
    "    \"dbname\": os.getenv(\"DB_NAME\"),\n",
    "    \"user\": os.getenv(\"DB_USER\"),\n",
    "    \"password\": os.getenv(\"DB_PASSWORD\"),\n",
    "}\n",
    "conn = psycopg2.connect(**DB_CONFIG)\n",
    "cur = conn.cursor()\n",
    "\n",
    "# Example: fetch first 100 rows for testing\n",
    "cur.execute(\"SELECT random_key, persian_name FROM base_products LIMIT 100\")\n",
    "rows = cur.fetchall()"
   ]
  },
  {
   "cell_type": "code",
   "execution_count": 4,
   "id": "4cc99b45",
   "metadata": {},
   "outputs": [
    {
     "name": "stderr",
     "output_type": "stream",
     "text": [
      "C:\\Users\\Behnam_Local\\AppData\\Local\\Temp\\ipykernel_1512\\1174794956.py:11: DeprecationWarning: `recreate_collection` method is deprecated and will be removed in the future. Use `collection_exists` to check collection existence and `create_collection` instead.\n",
      "  client.recreate_collection(\n"
     ]
    },
    {
     "data": {
      "text/plain": [
       "True"
      ]
     },
     "execution_count": 4,
     "metadata": {},
     "output_type": "execute_result"
    }
   ],
   "source": [
    "# Choose embedding model\n",
    "# - text-embedding-3-small → 1536 dims\n",
    "# - text-embedding-3-large → 3072 dims\n",
    "embedding_model = \"text-embedding-3-small\"\n",
    "dim = 1536 if \"small\" in embedding_model else 3072\n",
    "\n",
    "# Create / open a Qdrant database on disk\n",
    "client = QdrantClient(path=\"./qdrant_db_test\")   # any folder path works\n",
    "\n",
    "# Create collection (example with OpenAI small embeddings)\n",
    "client.recreate_collection(\n",
    "    collection_name=\"products\",\n",
    "    vectors_config=VectorParams(size=1536, distance=Distance.COSINE),\n",
    ")\n",
    "\n"
   ]
  },
  {
   "cell_type": "code",
   "execution_count": 5,
   "id": "6187356d",
   "metadata": {},
   "outputs": [],
   "source": [
    "# =============================\n",
    "# 4. Initialize embeddings + QdrantVectorStore\n",
    "# =============================\n",
    "OPENAI_API_KEY = os.getenv(\"API_KEY\")\n",
    "BASE_URL = os.getenv(\"BASE_URL\")\n",
    "embeddings = OpenAIEmbeddings(model=embedding_model, \n",
    "                              api_key=OPENAI_API_KEY, base_url=BASE_URL)\n",
    "\n",
    "vector_store = QdrantVectorStore(\n",
    "    client=client,\n",
    "    collection_name=\"products\",\n",
    "    embedding=embeddings,\n",
    ")"
   ]
  },
  {
   "cell_type": "code",
   "execution_count": 5,
   "id": "577ab90b",
   "metadata": {},
   "outputs": [
    {
     "name": "stdout",
     "output_type": "stream",
     "text": [
      "Inserted 100 rows into Qdrant.\n"
     ]
    }
   ],
   "source": [
    "# =============================\n",
    "# 5. Insert rows into Qdrant\n",
    "# =============================\n",
    "texts = [row[1] for row in rows]          # persian_name\n",
    "metadatas = [{\"random_key\": row[0], \"persian_name\": row[1]} for row in rows]\n",
    "\n",
    "vector_store.add_texts(texts=texts, metadatas=metadatas)\n",
    "\n",
    "print(f\"Inserted {len(texts)} rows into Qdrant.\")"
   ]
  },
  {
   "cell_type": "code",
   "execution_count": null,
   "id": "23d0d64d",
   "metadata": {},
   "outputs": [],
   "source": []
  },
  {
   "cell_type": "code",
   "execution_count": 3,
   "id": "bc3a5ccc",
   "metadata": {},
   "outputs": [],
   "source": [
    "import os\n",
    "from langchain_openai import OpenAIEmbeddings\n",
    "from langchain_qdrant import QdrantVectorStore\n",
    "from qdrant_client import QdrantClient\n",
    "from openai import OpenAI\n",
    "from dotenv import load_dotenv\n",
    "\n",
    "import os\n",
    "import psycopg2\n",
    "from psycopg2.extras import RealDictCursor\n",
    "\n",
    "\n",
    "load_dotenv()\n",
    "\n",
    "DB_CONFIG = {\n",
    "    \"host\": os.getenv(\"DB_HOST\"),\n",
    "    \"port\": int(os.getenv(\"DB_PORT\", 5432)),\n",
    "    \"dbname\": os.getenv(\"DB_NAME\"),\n",
    "    \"user\": os.getenv(\"DB_USER\"),\n",
    "    \"password\": os.getenv(\"DB_PASSWORD\"),\n",
    "}\n",
    "# -------------------------\n",
    "# CONFIG\n",
    "# -------------------------\n",
    "QDRANT_PATH = \"../data/qdrant_db\"  # local disk folder\n",
    "COLLECTION_NAME = \"products\"\n",
    "EMBED_MODEL = \"text-embedding-3-small\"\n",
    "OPENAI_API_KEY = os.getenv(\"API_KEY\")\n",
    "BASE_URL = os.getenv(\"BASE_URL\")\n",
    "TOP_K = 5\n",
    "\n",
    "# Load API credentials\n",
    "OPENAI_API_KEY = os.getenv(\"API_KEY\")\n",
    "BASE_URL = os.getenv(\"BASE_URL\")\n",
    "\n",
    "# Initialize embeddings\n",
    "embeddings = OpenAIEmbeddings(\n",
    "    model=EMBED_MODEL,\n",
    "    api_key=OPENAI_API_KEY,\n",
    "    base_url=BASE_URL,\n",
    ")\n",
    "\n",
    "# Connect to local disk-based Qdrant\n",
    "client = QdrantClient(path=QDRANT_PATH)\n",
    "\n",
    "# Wrap with LangChain VectorStore\n",
    "vector_store = QdrantVectorStore(\n",
    "    client=client,\n",
    "    collection_name=COLLECTION_NAME,\n",
    "    embedding=embeddings,\n",
    ")\n"
   ]
  },
  {
   "cell_type": "code",
   "execution_count": 12,
   "id": "1623b434",
   "metadata": {},
   "outputs": [],
   "source": [
    "def get_persian_name_from_db(random_key):\n",
    "    \"\"\"\n",
    "    Fetch the Persian name from the database using the random_key.\n",
    "    \n",
    "    Returns the name as a string if found, otherwise returns None.\n",
    "    \"\"\"\n",
    "    if not random_key:\n",
    "        return None\n",
    "\n",
    "    try:\n",
    "        conn = psycopg2.connect(**DB_CONFIG)\n",
    "        cursor = conn.cursor(cursor_factory=RealDictCursor)\n",
    "\n",
    "        # Replace 'your_table' and 'persian_name_column' with actual table/column names\n",
    "        query = \"\"\"\n",
    "            SELECT persian_name\n",
    "            FROM base_products\n",
    "            WHERE random_key = %s\n",
    "            LIMIT 1;\n",
    "        \"\"\"\n",
    "        cursor.execute(query, (random_key,))\n",
    "        result = cursor.fetchone()\n",
    "\n",
    "        cursor.close()\n",
    "        conn.close()\n",
    "\n",
    "        if result and \"persian_name\" in result:\n",
    "            return result[\"persian_name\"]\n",
    "        return None\n",
    "\n",
    "    except Exception as e:\n",
    "        print(f\"Error querying Persian name for random_key {random_key}: {e}\")\n",
    "        return None\n",
    "\n",
    "\n",
    "def retrieve_from_vector_db(query: str, top_k: int = TOP_K):\n",
    "    results = vector_store.similarity_search(query, k=top_k)\n",
    "    values = []\n",
    "    for _, doc in enumerate(results, start=1):\n",
    "        print(doc)\n",
    "        meta_data = {}\n",
    "        name = get_persian_name_from_db(doc.metadata.get(\"random_key\"))\n",
    "        rk = doc.metadata.get(\"random_key\")\n",
    "        meta_data['persian_name'] = name\n",
    "        meta_data['random_key'] = rk\n",
    "        values.append(meta_data)\n",
    "    return values\n"
   ]
  },
  {
   "cell_type": "code",
   "execution_count": 13,
   "id": "1f1b856b",
   "metadata": {},
   "outputs": [
    {
     "name": "stdout",
     "output_type": "stream",
     "text": [
      "page_content='ساعت دیواری suho3' metadata={'random_key': 'aacsio', '_id': '18808e4f32174b43b751b67669b2dafa', '_collection_name': 'products'}\n",
      "page_content='ساعت‌های دیواری راویتا طرح 3100' metadata={'random_key': 'aaaeyv', '_id': '1eadfd1e3dc04880a8cb4eff5166d0aa', '_collection_name': 'products'}\n",
      "page_content='ساعت دیواری رزینی مولتی دار سیلور - قطر ۶۰' metadata={'random_key': 'aacwrs', '_id': 'a51b51a43897476ea12af07cead0b48c', '_collection_name': 'products'}\n",
      "page_content='شومینه دیواری برقی شومینه بیستون مدل H.D_90_L2.bs' metadata={'random_key': 'aabwzx', '_id': '1128ef5f26b7427bb6468297d84d0aa5', '_collection_name': 'products'}\n",
      "page_content='سردوشی برگی انجیری طلایی سنگ و ملیله | فروشگاه اینترنتی گالری ویان' metadata={'random_key': 'aaauyt', '_id': '5c912d06fe3c45798774dfb0c70e300c', '_collection_name': 'products'}\n"
     ]
    }
   ],
   "source": [
    "vs = retrieve_from_vector_db(\"ساعت دیواری\")"
   ]
  },
  {
   "cell_type": "code",
   "execution_count": 11,
   "id": "4d66b478",
   "metadata": {},
   "outputs": [
    {
     "data": {
      "text/plain": [
       "[{'persian_name': 'ساعت دیواری suho3', 'random_key': 'aacsio'},\n",
       " {'persian_name': 'ساعت\\u200cهای دیواری راویتا طرح 3100',\n",
       "  'random_key': 'aaaeyv'},\n",
       " {'persian_name': 'ساعت دیواری رزینی مولتی دار سیلور - قطر ۶۰',\n",
       "  'random_key': 'aacwrs'},\n",
       " {'persian_name': 'شومینه دیواری برقی شومینه بیستون مدل H.D_90_L2.bs',\n",
       "  'random_key': 'aabwzx'},\n",
       " {'persian_name': 'سردوشی برگی انجیری طلایی سنگ و ملیله | فروشگاه اینترنتی گالری ویان',\n",
       "  'random_key': 'aaauyt'}]"
      ]
     },
     "execution_count": 11,
     "metadata": {},
     "output_type": "execute_result"
    }
   ],
   "source": [
    "vs"
   ]
  },
  {
   "cell_type": "code",
   "execution_count": null,
   "id": "1874ccab",
   "metadata": {},
   "outputs": [],
   "source": []
  }
 ],
 "metadata": {
  "kernelspec": {
   "display_name": ".venv",
   "language": "python",
   "name": "python3"
  },
  "language_info": {
   "codemirror_mode": {
    "name": "ipython",
    "version": 3
   },
   "file_extension": ".py",
   "mimetype": "text/x-python",
   "name": "python",
   "nbconvert_exporter": "python",
   "pygments_lexer": "ipython3",
   "version": "3.13.6"
  }
 },
 "nbformat": 4,
 "nbformat_minor": 5
}
