{
 "cells": [
  {
   "cell_type": "code",
   "execution_count": 2,
   "id": "788d6cef",
   "metadata": {},
   "outputs": [
    {
     "name": "stdout",
     "output_type": "stream",
     "text": [
      "{'message': 'باهال ترین کالای ترب در حال حاضر \"سرخ کن فیلیپس مدل HD9270 ظرفیت 6.2 لیتر بدون روغن\" است. این محصول از برند معتبر فیلیپس است و قیمت آن در فروشگاه\\u200cهای مختلف بین 5,470,000 تا حدود 74,000,000 تومان متغیر است. تصویری از محصول نیز موجود است که می\\u200cتوانید ببینید.', 'base_random_keys': ['jvnqdp'], 'member_random_keys': None}\n"
     ]
    }
   ],
   "source": [
    "import requests\n",
    "\n",
    "url = \"https://behnam-torob-ai-shopping-assistant.darkube.app/chat\"\n",
    "data = {\n",
    "    \"chat_id\": \"1\",\n",
    "    \"messages\": [{\"type\": \"text\", \"content\": \"سلام، باحال ترین کالای ترب چیه؟\"}]\n",
    "}\n",
    "\n",
    "# Disable system proxy\n",
    "resp = requests.post(url, json=data, proxies={\"http\": None, \"https\": None})\n",
    "print(resp.json())"
   ]
  },
  {
   "cell_type": "code",
   "execution_count": 5,
   "id": "df4d3523",
   "metadata": {},
   "outputs": [
    {
     "ename": "ValueError",
     "evalue": "dictionary update sequence element #0 has length 128; 2 is required",
     "output_type": "error",
     "traceback": [
      "\u001b[31m---------------------------------------------------------------------------\u001b[39m",
      "\u001b[31mValueError\u001b[39m                                Traceback (most recent call last)",
      "\u001b[36mCell\u001b[39m\u001b[36m \u001b[39m\u001b[32mIn[5]\u001b[39m\u001b[32m, line 1\u001b[39m\n\u001b[32m----> \u001b[39m\u001b[32m1\u001b[39m \u001b[38;5;28;43mdict\u001b[39;49m\u001b[43m(\u001b[49m\u001b[43mresp\u001b[49m\u001b[43m)\u001b[49m\n",
      "\u001b[31mValueError\u001b[39m: dictionary update sequence element #0 has length 128; 2 is required"
     ]
    }
   ],
   "source": [
    "dict(resp)"
   ]
  },
  {
   "cell_type": "code",
   "execution_count": null,
   "id": "ad2ac732",
   "metadata": {},
   "outputs": [],
   "source": []
  }
 ],
 "metadata": {
  "kernelspec": {
   "display_name": ".venv",
   "language": "python",
   "name": "python3"
  },
  "language_info": {
   "codemirror_mode": {
    "name": "ipython",
    "version": 3
   },
   "file_extension": ".py",
   "mimetype": "text/x-python",
   "name": "python",
   "nbconvert_exporter": "python",
   "pygments_lexer": "ipython3",
   "version": "3.13.6"
  }
 },
 "nbformat": 4,
 "nbformat_minor": 5
}
