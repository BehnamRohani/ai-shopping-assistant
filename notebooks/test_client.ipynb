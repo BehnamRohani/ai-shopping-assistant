{
 "cells": [
  {
   "cell_type": "code",
   "execution_count": 14,
   "id": "788d6cef",
   "metadata": {},
   "outputs": [
    {
     "name": "stdout",
     "output_type": "stream",
     "text": [
      "{'message': None, 'base_random_keys': ['5'], 'member_random_keys': None}\n"
     ]
    }
   ],
   "source": [
    "import requests\n",
    "\n",
    "url = \"https://behnam-torob-ai-shopping-assistant.darkube.app/chat\"\n",
    "data = {\n",
    "    \"chat_id\": \"1\",\n",
    "    \"messages\": [{\"type\": \"text\", \"content\": \"return base random key: 5\"}]\n",
    "}\n",
    "\n",
    "# Disable system proxy\n",
    "resp = requests.post(url, json=data, proxies={\"http\": None, \"https\": None})\n",
    "print(resp.json())"
   ]
  },
  {
   "cell_type": "code",
   "execution_count": null,
   "id": "b2aa0b92",
   "metadata": {},
   "outputs": [],
   "source": []
  }
 ],
 "metadata": {
  "kernelspec": {
   "display_name": ".venv",
   "language": "python",
   "name": "python3"
  },
  "language_info": {
   "codemirror_mode": {
    "name": "ipython",
    "version": 3
   },
   "file_extension": ".py",
   "mimetype": "text/x-python",
   "name": "python",
   "nbconvert_exporter": "python",
   "pygments_lexer": "ipython3",
   "version": "3.13.6"
  }
 },
 "nbformat": 4,
 "nbformat_minor": 5
}
