{
 "cells": [
  {
   "cell_type": "code",
   "execution_count": 43,
   "id": "788d6cef",
   "metadata": {},
   "outputs": [],
   "source": [
    "import requests\n",
    "\n",
    "instructions = ['کمترین قیمت ست سطل و جای دستمال لالیپاپ مدل رنگین کمان چنده؟',\n",
    "                \"لطفاً دراور چهار کشو (کد D14) را برای من تهیه کنید.\",\n",
    "                \"عرض پارچه تریکو جودون 1/30 لاکرا گردباف نوریس به رنگ زرد طلایی چقدر است؟\",\n",
    "                \"کمترین قیمت در این پایه برای گیاه طبیعی بلک گلد بنسای نارگل کد ۰۱۰۸ چقدر است؟\",\n",
    "                \"کدام یک از این ماگ‌های خرید ماگ-لیوان هندوانه فانتزی و کارتونی کد 1375 یا ماگ لته خوری سرامیکی با زیره کد 741 دارای سبک کارتونی و فانتزی بوده و برای کودکان یا نوجوانان مناسب‌تر است؟\",\n",
    "                \"قیمت متوسط خردکن سیلور کرست مدل NF-1923 تیغه تیتانیومی در شهر قم چقدر است؟\",\n",
    "                \"\"\"محصول \\'لحاف کرسی دست دوز ترمه طرح نسترن رنگ زرشکی\\' با شناسه \"iushix\" و \\'لحاف کرسی دست دوز ترمه آبی طرح نسترن کد 119807 Lahaf\\' از نظر در دسترس بودن گارانتی در شهرهای مختلف را مقایسه کنید. کدام یک گزینه بهتری است؟\"\"\",\n",
    "                \"من به پایه دیواری مدلی برایت F3010 که مناسب تلویزیون\\u200cهای سایز ۱۷ تا ۵۵ اینچ باشد، نیاز دارم.'\",\n",
    "                \"سلام. لطفاً پاف نیمکت انتظار سه نفره با ستون\\u200cبندی اسفنج مبلی و رنگ\\u200cبندی مختلف را که امکان ارسال به سراسر ایران دارد، برای من تهیه کنید. متشکرم.\",\n",
    "                'میز جلو مبلی اسمردیس مدل J131 از چه موادی ساخته شده است؟',\n",
    "                'لطفاً درباره ظرفیت ماگ سرامیکی دسته رنگی طرح نشانگر سوخت – Coffee Fuel Gauge – اطلاعات بیشتری بدهید و بفرمایید که این ماگ چه ظرفیتی دارد؟',\n",
    "                'سلام! من دنبال یه گیاه بونسای هستم که خیلی خاص و زیبا باشه. می\\u200cخوام برای هدیه دادن استفاده کنم و بهتره که ارسال گل رایگان هم داشته باشه. قیمتش هم حدوداً بین ۳,۷۰۰,۰۰۰ تا ۴,۱۰۰,۰۰۰ تومان باشه. می\\u200cتونید کمکم کنید؟',\n",
    "                'در مقایسه بین \"چرخ خیاطی ژانومه دیجیتال (۱۲مدل دوخت) جا دکمه اتومات مدلSchone\" و \"چرخ خیاطی ژانومه مدل Juki 9800 اتوماتیک\" کدامیک از نظر قیمت متوسط در مشهد بهتر است؟',\n",
    "]\n",
    "# chat_id = \"retrieve_similar\"\n",
    "chat_id = \"mytest\"\n",
    "\n",
    "url = \"https://behnam-torob-ai-shopping-assistant.darkube.app/chat\"\n",
    "data = {\n",
    "    \"chat_id\": chat_id,\n",
    "    \"messages\": [{\"type\": \"text\", \"content\":  instructions[6] }]\n",
    "}\n",
    "\n",
    "# Disable system proxy\n",
    "resp = requests.post(url, json=data, proxies={\"http\": None, \"https\": None})"
   ]
  },
  {
   "cell_type": "code",
   "execution_count": 44,
   "id": "434c437e",
   "metadata": {},
   "outputs": [
    {
     "name": "stdout",
     "output_type": "stream",
     "text": [
      "<Response [200]>\n"
     ]
    }
   ],
   "source": [
    "print(resp)"
   ]
  },
  {
   "cell_type": "code",
   "execution_count": 45,
   "id": "d5b7b066",
   "metadata": {},
   "outputs": [
    {
     "data": {
      "text/plain": [
       "{'message': \"محصول 'لحاف کرسی دست دوز ترمه ابی طرح نسترن کد 119807' گزینه بهتری از نظر در دسترس بودن گارانتی در شهرهای مختلف است.\",\n",
       " 'base_random_keys': ['iushix', 'yfmqhv'],\n",
       " 'member_random_keys': None}"
      ]
     },
     "execution_count": 45,
     "metadata": {},
     "output_type": "execute_result"
    }
   ],
   "source": [
    "resp.json()"
   ]
  },
  {
   "cell_type": "code",
   "execution_count": 46,
   "id": "df4d3523",
   "metadata": {},
   "outputs": [
    {
     "name": "stdout",
     "output_type": "stream",
     "text": [
      "محصول 'لحاف کرسی دست دوز ترمه ابی طرح نسترن کد 119807' گزینه بهتری از نظر در دسترس بودن گارانتی در شهرهای مختلف است.\n"
     ]
    }
   ],
   "source": [
    "print(resp.json()['message'])"
   ]
  }
 ],
 "metadata": {
  "kernelspec": {
   "display_name": ".venv",
   "language": "python",
   "name": "python3"
  },
  "language_info": {
   "codemirror_mode": {
    "name": "ipython",
    "version": 3
   },
   "file_extension": ".py",
   "mimetype": "text/x-python",
   "name": "python",
   "nbconvert_exporter": "python",
   "pygments_lexer": "ipython3",
   "version": "3.13.6"
  }
 },
 "nbformat": 4,
 "nbformat_minor": 5
}
