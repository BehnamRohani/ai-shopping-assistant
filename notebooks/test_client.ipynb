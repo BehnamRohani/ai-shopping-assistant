{
 "cells": [
  {
   "cell_type": "code",
   "execution_count": 112,
   "id": "788d6cef",
   "metadata": {},
   "outputs": [],
   "source": [
    "import requests\n",
    "\n",
    "instructions = ['کمترین قیمت ست سطل و جای دستمال لالیپاپ مدل رنگین کمان چنده؟',\n",
    "                \"لطفاً دراور چهار کشو (کد D14) را برای من تهیه کنید.\",\n",
    "                \"عرض پارچه تریکو جودون 1/30 لاکرا گردباف نوریس به رنگ زرد طلایی چقدر است؟\",\n",
    "                \"کمترین قیمت در این پایه برای گیاه طبیعی بلک گلد بنسای نارگل کد ۰۱۰۸ چقدر است؟\",\n",
    "                \"کدام یک از این ماگ‌های خرید ماگ-لیوان هندوانه فانتزی و کارتونی کد 1375 یا ماگ لته خوری سرامیکی با زیره کد 741 دارای سبک کارتونی و فانتزی بوده و برای کودکان یا نوجوانان مناسب‌تر است؟\",\n",
    "                \"قیمت متوسط خردکن سیلور کرست مدل NF-1923 تیغه تیتانیومی در شهر قم چقدر است؟\",\n",
    "                \"\"\"محصول \\'لحاف کرسی دست دوز ترمه طرح نسترن رنگ زرشکی\\' با شناسه \"iushix\" و \\'لحاف کرسی دست دوز ترمه آبی طرح نسترن کد 119807 Lahaf\\' از نظر در دسترس بودن گارانتی در شهرهای مختلف را مقایسه کنید. کدام یک گزینه بهتری است؟\"\"\",\n",
    "                \"من به پایه دیواری مدلی برایت F3010 که مناسب تلویزیون\\u200cهای سایز ۱۷ تا ۵۵ اینچ باشد، نیاز دارم.'\",\n",
    "                \"سلام. لطفاً پاف نیمکت انتظار سه نفره با ستون\\u200cبندی اسفنج مبلی و رنگ\\u200cبندی مختلف را که امکان ارسال به سراسر ایران دارد، برای من تهیه کنید. متشکرم.\",\n",
    "]\n",
    "chat_id = \"retrieve_similar\"\n",
    "# chat_id = \"mytest\"\n",
    "\n",
    "url = \"https://behnam-torob-ai-shopping-assistant.darkube.app/chat\"\n",
    "data = {\n",
    "    \"chat_id\": chat_id,\n",
    "    \"messages\": [{\"type\": \"text\", \"content\":  instructions[7] }]\n",
    "}\n",
    "\n",
    "# Disable system proxy\n",
    "resp = requests.post(url, json=data, proxies={\"http\": None, \"https\": None})"
   ]
  },
  {
   "cell_type": "code",
   "execution_count": 113,
   "id": "434c437e",
   "metadata": {},
   "outputs": [
    {
     "name": "stdout",
     "output_type": "stream",
     "text": [
      "<Response [200]>\n"
     ]
    }
   ],
   "source": [
    "print(resp)"
   ]
  },
  {
   "cell_type": "code",
   "execution_count": 114,
   "id": "d5b7b066",
   "metadata": {},
   "outputs": [
    {
     "data": {
      "text/plain": [
       "{'message': 'پایه دیواری برایت مدل F3010 مناسب تلویزیون های سایز 17 تا 55 اینچ -> 0.8174\\nپایه دیواری تلویزیون مدل f4 مناسب برای تلوزیون 32تا 43 اینچ -> 0.7304\\nپایه دیواری تلویزیون ثنا مدل FT مناسب برای تلویزیون های ۳۲ تا ۶۵ اینچ -> 0.7294\\nپایه دیواری تلویزیون مدل ۲ بازو مناسب برای تلویزیون های ۳۲ تا ۵۵ اینچ -> 0.7167\\nپایه دیواری تلویزیون مدل F44 مناسب برای تلوزیون 32تا 43 اینچ -> 0.7145',\n",
       " 'base_random_keys': ['ldjdre', 'vjgrzl', 'zhgnit', 'gtxuvu', 'tiusou'],\n",
       " 'member_random_keys': None}"
      ]
     },
     "execution_count": 114,
     "metadata": {},
     "output_type": "execute_result"
    }
   ],
   "source": [
    "resp.json()"
   ]
  },
  {
   "cell_type": "code",
   "execution_count": 115,
   "id": "df4d3523",
   "metadata": {},
   "outputs": [
    {
     "name": "stdout",
     "output_type": "stream",
     "text": [
      "پایه دیواری برایت مدل F3010 مناسب تلویزیون های سایز 17 تا 55 اینچ -> 0.8174\n",
      "پایه دیواری تلویزیون مدل f4 مناسب برای تلوزیون 32تا 43 اینچ -> 0.7304\n",
      "پایه دیواری تلویزیون ثنا مدل FT مناسب برای تلویزیون های ۳۲ تا ۶۵ اینچ -> 0.7294\n",
      "پایه دیواری تلویزیون مدل ۲ بازو مناسب برای تلویزیون های ۳۲ تا ۵۵ اینچ -> 0.7167\n",
      "پایه دیواری تلویزیون مدل F44 مناسب برای تلوزیون 32تا 43 اینچ -> 0.7145\n"
     ]
    }
   ],
   "source": [
    "print(resp.json()['message'])"
   ]
  },
  {
   "cell_type": "code",
   "execution_count": null,
   "id": "5d65d0e8",
   "metadata": {},
   "outputs": [],
   "source": []
  },
  {
   "cell_type": "code",
   "execution_count": null,
   "id": "7456b30e",
   "metadata": {},
   "outputs": [],
   "source": []
  }
 ],
 "metadata": {
  "kernelspec": {
   "display_name": ".venv",
   "language": "python",
   "name": "python3"
  },
  "language_info": {
   "codemirror_mode": {
    "name": "ipython",
    "version": 3
   },
   "file_extension": ".py",
   "mimetype": "text/x-python",
   "name": "python",
   "nbconvert_exporter": "python",
   "pygments_lexer": "ipython3",
   "version": "3.13.6"
  }
 },
 "nbformat": 4,
 "nbformat_minor": 5
}
