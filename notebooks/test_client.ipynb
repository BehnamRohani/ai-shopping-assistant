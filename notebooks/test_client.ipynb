{
 "cells": [
  {
   "cell_type": "code",
   "execution_count": 91,
   "id": "788d6cef",
   "metadata": {},
   "outputs": [],
   "source": [
    "import requests\n",
    "\n",
    "instructions = ['کمترین قیمت ست سطل و جای دستمال لالیپاپ مدل رنگین کمان چنده؟',\n",
    "                \"لطفاً دراور چهار کشو (کد D14) را برای من تهیه کنید.\",\n",
    "                \"عرض پارچه تریکو جودون 1/30 لاکرا گردباف نوریس به رنگ زرد طلایی چقدر است؟\",\n",
    "                \"کمترین قیمت در این پایه برای گیاه طبیعی بلک گلد بنسای نارگل کد ۰۱۰۸ چقدر است؟\",\n",
    "                \"کدام یک از این ماگ‌های خرید ماگ-لیوان هندوانه فانتزی و کارتونی کد 1375 یا ماگ لته خوری سرامیکی با زیره کد 741 دارای سبک کارتونی و فانتزی بوده و برای کودکان یا نوجوانان مناسب‌تر است؟\",\n",
    "                \"قیمت متوسط خردکن سیلور کرست مدل NF-1923 تیغه تیتانیومی در شهر قم چقدر است؟\",\n",
    "                \"\"\"محصول \\'لحاف کرسی دست دوز ترمه طرح نسترن رنگ زرشکی\\' با شناسه \"iushix\" و \\'لحاف کرسی دست دوز ترمه آبی طرح نسترن کد 119807 Lahaf\\' از نظر در دسترس بودن گارانتی در شهرهای مختلف را مقایسه کنید. کدام یک گزینه بهتری است؟\"\"\",\n",
    "                \"من به پایه دیواری مدلی برایت F3010 که مناسب تلویزیون\\u200cهای سایز ۱۷ تا ۵۵ اینچ باشد، نیاز دارم.'\",\n",
    "                \"سلام. لطفاً پاف نیمکت انتظار سه نفره با ستون\\u200cبندی اسفنج مبلی و رنگ\\u200cبندی مختلف را که امکان ارسال به سراسر ایران دارد، برای من تهیه کنید. متشکرم.\",\n",
    "                'میز جلو مبلی اسمردیس مدل J131 از چه موادی ساخته شده است؟',\n",
    "                'لطفاً درباره ظرفیت ماگ سرامیکی دسته رنگی طرح نشانگر سوخت – Coffee Fuel Gauge – اطلاعات بیشتری بدهید و بفرمایید که این ماگ چه ظرفیتی دارد؟',\n",
    "                # 'سلام! من دنبال یه گیاه بونسای هستم که خیلی خاص و زیبا باشه. می\\u200cخوام برای هدیه دادن استفاده کنم و بهتره که ارسال گل رایگان هم داشته باشه. قیمتش هم حدوداً بین ۳,۷۰۰,۰۰۰ تا ۴,۱۰۰,۰۰۰ تومان باشه. می\\u200cتونید کمکم کنید؟',\n",
    "                'در مقایسه بین \"چرخ خیاطی ژانومه دیجیتال (۱۲مدل دوخت) جا دکمه اتومات مدلSchone\" و \"چرخ خیاطی ژانومه مدل Juki 9800 اتوماتیک\" کدامیک از نظر قیمت متوسط در مشهد بهتر است؟',\n",
    "\n",
    "                'سلام، من به دنبال خرید ساعت دیواری مدرن فلزی سایز 60 مدل 122 هستم. (پس کرایه) اگر موجود دارید لطفا راهنمایی کنید. ممنون.',\n",
    "                'قیمت متوسط چای ساز بوش مدل PB-78TS ظرفیت ۲.۵ لیتر با کتری پیرکس در شهر قم چقدر است؟',\n",
    "                'آیا میز بار DBP99 از چه جنسی ساخته شده است؟',\n",
    "                'در مقایسه بین \"چرخ خیاطی ژانومه دیجیتال (۱۲مدل دوخت) جا دکمه اتومات مدلSchone\" و \"چرخ خیاطی ژانومه مدل Juki 9800 اتوماتیک\" کدامیک از نظر قیمت متوسط در مشهد بهتر است؟',\n",
    "                'کدامیک از محصولات \\'دراور فایل کمدی پلاستیکی طرح کودک\\' با شناسه \"ebolgl\" و \\'دراور هوم کت ۴ طبقه بزرگ طرح دار از پلاستیک\\' با شناسه \"nihvhq\" در فروشگاه\\u200cهای بیشتری موجود است و آسان\\u200cتر می\\u200cتوان آن را خرید؟',\n",
    "                'متوسط قیمت پکیج دیواری لورچ مدل آدنا ظرفیت ۳۲ هزار چقدر است؟',\n",
    "                'غذاساز کنوود مدل FDP65: این محصول چند عضو دارد؟',\n",
    "                \n",
    "]\n",
    "# chat_id = \"retrieve_similar\"\n",
    "\n",
    "def request_chat(x, chat_id = 'mytest'):\n",
    "\n",
    "    url = \"https://behnam-torob-ai-shopping-assistant.darkube.app/chat\"\n",
    "    data = {\n",
    "        \"chat_id\": chat_id,\n",
    "        \"messages\": [{\"type\": \"text\", \"content\":  x}]\n",
    "    }\n",
    "\n",
    "    # Disable system proxy\n",
    "    resp = requests.post(url, json=data, proxies={\"http\": None, \"https\": None})\n",
    "    return resp.json()"
   ]
  },
  {
   "cell_type": "code",
   "execution_count": 92,
   "id": "80a70538",
   "metadata": {},
   "outputs": [
    {
     "name": "stdout",
     "output_type": "stream",
     "text": [
      "{'message': '28', 'base_random_keys': ['gfrbzp'], 'member_random_keys': None}\n"
     ]
    }
   ],
   "source": [
    "for x in instructions[-1:]:\n",
    "    print(request_chat(x))"
   ]
  },
  {
   "cell_type": "code",
   "execution_count": 93,
   "id": "1ebfbdce",
   "metadata": {},
   "outputs": [
    {
     "data": {
      "text/plain": [
       "{'message': 'سلام! خوشحال می\\u200cشوم کمکتان کنم. لطفاً بفرمایید دنبال چه محصولی هستید یا چه نیازی دارید؟',\n",
       " 'base_random_keys': None,\n",
       " 'member_random_keys': None}"
      ]
     },
     "execution_count": 93,
     "metadata": {},
     "output_type": "execute_result"
    }
   ],
   "source": [
    "request_chat(\"سلام میتونی بهم کمک کنی؟\", \"chat_testv3\")"
   ]
  },
  {
   "cell_type": "code",
   "execution_count": 94,
   "id": "fe905e36",
   "metadata": {},
   "outputs": [
    {
     "data": {
      "text/plain": [
       "{'message': 'برای کمک بهتر، لطفاً بفرمایید محدوده قیمت مورد نظر شما برای ماگ لیوانی چقدر است؟',\n",
       " 'base_random_keys': None,\n",
       " 'member_random_keys': None}"
      ]
     },
     "execution_count": 94,
     "metadata": {},
     "output_type": "execute_result"
    }
   ],
   "source": [
    "request_chat(\"دنبال یه ماگ لیوانی میگردم\", \"chat_testv3\")"
   ]
  },
  {
   "cell_type": "code",
   "execution_count": 95,
   "id": "1f1f2347",
   "metadata": {},
   "outputs": [
    {
     "data": {
      "text/plain": [
       "{'message': 'ممنون از اطلاعات. لطفاً محدوده قیمت مورد نظر خود برای ماگ لیوانی با استایل فانتزی را بفرمایید تا بتوانم فروشگاهی مناسب به شما معرفی کنم.',\n",
       " 'base_random_keys': None,\n",
       " 'member_random_keys': None}"
      ]
     },
     "execution_count": 95,
     "metadata": {},
     "output_type": "execute_result"
    }
   ],
   "source": [
    "request_chat(\"میخواهم که استایل فانتزی داشته باشه\", \"chat_testv3\")"
   ]
  },
  {
   "cell_type": "code",
   "execution_count": 96,
   "id": "b8fe6ac1",
   "metadata": {},
   "outputs": [
    {
     "data": {
      "text/plain": [
       "{'message': 'ممنون از اطلاعات. لطفاً محدوده قیمت مورد نظر خود برای ماگ لیوانی با استایل فانتزی که در تهران فروشگاه دارد را بفرمایید.',\n",
       " 'base_random_keys': None,\n",
       " 'member_random_keys': None}"
      ]
     },
     "execution_count": 96,
     "metadata": {},
     "output_type": "execute_result"
    }
   ],
   "source": [
    "request_chat(\"میخوام که تو تهران فروشگاه داشته باشه\", \"chat_testv3\")"
   ]
  },
  {
   "cell_type": "code",
   "execution_count": 97,
   "id": "eb6bb7c1",
   "metadata": {},
   "outputs": [
    {
     "data": {
      "text/plain": [
       "{'message': 'متاسفانه در حال حاضر ماگ لیوانی با استایل فانتزی در فروشگاه\\u200cهای تهران و با قیمت نزدیک به 300 هزار تومان موجود نیست.',\n",
       " 'base_random_keys': None,\n",
       " 'member_random_keys': None}"
      ]
     },
     "execution_count": 97,
     "metadata": {},
     "output_type": "execute_result"
    }
   ],
   "source": [
    "request_chat(\"نزدیک 300 هزار تومن\", \"chat_testv3\")"
   ]
  },
  {
   "cell_type": "code",
   "execution_count": null,
   "id": "b0d46f7d",
   "metadata": {},
   "outputs": [],
   "source": []
  }
 ],
 "metadata": {
  "kernelspec": {
   "display_name": ".venv",
   "language": "python",
   "name": "python3"
  },
  "language_info": {
   "codemirror_mode": {
    "name": "ipython",
    "version": 3
   },
   "file_extension": ".py",
   "mimetype": "text/x-python",
   "name": "python",
   "nbconvert_exporter": "python",
   "pygments_lexer": "ipython3",
   "version": "3.13.6"
  }
 },
 "nbformat": 4,
 "nbformat_minor": 5
}
