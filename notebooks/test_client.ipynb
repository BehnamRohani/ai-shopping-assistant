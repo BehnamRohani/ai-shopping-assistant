{
 "cells": [
  {
   "cell_type": "code",
   "execution_count": null,
   "id": "788d6cef",
   "metadata": {},
   "outputs": [],
   "source": [
    "import requests\n",
    "import base64\n",
    "\n",
    "\n",
    "def get_base64_encoded_image(image_url: str):\n",
    "   response = requests.get(image_url)\n",
    "   response.raise_for_status()\n",
    "   image_data = response.content\n",
    "   base64_image = base64.b64encode(image_data).decode(\"utf-8\")\n",
    "   assert base64.b64decode(base64_image) == image_data\n",
    "   return base64_image\n",
    "\n",
    "instructions = [\"میتونی دراور چهار کشو (کد D14) رو بهم کمک کنی پیدا کنم؟\",\n",
    "                'کمترین قیمت ست سطل و جای دستمال لالیپاپ مدل رنگین کمان چنده؟',\n",
    "                \"لطفاً دراور چهار کشو (کد D14) را برای من تهیه کنید.\",\n",
    "                \"عرض پارچه تریکو جودون 1/30 لاکرا گردباف نوریس به رنگ زرد طلایی چقدر است؟\",\n",
    "                \"کمترین قیمت در این پایه برای گیاه طبیعی بلک گلد بنسای نارگل کد ۰۱۰۸ چقدر است؟\",\n",
    "                \"کدام یک از این ماگ‌های خرید ماگ-لیوان هندوانه فانتزی و کارتونی کد 1375 یا ماگ لته خوری سرامیکی با زیره کد 741 دارای سبک کارتونی و فانتزی بوده و برای کودکان یا نوجوانان مناسب‌تر است؟\",\n",
    "                \"قیمت متوسط خردکن سیلور کرست مدل NF-1923 تیغه تیتانیومی در شهر قم چقدر است؟\",\n",
    "                \"\"\"محصول \\'لحاف کرسی دست دوز ترمه طرح نسترن رنگ زرشکی\\' با شناسه \"iushix\" و \\'لحاف کرسی دست دوز ترمه آبی طرح نسترن کد 119807 Lahaf\\' از نظر در دسترس بودن گارانتی در شهرهای مختلف را مقایسه کنید. کدام یک گزینه بهتری است؟\"\"\",\n",
    "                \"من به پایه دیواری مدلی برایت F3010 که مناسب تلویزیون\\u200cهای سایز ۱۷ تا ۵۵ اینچ باشد، نیاز دارم.'\",\n",
    "                \"سلام. لطفاً پاف نیمکت انتظار سه نفره با ستون\\u200cبندی اسفنج مبلی و رنگ\\u200cبندی مختلف را که امکان ارسال به سراسر ایران دارد، برای من تهیه کنید. متشکرم.\",\n",
    "                'میز جلو مبلی اسمردیس مدل J131 از چه موادی ساخته شده است؟',\n",
    "                'لطفاً درباره ظرفیت ماگ سرامیکی دسته رنگی طرح نشانگر سوخت – Coffee Fuel Gauge – اطلاعات بیشتری بدهید و بفرمایید که این ماگ چه ظرفیتی دارد؟',\n",
    "                # 'سلام! من دنبال یه گیاه بونسای هستم که خیلی خاص و زیبا باشه. می\\u200cخوام برای هدیه دادن استفاده کنم و بهتره که ارسال گل رایگان هم داشته باشه. قیمتش هم حدوداً بین ۳,۷۰۰,۰۰۰ تا ۴,۱۰۰,۰۰۰ تومان باشه. می\\u200cتونید کمکم کنید؟',\n",
    "                'در مقایسه بین \"چرخ خیاطی ژانومه دیجیتال (۱۲مدل دوخت) جا دکمه اتومات مدلSchone\" و \"چرخ خیاطی ژانومه مدل Juki 9800 اتوماتیک\" کدامیک از نظر قیمت متوسط در مشهد بهتر است؟',\n",
    "\n",
    "                'سلام، من به دنبال خرید ساعت دیواری مدرن فلزی سایز 60 مدل 122 هستم. (پس کرایه) اگر موجود دارید لطفا راهنمایی کنید. ممنون.',\n",
    "                'قیمت متوسط چای ساز بوش مدل PB-78TS ظرفیت ۲.۵ لیتر با کتری پیرکس در شهر قم چقدر است؟',\n",
    "                'آیا میز بار DBP99 از چه جنسی ساخته شده است؟',\n",
    "                'در مقایسه بین \"چرخ خیاطی ژانومه دیجیتال (۱۲مدل دوخت) جا دکمه اتومات مدلSchone\" و \"چرخ خیاطی ژانومه مدل Juki 9800 اتوماتیک\" کدامیک از نظر قیمت متوسط در مشهد بهتر است؟',\n",
    "                'کدامیک از محصولات \\'دراور فایل کمدی پلاستیکی طرح کودک\\' با شناسه \"ebolgl\" و \\'دراور هوم کت ۴ طبقه بزرگ طرح دار از پلاستیک\\' با شناسه \"nihvhq\" در فروشگاه\\u200cهای بیشتری موجود است و آسان\\u200cتر می\\u200cتوان آن را خرید؟',\n",
    "                'متوسط قیمت پکیج دیواری لورچ مدل آدنا ظرفیت ۳۲ هزار چقدر است؟',\n",
    "                'غذاساز کنوود مدل FDP65: این محصول چند عضو دارد؟',               \n",
    "]\n",
    "# chat_id = \"retrieve_similar\"\n",
    "\n",
    "def request_chat(x, image_url=None, chat_id = 'mytest'):\n",
    "\n",
    "    url = \"https://behnam-torob-ai-shopping-assistant.darkube.app/chat\"\n",
    "    messages = [{\"type\": \"text\", \"content\":  x}]\n",
    "    if image_url:\n",
    "        image = get_base64_encoded_image(image_url=image_url)\n",
    "        messages.append({\"type\": \"image\", \"content\": image})\n",
    "    data = {\n",
    "        \"chat_id\": chat_id,\n",
    "        \"messages\": messages,\n",
    "    }\n",
    "\n",
    "    # Disable system proxy\n",
    "    resp = requests.post(url, json=data, proxies={\"http\": None, \"https\": None})\n",
    "    return resp.json()"
   ]
  },
  {
   "cell_type": "code",
   "execution_count": 102,
   "id": "80a70538",
   "metadata": {},
   "outputs": [
    {
     "name": "stdout",
     "output_type": "stream",
     "text": [
      "{'message': 'دراور چهار کشو (کد D14) را پیدا کردم و می\\u200cتوانم اطلاعات ان را برای شما فراهم کنم.', 'base_random_keys': ['bmubxu'], 'member_random_keys': None}\n",
      "{'message': '980000.000', 'base_random_keys': ['rtxrky'], 'member_random_keys': None}\n",
      "{'message': 'دراور چهار کشو (کد D14) برای شما یافت شد.', 'base_random_keys': ['bmubxu'], 'member_random_keys': None}\n",
      "{'message': '1.18 متر', 'base_random_keys': ['twffbf'], 'member_random_keys': None}\n",
      "{'message': '275000', 'base_random_keys': ['wmkpoc'], 'member_random_keys': None}\n",
      "{'message': 'محصول \"خرید ماگ-لیوان هندوانه فانتزی و کارتونی کد 1375\" به دلیل داشتن نام شامل عبارت \"فانتزی و کارتونی\" و سبک مناسب برای کودکان و نوجوانان، گزینه مناسب\\u200cتری است نسبت به \"ماگ لته خوری سرامیکی با زیره کد 741\" که سبک کارتونی و فانتزی ندارد.', 'base_random_keys': ['hhtgaa'], 'member_random_keys': None}\n",
      "{'message': '1850000.000', 'base_random_keys': ['xauhns'], 'member_random_keys': None}\n",
      "{'message': \"محصول 'لحاف کرسی دست دوز ترمه ابی طرح نسترن کد 119807' گزینه بهتری از نظر در دسترس بودن گارانتی است.\", 'base_random_keys': ['yfmqhv'], 'member_random_keys': None}\n",
      "{'message': 'پایه دیواری برایت مدل F3010 مناسب تلویزیون\\u200cهای سایز 17 تا 55 اینچ را برای شما پیدا کردم.', 'base_random_keys': ['ldjdre'], 'member_random_keys': None}\n",
      "{'message': 'پاف نیمکت انتظار سه نفره با ستون\\u200cبندی اسفنج مبلی و رنگ\\u200cبندی مختلف که امکان ارسال به سراسر ایران دارد, یافت شد و اماده است.', 'base_random_keys': ['qiugsm'], 'member_random_keys': None}\n",
      "{'message': 'میز جلو مبلی اسمردیس مدل J131 از جنس ملاینه ساخته شده است.', 'base_random_keys': ['tlwrol'], 'member_random_keys': None}\n",
      "{'message': '0.325 لیتر', 'base_random_keys': ['rkxnmk'], 'member_random_keys': None}\n",
      "{'message': 'چرخ خیاطی ژانومه مدل Juki 9800 اتوماتیک با قیمت متوسط 9000000 تومان گزینه بهتری از نظر قیمت است.', 'base_random_keys': ['lvdxvs'], 'member_random_keys': None}\n",
      "{'message': 'محصول \"ساعت دیواری مدرن فلزی سایز 60 مدل 122 (پس کرایه)\" موجود است. یک فروشگاه در شهریار با قیمت 4,260,256 تومان این محصول را عرضه می\\u200cکند. این فروشگاه امتیاز 5 دارد ولی ضمانت تورب ندارد. اگر مایلید می\\u200cتوانم اطلاعات فروشگاه را برای خرید نهایی ارائه دهم.', 'base_random_keys': None, 'member_random_keys': None}\n",
      "{'message': '3567116.667', 'base_random_keys': ['matdva'], 'member_random_keys': None}\n",
      "{'message': 'mdf', 'base_random_keys': ['samati'], 'member_random_keys': None}\n",
      "{'message': '9000000.000', 'base_random_keys': ['lvdxvs'], 'member_random_keys': None}\n",
      "{'message': \"محصول 'دراور فایل کمدی پلاستیکی طرح کودک' با شناسه ebolgl در 2 فروشگاه موجود است, در حالی که 'دراور هوم کت 4 طبقه بزرگ طرح دار از پلاستیک' با شناسه nihvhq فقط در 1 فروشگاه موجود است. بنابراین, محصول اول اسان\\u200cتر برای خرید است.\", 'base_random_keys': ['ebolgl'], 'member_random_keys': None}\n",
      "{'message': '40707916.045', 'base_random_keys': ['icayju'], 'member_random_keys': None}\n",
      "{'message': 'غذاساز کنوود مدل FDP65 دارای 2 سرعت است. در اطلاعات موجود تعداد عضو یا قطعات مشخص نشده است.', 'base_random_keys': ['gfrbzp'], 'member_random_keys': None}\n"
     ]
    }
   ],
   "source": [
    "for x in instructions:\n",
    "    print(request_chat(x))"
   ]
  },
  {
   "cell_type": "code",
   "execution_count": 103,
   "id": "1ebfbdce",
   "metadata": {},
   "outputs": [
    {
     "data": {
      "text/plain": [
       "{'message': 'سلام! خوشحال می\\u200cشوم کمکتان کنم. لطفاً بگویید دنبال چه محصولی هستید یا چه ویژگی\\u200cهایی برایتان مهم است؟ (مثلاً محدوده قیمت، شهر، برند، گارانتی، امتیاز فروشنده و غیره)',\n",
       " 'base_random_keys': None,\n",
       " 'member_random_keys': None}"
      ]
     },
     "execution_count": 103,
     "metadata": {},
     "output_type": "execute_result"
    }
   ],
   "source": [
    "request_chat(\"سلام میتونی بهم کمک کنی؟\", \"chat_testv4\")"
   ]
  },
  {
   "cell_type": "code",
   "execution_count": 104,
   "id": "fe905e36",
   "metadata": {},
   "outputs": [
    {
     "data": {
      "text/plain": [
       "{'message': 'چند فروشگاه در تهران محصول ماگ با قیمت حداکثر 200 هزار تومان دارند. سه پیشنهاد برای شما:\\n1. ماگ سرامیکی زیبا مدل Time کد 1030 - قیمت 195000 تومان - فروشگاه با امتیاز 5.0\\n2. ماگ پیرکس گود مورنینگ ظرفیت ۰.۳۵ لیتر تپل - قیمت 195000 تومان - فروشگاه با امتیاز 5.0\\n3. ماگ پیرکس گود مورنینگ ظرفیت ۰.۳۵ لیتر تپل - قیمت 185000 تومان - فروشگاه با امتیاز 5.0\\nلطفاً بگویید چه ویژگی\\u200cهای بیشتری برایتان مهم است (مثلاً برند، گارانتی، رنگ، یا چیزهای دیگر) تا بتوانم بهتر راهنمایی کنم.',\n",
       " 'base_random_keys': None,\n",
       " 'member_random_keys': None}"
      ]
     },
     "execution_count": 104,
     "metadata": {},
     "output_type": "execute_result"
    }
   ],
   "source": [
    "request_chat(\"دنبال یه ماگ لیوانی میگردم که استایل فانتزی داشته باشه و قیمتش حداکثر 200 باشه . فروشگاه تو تهران دلشته باشه.\", \"chat_testv4\")"
   ]
  },
  {
   "cell_type": "code",
   "execution_count": 105,
   "id": "1f1f2347",
   "metadata": {},
   "outputs": [
    {
     "data": {
      "text/plain": [
       "{'message': 'متأسفانه در حال حاضر ماگ قرمز رنگ با قیمت حداکثر 200 هزار تومان در فروشگاه\\u200cهای تهران موجود نیست. اگر مایل باشید می\\u200cتوانم پیشنهادهای دیگری با رنگ یا قیمت متفاوت ارائه دهم.',\n",
       " 'base_random_keys': None,\n",
       " 'member_random_keys': None}"
      ]
     },
     "execution_count": 105,
     "metadata": {},
     "output_type": "execute_result"
    }
   ],
   "source": [
    "request_chat(\"گارانتی یا برند مهم نیست. رنگش قرمز باشه\", \"chat_testv4\")"
   ]
  },
  {
   "cell_type": "code",
   "execution_count": 106,
   "id": "b8fe6ac1",
   "metadata": {},
   "outputs": [
    {
     "data": {
      "text/plain": [
       "{'message': 'یک ماگ با طرح حیوانات مدل گاو در فروشگاهی در تهران با قیمت 200000 تومان موجود است. این محصول رنگ قرمز ندارد اما نزدیک\\u200cترین گزینه به درخواست شما است. فروشگاه امتیاز 5.0 دارد و گارانتی ندارد.',\n",
       " 'base_random_keys': None,\n",
       " 'member_random_keys': None}"
      ]
     },
     "execution_count": 106,
     "metadata": {},
     "output_type": "execute_result"
    }
   ],
   "source": [
    "request_chat(\"پس یه دونه به انتخاب خودت پیشنهاد بده.\", \"chat_testv4\")"
   ]
  },
  {
   "cell_type": "code",
   "execution_count": 107,
   "id": "eb6bb7c1",
   "metadata": {},
   "outputs": [
    {
     "data": {
      "text/plain": [
       "{'message': 'ممنون از شما. اگر در آینده به کمک نیاز داشتید، خوشحال می\\u200cشوم دوباره کمکتان کنم. روز خوبی داشته باشید!',\n",
       " 'base_random_keys': None,\n",
       " 'member_random_keys': None}"
      ]
     },
     "execution_count": 107,
     "metadata": {},
     "output_type": "execute_result"
    }
   ],
   "source": [
    "request_chat(\"اینو نمیخوام ولی دستت درد نکنه\", \"chat_testv4\")"
   ]
  },
  {
   "cell_type": "code",
   "execution_count": null,
   "id": "b0d46f7d",
   "metadata": {},
   "outputs": [],
   "source": [
    "\n",
    "image_url = \"https://image.torob.com/base/images/7O/fZ/7OfZ5Mqmcju2nfbv.webp\"\n",
    "text_input = \"شیء و مفهوم اصلی در تصویر چیست؟\"\n",
    "print(request_chat(x=text_input, image_url=image_url))"
   ]
  }
 ],
 "metadata": {
  "kernelspec": {
   "display_name": ".venv",
   "language": "python",
   "name": "python3"
  },
  "language_info": {
   "codemirror_mode": {
    "name": "ipython",
    "version": 3
   },
   "file_extension": ".py",
   "mimetype": "text/x-python",
   "name": "python",
   "nbconvert_exporter": "python",
   "pygments_lexer": "ipython3",
   "version": "3.13.6"
  }
 },
 "nbformat": 4,
 "nbformat_minor": 5
}
