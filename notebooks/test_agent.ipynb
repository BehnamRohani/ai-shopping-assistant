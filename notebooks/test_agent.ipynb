{
 "cells": [
  {
   "cell_type": "code",
   "execution_count": 1,
   "id": "f5af9da3",
   "metadata": {},
   "outputs": [],
   "source": [
    "import os, sys\n",
    "sys.path.append(os.path.abspath(\"..\"))\n",
    "from shopping_agent import run_shopping_agent"
   ]
  },
  {
   "cell_type": "code",
   "execution_count": 14,
   "id": "f112e751",
   "metadata": {},
   "outputs": [
    {
     "name": "stdout",
     "output_type": "stream",
     "text": [
      "Plan:\n",
      "1. User wants to compare two specific products to see which one is available in more cities.\n",
      "2. First, find the base product random keys for both: one by exact random key (\"dzpdls\"), the other by name (\"گلدان شیشه‌ای لب طلایی مدل گلوریا سایز 70 سانتی\").\n",
      "3. For each product, find all its shop members, then get the unique city IDs of the shops selling them.\n",
      "4. Count the number of unique cities for each product.\n",
      "5. Compare the counts and select the product available in more cities, justifying the choice in the message.\n"
     ]
    }
   ],
   "source": [
    "# instruction = \"لطفاً دراور چهار کشو (کد D14) را برای من تهیه کنید.\"\n",
    "# instruction = \"عرض پارچه تریکو جودون 1/30 لاکرا گردباف نوریس به رنگ زرد طلایی چقدر است؟\"\n",
    "instruction = \"کمترین قیمت در این پایه برای گیاه طبیعی بلک گلد بنسای نارگل کد ۰۱۰۸ چقدر است؟\"\n",
    "# instruction = \"یک لپ تاپ مناسبمناسب بهم پیشنهاد کن.\"\n",
    "# instruction = \"\"\"\n",
    "# چند تا کالا پیدا کن که برای فروشگاه های متفاوتی هستند و بهم معرفی کن.\n",
    "# # \"\"\"\n",
    "# instruction = \"\"\"\n",
    "# \"کدام یک از این ماگ‌های خرید ماگ-لیوان هندوانه فانتزی و کارتونی کد 1375 یا ماگ لته خوری سرامیکی با زیره کد 741 دارای سبک کارتونی و فانتزی بوده و برای کودکان یا نوجوانان مناسب‌تر است؟\"\n",
    "# \"\"\"\n",
    "# instruction = \"\"\"\n",
    "# What is the average price of all products in Torob?\n",
    "# \"\"\"\n",
    "# instruction = \"\"\"\n",
    "# قیمت متوسط خردکن سیلور کرست مدل NF-1923 تیغه تیتانیومی در شهر قم چقدر است؟\n",
    "# \"\"\"\n",
    "instruction = \"\"\"\n",
    "کدام محصول بین \\'گلدون کنار سالنی سه سایزی طرح راش\\' - شناسه \"dzpdls\" - و \\'گلدان شیشه\\u200cای لب طلایی مدل گلوریا سایز ۷۰ سانتی\\' در تعداد بیشتری از شهرها موجود است؟\n",
    "\"\"\"\n",
    "result, out = await run_shopping_agent(instruction, use_initial_plan = True)"
   ]
  },
  {
   "cell_type": "code",
   "execution_count": 15,
   "id": "13bf9fd2",
   "metadata": {},
   "outputs": [
    {
     "data": {
      "text/plain": [
       "AgentRunResult(output=ShoppingResponse(message=\"محصول 'گلدون کنار سالنی سه سایزی طرح راش' در 2 شهر و محصول 'گلدان شیشه\\u200cای لب طلایی مدل گلوریا سایز 70 سانتی' در 1 شهر موجود است. بنابراین محصول اول در تعداد بیشتری از شهرها موجود است.\", base_random_keys=['dzpdls', 'efqfjx'], member_random_keys=['hyijcd', 'eezzlb', 'majlel']))"
      ]
     },
     "execution_count": 15,
     "metadata": {},
     "output_type": "execute_result"
    }
   ],
   "source": [
    "result"
   ]
  },
  {
   "cell_type": "code",
   "execution_count": 16,
   "id": "6a553b5f",
   "metadata": {},
   "outputs": [
    {
     "data": {
      "text/plain": [
       "{'message': \"محصول 'گلدون کنار سالنی سه سایزی طرح راش' در تعداد بیشتری از شهرها موجود است.\",\n",
       " 'base_random_keys': ['dzpdls', 'efqfjx'],\n",
       " 'member_random_keys': ['hyijcd', 'eezzlb', 'majlel']}"
      ]
     },
     "execution_count": 16,
     "metadata": {},
     "output_type": "execute_result"
    }
   ],
   "source": [
    "out"
   ]
  },
  {
   "cell_type": "code",
   "execution_count": 17,
   "id": "9dde5de5",
   "metadata": {},
   "outputs": [
    {
     "data": {
      "text/plain": [
       "{'message': \"محصول 'گلدون کنار سالنی سه سایزی طرح راش' در 2 شهر و محصول 'گلدان شیشه\\u200cای لب طلایی مدل گلوریا سایز 70 سانتی' در 1 شهر موجود است. بنابراین محصول اول در تعداد بیشتری از شهرها موجود است.\",\n",
       " 'base_random_keys': ['dzpdls', 'efqfjx'],\n",
       " 'member_random_keys': ['hyijcd', 'eezzlb', 'majlel']}"
      ]
     },
     "execution_count": 17,
     "metadata": {},
     "output_type": "execute_result"
    }
   ],
   "source": [
    "dict(result.output)"
   ]
  },
  {
   "cell_type": "code",
   "execution_count": 18,
   "id": "ce583a3d",
   "metadata": {},
   "outputs": [
    {
     "data": {
      "text/plain": [
       "RunUsage(input_tokens=25547, cache_read_tokens=20480, output_tokens=619, details={'accepted_prediction_tokens': 0, 'audio_tokens': 0, 'reasoning_tokens': 0, 'rejected_prediction_tokens': 0}, requests=9, tool_calls=11)"
      ]
     },
     "execution_count": 18,
     "metadata": {},
     "output_type": "execute_result"
    }
   ],
   "source": [
    "result.usage()"
   ]
  },
  {
   "cell_type": "code",
   "execution_count": 19,
   "id": "459e7b61",
   "metadata": {},
   "outputs": [
    {
     "data": {
      "text/plain": [
       "[ModelRequest(parts=[SystemPromptPart(content='\\n\\nYou are an AI Shopping Assistant for Torob. Your job is to answer user instructions by retrieving product information.\\n\\n\\n\\nYou have access to the following tools:\\n\\n1. build_exact_query_and_execute(table_name: str, column_name: str, variable_query: str, limit: int = 10, columns: list[str] | None = None) -> list[RealDictRow] | str:\\n   Builds and executes a SQL query that searches for rows where a column exactly matches\\n   the given value. You can specify which columns to return. Enforces a minimum limit of 1.\\n   → Use when you are confident you have the full exact product name.  \\n   ⚠️ If no match is found, do **not** stop — fallback to LIKE search.  \\n\\n2. build_like_query_and_execute(table_name: str, column_name: str, variable_query: str, limit: int = 10, columns: list[str] | None = None) -> list[RealDictRow] | str:\\n   Builds and executes a SQL query that searches for rows where a column contains\\n   a given substring (case-insensitive). You can specify which columns to return.\\n   Enforces a minimum limit of 3.\\n   → Use when the product name may differ slightly (extra words, spacing, spelling).  \\n   ⚠️ Must return at least 3 rows, so always set limit >= 3.  \\n   \\n3. generate_sql_query(instruction: str) -> tuple[str, str]: \\n   Generates a PostgreSQL query from natural language.\\n   → Use for complex requests (aggregations, computations).  \\n\\n4. execute_sql(query: str) -> list[RealDictRow]: \\n   Executes a PostgreSQL query and returns results.\\n   → Run SQL directly (your own query or one produced by `generate_sql_query`).  \\n\\n\\n\\n1. Always return the Pydantic response with these fields:\\n   - message: a short, direct answer to the user’s request.\\n   - base_random_keys: list of random_key(s) for products (only if user is asking about products).\\n   - member_random_keys: list of random_key(s) for shops (only if user is asking about shops).\\n2. base_random_keys should always contain the **final product(s) the user actually requested**. Do not include intermediate results or related products unless explicitly asked.\\n3. Keep the `message` concise, containing only the requested information. No extra commentary.\\n\\n### SQL Query Guidelines:\\n- For anything that requires **aggregation, computation, or statistics**  \\n  (lowest price, highest price, average, total stock, shop counts, sums, etc.),  \\n  either:  \\n    • write the full SQL query yourself and run it with `execute_sql`, or  \\n    • use `generate_sql_query` to create the SQL, then run it with `execute_sql`.  \\n- Use `build_exact_query_and_execute` or `build_like_query_and_execute` only for simple lookups by name/id.  \\n\\n## Important: Never give up too soon when retreiving a random_key of a product.\\n- Product names may not match user text exactly.  \\n- In order to get the random_key of a product from the supposed name (a simple query), always try progressively:  \\n  1. First attempt: `build_exact_query_and_execute` if you think you have a clean match.  \\n  2. If no result: retry with `build_like_query_and_execute` using key parts of the product name.  \\n  3. If still no result: consider synonyms, shortened forms, or partial brand/model extraction.  \\n- Only after multiple reasonable attempts can you conclude a product truly does not exist.  \\n\\nNotes:  \\n- Many failures happen because the product name is slightly different in the DB.  \\n- Your job is to find the closest match, not to stop early.  \\n\\n\\nBelow is structure of data in database:\\n\\nWe have data from torob.com structured in multiple tables. Below is a detailed description of each table and its columns:\\n\\n1. Table: searches\\n- id: Unique identifier for each search result page. Used to connect logs like views and clicks to this search.\\n- uid: Unique identifier for the entire search session (same across all pages of a search; equals id of page 0).\\n- query: The search phrase entered by the user.\\n- page: Page number in search results (starts from 0).\\n- timestamp: Exact UTC time when the search was logged.\\n- session_id: Identifier of the user’s session.\\n- result_base_product_rks: A string (list encoded in string) of base product random keys shown in the results.\\n- category_id: ID of the category user restricted the search to (0 means no category).\\n- category_brand_boosts: A string (list encoded in string) of categories/brands boosted in ranking for this search.\\n\\n2. Table: base_views\\n- id: Unique identifier for each product base view.\\n- search_id: The search page ID this view came from (links to searches.id).\\n- base_product_rk: Random key of the base product that was viewed.\\n- timestamp: Exact UTC time when the view was logged.\\n\\n3. Table: final_clicks\\n- id: Unique identifier for each final click.\\n- base_view_id: ID linking this click to a base product view (links to base_views.id).\\n- shop_id: Identifier of the shop where the clicked product belongs.\\n- timestamp: Exact UTC time when the click occurred.\\n\\n4. Table: base_products\\n- random_key: Unique identifier of a base product.\\n- persian_name: Persian name of the product.\\n- english_name: English name of the product.\\n- category_id: Category ID of the product.\\n- brand_id: Brand ID of the product.\\n- extra_features: JSON string of additional product features.\\nExample: Features may be width (عرض), height (ارتفاع), size (اندازه), color (رنگ), material (جنس), originality, stock_status, meterage, piece_count, power, etc.\\n- image_url: URL of the product’s image.\\n- members: A string (list encoded in string) of random keys of shop products linked to this base product.\\n\\n5. Table: members (shop products)\\n- random_key: Unique identifier of a product in a shop.\\n- base_random_key: Random key linking the shop product to its base product.\\n- shop_id: Identifier of the shop offering the product.\\n- price: Price of the product in this shop.\\n\\n6. Table: shops\\n- id: Unique identifier of the shop.\\n- city_id: ID of the city where the shop is located.\\n- score: Shop’s rating in Torob (0 to 5).\\n- has_warranty: Boolean indicating whether the shop has Torob warranty.\\n\\n7. Table: categories\\n- id: Unique identifier of the category.\\n- title: Title of the category.\\n- parent_id: ID of the parent category (-1 if no parent). Categories are hierarchical.\\n\\n8. Table: brands\\n- id: Unique identifier of the brand.\\n- title: Title of the brand.\\n\\n9. Table: cities\\n- id: Unique identifier of the city.\\n- name: Name of the city.\\n', timestamp=datetime.datetime(2025, 9, 20, 4, 28, 51, 636765, tzinfo=datetime.timezone.utc)), UserPromptPart(content='Input: کدام محصول بین \\'گلدون کنار سالنی سه سایزی طرح راش\\' - شناسه \"dzpdls\" - و \\'گلدان شیشه\\u200cای لب طلایی مدل گلوریا سایز 70 سانتی\\' در تعداد بیشتری از شهرها موجود است?\\n\\nPlan:\\n1. User wants to compare two specific products to see which one is available in more cities.\\n2. First, find the base product random keys for both: one by exact random key (\"dzpdls\"), the other by name (\"گلدان شیشه\\u200cای لب طلایی مدل گلوریا سایز 70 سانتی\").\\n3. For each product, find all its shop members, then get the unique city IDs of the shops selling them.\\n4. Count the number of unique cities for each product.\\n5. Compare the counts and select the product available in more cities, justifying the choice in the message.', timestamp=datetime.datetime(2025, 9, 20, 4, 28, 51, 636772, tzinfo=datetime.timezone.utc))]),\n",
       " ModelResponse(parts=[ToolCallPart(tool_name='build_exact_query_and_execute', args='{\"table_name\": \"base_products\", \"column_name\": \"random_key\", \"variable_query\": \"dzpdls\", \"columns\": [\"random_key\", \"persian_name\", \"members\"]}', tool_call_id='call_SyMuqV2EuwTzz5QAfbf8E9nX'), ToolCallPart(tool_name='build_exact_query_and_execute', args='{\"table_name\": \"base_products\", \"column_name\": \"persian_name\", \"variable_query\": \"گلدان شیشه\\u200cای لب طلایی مدل گلوریا سایز 70 سانتی\", \"columns\": [\"random_key\", \"persian_name\", \"members\"]}', tool_call_id='call_TXV2LfGpQJhsucALd0Lqjv5j')], usage=RequestUsage(input_tokens=2340, cache_read_tokens=2048, output_tokens=121, details={'accepted_prediction_tokens': 0, 'audio_tokens': 0, 'reasoning_tokens': 0, 'rejected_prediction_tokens': 0}), model_name='gpt-4.1-mini-2025-04-14', timestamp=datetime.datetime(2025, 9, 20, 4, 29, 10, tzinfo=TzInfo(UTC)), provider_name='openai', provider_details={'finish_reason': 'tool_calls'}, provider_response_id='chatcmpl-CHjVehoR8LZc4Vr1pQUwwl0y9sdwo', finish_reason='tool_call'),\n",
       " ModelRequest(parts=[ToolReturnPart(tool_name='build_exact_query_and_execute', content=[RealDictRow({'random_key': 'dzpdls', 'persian_name': 'گلدون کنار سالنی سه سایزی طرح راش', 'members': \"['hyijcd', 'eezzlb']\"})], tool_call_id='call_SyMuqV2EuwTzz5QAfbf8E9nX', timestamp=datetime.datetime(2025, 9, 20, 4, 28, 55, 663945, tzinfo=datetime.timezone.utc)), ToolReturnPart(tool_name='build_exact_query_and_execute', content=[], tool_call_id='call_TXV2LfGpQJhsucALd0Lqjv5j', timestamp=datetime.datetime(2025, 9, 20, 4, 28, 55, 654583, tzinfo=datetime.timezone.utc))]),\n",
       " ModelResponse(parts=[ToolCallPart(tool_name='build_like_query_and_execute', args='{\"table_name\":\"base_products\",\"column_name\":\"persian_name\",\"variable_query\":\"گلدان شیشه\\u200cای لب طلایی مدل گلوریا سایز 70 سانتی\",\"limit\":5,\"columns\":[\"random_key\",\"persian_name\",\"members\"]}', tool_call_id='call_stO5TrRim5vkR1r9l3HVKBH3')], usage=RequestUsage(input_tokens=2594, cache_read_tokens=2176, output_tokens=65, details={'reasoning_tokens': 0}), model_name='openai/gpt-4.1-mini', timestamp=datetime.datetime(2025, 9, 20, 4, 29, 14, tzinfo=TzInfo(UTC)), provider_name='openai', provider_details={'finish_reason': 'tool_calls'}, provider_response_id='gen-1758342553-31vqJGDKHuM5d9dt98LN', finish_reason='tool_call'),\n",
       " ModelRequest(parts=[ToolReturnPart(tool_name='build_like_query_and_execute', content=[], tool_call_id='call_stO5TrRim5vkR1r9l3HVKBH3', timestamp=datetime.datetime(2025, 9, 20, 4, 29, 0, 358435, tzinfo=datetime.timezone.utc))]),\n",
       " ModelResponse(parts=[ToolCallPart(tool_name='build_like_query_and_execute', args='{\"table_name\":\"base_products\",\"column_name\":\"persian_name\",\"variable_query\":\"گلدان شیشه\\u200cای لب طلایی گلوریا\",\"limit\":5,\"columns\":[\"random_key\",\"persian_name\",\"members\"]}', tool_call_id='call_ikUfDx4ZQXSHfOh4fbNkNUR4')], usage=RequestUsage(input_tokens=2671, cache_read_tokens=2432, output_tokens=58, details={'accepted_prediction_tokens': 0, 'audio_tokens': 0, 'reasoning_tokens': 0, 'rejected_prediction_tokens': 0}), model_name='gpt-4.1-mini-2025-04-14', timestamp=datetime.datetime(2025, 9, 20, 4, 29, 18, tzinfo=TzInfo(UTC)), provider_name='openai', provider_details={'finish_reason': 'tool_calls'}, provider_response_id='chatcmpl-CHjVmIdRjdhlIhMAQOL8WsGpjJT60', finish_reason='tool_call'),\n",
       " ModelRequest(parts=[ToolReturnPart(tool_name='build_like_query_and_execute', content=[], tool_call_id='call_ikUfDx4ZQXSHfOh4fbNkNUR4', timestamp=datetime.datetime(2025, 9, 20, 4, 29, 4, 851034, tzinfo=datetime.timezone.utc))]),\n",
       " ModelResponse(parts=[ToolCallPart(tool_name='build_like_query_and_execute', args='{\"table_name\":\"base_products\",\"column_name\":\"persian_name\",\"variable_query\":\"گلدان شیشه\\u200cای لب طلایی\",\"limit\":5,\"columns\":[\"random_key\",\"persian_name\",\"members\"]}', tool_call_id='call_3YQch8cX3HAB0HIjr6h4hYiy')], usage=RequestUsage(input_tokens=2741, cache_read_tokens=2560, output_tokens=55, details={'accepted_prediction_tokens': 0, 'audio_tokens': 0, 'reasoning_tokens': 0, 'rejected_prediction_tokens': 0}), model_name='gpt-4.1-mini-2025-04-14', timestamp=datetime.datetime(2025, 9, 20, 4, 29, 23, tzinfo=TzInfo(UTC)), provider_name='openai', provider_details={'finish_reason': 'tool_calls'}, provider_response_id='chatcmpl-CHjVrXw7ylgqMoiVAynAw0cnyGA61', finish_reason='tool_call'),\n",
       " ModelRequest(parts=[ToolReturnPart(tool_name='build_like_query_and_execute', content=[RealDictRow({'random_key': 'efqfjx', 'persian_name': 'گلدان شیشه\\u200cای لب طلایی مدل گلوریا سایز ۷۰ سانتی', 'members': \"['majlel']\"})], tool_call_id='call_3YQch8cX3HAB0HIjr6h4hYiy', timestamp=datetime.datetime(2025, 9, 20, 4, 29, 10, 47353, tzinfo=datetime.timezone.utc))]),\n",
       " ModelResponse(parts=[ToolCallPart(tool_name='build_exact_query_and_execute', args='{\"table_name\": \"members\", \"column_name\": \"random_key\", \"variable_query\": \"hyijcd\", \"columns\": [\"shop_id\"]}', tool_call_id='call_Wmstn0YUNZzoPQce9oAEp5nR'), ToolCallPart(tool_name='build_exact_query_and_execute', args='{\"table_name\": \"members\", \"column_name\": \"random_key\", \"variable_query\": \"eezzlb\", \"columns\": [\"shop_id\"]}', tool_call_id='call_ZcM3D9B2HlIXS0WIiJ9NuSEB'), ToolCallPart(tool_name='build_exact_query_and_execute', args='{\"table_name\": \"members\", \"column_name\": \"random_key\", \"variable_query\": \"majlel\", \"columns\": [\"shop_id\"]}', tool_call_id='call_byaupLjuKC6NV04eBVLVPDOe')], usage=RequestUsage(input_tokens=2850, cache_read_tokens=2688, output_tokens=126, details={'accepted_prediction_tokens': 0, 'audio_tokens': 0, 'reasoning_tokens': 0, 'rejected_prediction_tokens': 0}), model_name='gpt-4.1-mini-2025-04-14', timestamp=datetime.datetime(2025, 9, 20, 4, 29, 28, tzinfo=TzInfo(UTC)), provider_name='openai', provider_details={'finish_reason': 'tool_calls'}, provider_response_id='chatcmpl-CHjVwg7uiOBuZAgnRYqcstHJd4pWG', finish_reason='tool_call'),\n",
       " ModelRequest(parts=[ToolReturnPart(tool_name='build_exact_query_and_execute', content=[RealDictRow({'shop_id': 7753})], tool_call_id='call_Wmstn0YUNZzoPQce9oAEp5nR', timestamp=datetime.datetime(2025, 9, 20, 4, 29, 13, 844606, tzinfo=datetime.timezone.utc)), ToolReturnPart(tool_name='build_exact_query_and_execute', content=[RealDictRow({'shop_id': 14643})], tool_call_id='call_ZcM3D9B2HlIXS0WIiJ9NuSEB', timestamp=datetime.datetime(2025, 9, 20, 4, 29, 13, 847208, tzinfo=datetime.timezone.utc)), ToolReturnPart(tool_name='build_exact_query_and_execute', content=[RealDictRow({'shop_id': 18738})], tool_call_id='call_byaupLjuKC6NV04eBVLVPDOe', timestamp=datetime.datetime(2025, 9, 20, 4, 29, 13, 847269, tzinfo=datetime.timezone.utc))]),\n",
       " ModelResponse(parts=[ToolCallPart(tool_name='execute_sql', args='{\"query\":\"SELECT DISTINCT city_id FROM shops WHERE id IN (7753, 14643, 18738);\"}', tool_call_id='call_B3SD36ShJZ3RRI8QrhZRYf6H')], usage=RequestUsage(input_tokens=3012, output_tokens=34, details={'accepted_prediction_tokens': 0, 'audio_tokens': 0, 'reasoning_tokens': 0, 'rejected_prediction_tokens': 0}), model_name='gpt-4.1-mini-2025-04-14', timestamp=datetime.datetime(2025, 9, 20, 4, 29, 32, tzinfo=TzInfo(UTC)), provider_name='openai', provider_details={'finish_reason': 'tool_calls'}, provider_response_id='chatcmpl-CHjW043nXNbuTCwSELm6epIQ93Cdh', finish_reason='tool_call'),\n",
       " ModelRequest(parts=[ToolReturnPart(tool_name='execute_sql', content=[RealDictRow({'city_id': 454}), RealDictRow({'city_id': 588})], tool_call_id='call_B3SD36ShJZ3RRI8QrhZRYf6H', timestamp=datetime.datetime(2025, 9, 20, 4, 29, 16, 416170, tzinfo=datetime.timezone.utc))]),\n",
       " ModelResponse(parts=[ToolCallPart(tool_name='execute_sql', args='{\"query\":\"SELECT DISTINCT city_id FROM shops WHERE id IN (7753, 14643);\"}', tool_call_id='call_uA5hcIetplEEsuH1KWgUXi8C')], usage=RequestUsage(input_tokens=3066, cache_read_tokens=2560, output_tokens=30, details={'reasoning_tokens': 0}), model_name='openai/gpt-4.1-mini', timestamp=datetime.datetime(2025, 9, 20, 4, 29, 34, tzinfo=TzInfo(UTC)), provider_name='openai', provider_details={'finish_reason': 'tool_calls'}, provider_response_id='gen-1758342574-W6Jy1d6hizOaMeXnw4jF', finish_reason='tool_call'),\n",
       " ModelRequest(parts=[ToolReturnPart(tool_name='execute_sql', content=[RealDictRow({'city_id': 454}), RealDictRow({'city_id': 588})], tool_call_id='call_uA5hcIetplEEsuH1KWgUXi8C', timestamp=datetime.datetime(2025, 9, 20, 4, 29, 17, 975317, tzinfo=datetime.timezone.utc))]),\n",
       " ModelResponse(parts=[ToolCallPart(tool_name='execute_sql', args='{\"query\":\"SELECT DISTINCT city_id FROM shops WHERE id = 18738;\"}', tool_call_id='call_B3Itcw3oqEnbJM4WJr2OjSlO')], usage=RequestUsage(input_tokens=3116, cache_read_tokens=2944, output_tokens=26, details={'accepted_prediction_tokens': 0, 'audio_tokens': 0, 'reasoning_tokens': 0, 'rejected_prediction_tokens': 0}), model_name='gpt-4.1-mini-2025-04-14', timestamp=datetime.datetime(2025, 9, 20, 4, 29, 36, tzinfo=TzInfo(UTC)), provider_name='openai', provider_details={'finish_reason': 'tool_calls'}, provider_response_id='chatcmpl-CHjW4QAch40EYgqWoT0dM7xwMOl55', finish_reason='tool_call'),\n",
       " ModelRequest(parts=[ToolReturnPart(tool_name='execute_sql', content=[RealDictRow({'city_id': 588})], tool_call_id='call_B3Itcw3oqEnbJM4WJr2OjSlO', timestamp=datetime.datetime(2025, 9, 20, 4, 29, 19, 597201, tzinfo=datetime.timezone.utc))]),\n",
       " ModelResponse(parts=[ToolCallPart(tool_name='final_result', args='{\"message\":\"محصول \\'گلدون کنار سالنی سه سایزی طرح راش\\' در 2 شهر و محصول \\'گلدان شیشه\\u200cای لب طلایی مدل گلوریا سایز 70 سانتی\\' در 1 شهر موجود است. بنابراین محصول اول در تعداد بیشتری از شهرها موجود است.\",\"base_random_keys\":[\"dzpdls\",\"efqfjx\"],\"member_random_keys\":[\"hyijcd\",\"eezzlb\",\"majlel\"]}', tool_call_id='call_GgUCyBHjhmbHjZ7yB6H0uNts')], usage=RequestUsage(input_tokens=3157, cache_read_tokens=3072, output_tokens=104, details={'reasoning_tokens': 0}), model_name='openai/gpt-4.1-mini', timestamp=datetime.datetime(2025, 9, 20, 4, 29, 38, tzinfo=TzInfo(UTC)), provider_name='openai', provider_details={'finish_reason': 'tool_calls'}, provider_response_id='gen-1758342578-uTyioUh8ZHlpduHEdLS4', finish_reason='tool_call'),\n",
       " ModelRequest(parts=[ToolReturnPart(tool_name='final_result', content='Final result processed.', tool_call_id='call_GgUCyBHjhmbHjZ7yB6H0uNts', timestamp=datetime.datetime(2025, 9, 20, 4, 29, 22, 45821, tzinfo=datetime.timezone.utc))])]"
      ]
     },
     "execution_count": 19,
     "metadata": {},
     "output_type": "execute_result"
    }
   ],
   "source": [
    "result.all_messages()"
   ]
  },
  {
   "cell_type": "code",
   "execution_count": null,
   "id": "3b1fcfde",
   "metadata": {},
   "outputs": [],
   "source": []
  }
 ],
 "metadata": {
  "kernelspec": {
   "display_name": ".venv",
   "language": "python",
   "name": "python3"
  },
  "language_info": {
   "codemirror_mode": {
    "name": "ipython",
    "version": 3
   },
   "file_extension": ".py",
   "mimetype": "text/x-python",
   "name": "python",
   "nbconvert_exporter": "python",
   "pygments_lexer": "ipython3",
   "version": "3.13.6"
  }
 },
 "nbformat": 4,
 "nbformat_minor": 5
}
