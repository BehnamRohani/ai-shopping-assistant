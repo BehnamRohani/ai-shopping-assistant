{
 "cells": [
  {
   "cell_type": "code",
   "execution_count": 11,
   "id": "f5af9da3",
   "metadata": {},
   "outputs": [],
   "source": [
    "import os\n",
    "sys.path.append(os.path.abspath(\"..\"))\n",
    "from shopping_agent import run_shopping_agent"
   ]
  },
  {
   "cell_type": "code",
   "execution_count": 19,
   "id": "f112e751",
   "metadata": {},
   "outputs": [
    {
     "name": "stdout",
     "output_type": "stream",
     "text": [
      "Plan:\n",
      "\n",
      "1. Translate the user request: The user wants to know the lowest price for the base product named \"گیاه طبیعی بلک گلد بنسای نارگل کد ۰۱۰۸\" (Natural Plant Black Gold Bonsai Nargol Code 0108).\n",
      "\n",
      "2. Task: Find the base product with the exact Persian name \"گیاه طبیعی بلک گلد بنسای نارگل کد ۰۱۰۸\" in the base_products table.\n",
      "\n",
      "3. Once the base product is found, get its random_key.\n",
      "\n",
      "4. Use this random_key to find all related shop products (members) in the members table.\n",
      "\n",
      "5. From these members, find the minimum price.\n",
      "\n",
      "6. Output the minimum price.\n",
      "\n",
      "Subtasks and tools:\n",
      "\n",
      "- Use build_exact_query_and_execute on base_products with column persian_name = \"گیاه طبیعی بلک گلد بنسای نارگل کد ۰۱۰۸\" to get the base product random_key.\n",
      "\n",
      "- Use build_exact_query_and_execute on members with column base_random_key = found random_key to get prices.\n",
      "\n",
      "- Find the minimum price from the returned members.\n",
      "\n",
      "Output:\n",
      "\n",
      "- message: The minimum price found.\n",
      "\n",
      "- base_random_keys and member_random_keys: null (not requested).\n",
      "\n",
      "This is a straightforward exact match and aggregation task.\n"
     ]
    }
   ],
   "source": [
    "# instruction = \"لطفاً دراور چهار کشو (کد D14) را برای من تهیه کنید.\"\n",
    "# instruction = \"عرض پارچه تریکو جودون 1/30 لاکرا گردباف نوریس به رنگ زرد طلایی چقدر است؟\"\n",
    "instruction = \"کمترین قیمت در این پایه برای گیاه طبیعی بلک گلد بنسای نارگل کد ۰۱۰۸ چقدر است؟\"\n",
    "# instruction = \"یک لپ تاپ مناسب بهم پیشنهاد کن.\"\n",
    "result = await run_shopping_agent(instruction)"
   ]
  },
  {
   "cell_type": "code",
   "execution_count": 20,
   "id": "13bf9fd2",
   "metadata": {},
   "outputs": [
    {
     "data": {
      "text/plain": [
       "AgentRunResult(output=ShoppingResponse(message='کمترین قیمت برای پایه محصول گیاه طبیعی بلک گلد بنسای نارگل کد ۰۱۰۸ برابر با 275000 تومان است.', base_random_keys=None, member_random_keys=None))"
      ]
     },
     "execution_count": 20,
     "metadata": {},
     "output_type": "execute_result"
    }
   ],
   "source": [
    "result"
   ]
  },
  {
   "cell_type": "code",
   "execution_count": 21,
   "id": "9dde5de5",
   "metadata": {},
   "outputs": [
    {
     "data": {
      "text/plain": [
       "{'message': 'کمترین قیمت برای پایه محصول گیاه طبیعی بلک گلد بنسای نارگل کد ۰۱۰۸ برابر با 275000 تومان است.',\n",
       " 'base_random_keys': None,\n",
       " 'member_random_keys': None}"
      ]
     },
     "execution_count": 21,
     "metadata": {},
     "output_type": "execute_result"
    }
   ],
   "source": [
    "dict(result.output)"
   ]
  },
  {
   "cell_type": "code",
   "execution_count": 22,
   "id": "ce583a3d",
   "metadata": {},
   "outputs": [
    {
     "data": {
      "text/plain": [
       "RunUsage(input_tokens=10884, cache_read_tokens=7936, output_tokens=268, details={'accepted_prediction_tokens': 0, 'audio_tokens': 0, 'reasoning_tokens': 0, 'rejected_prediction_tokens': 0}, requests=5, tool_calls=4)"
      ]
     },
     "execution_count": 22,
     "metadata": {},
     "output_type": "execute_result"
    }
   ],
   "source": [
    "result.usage()"
   ]
  },
  {
   "cell_type": "code",
   "execution_count": 23,
   "id": "459e7b61",
   "metadata": {},
   "outputs": [
    {
     "data": {
      "text/plain": [
       "[ModelRequest(parts=[SystemPromptPart(content='\\n\\nYou are an AI Shopping Assistant for Torob. Your job is to answer user instructions by retrieving product information.\\n\\n\\n\\nYou have access to the following tools:\\n\\n1. build_exact_query_and_execute(table_name: str, column_name: str, variable_query: str, limit: int = 10, columns: list[str] | None = None) -> list[RealDictRow] | str:\\n   Builds and executes a SQL query that searches for rows where a column exactly matches\\n   the given value. You can specify which columns to return. Enforces a minimum limit of 1.\\n\\n2. build_like_query_and_execute(table_name: str, column_name: str, variable_query: str, limit: int = 10, columns: list[str] | None = None) -> list[RealDictRow] | str:\\n   Builds and executes a SQL query that searches for rows where a column contains\\n   a given substring (case-insensitive). You can specify which columns to return.\\n   Enforces a minimum limit of 3.\\n   \\n3. generate_sql_query(instruction: str) -> tuple[str, str]: \\n   Generates a PostgreSQL query from natural language.\\n\\n4. execute_sql(query: str) -> list[RealDictRow]: \\n   Executes a PostgreSQL query and returns results.\\n\\n### Priority:\\n- Use `generate_sql_query` only when a query cannot be expressed through the built-in query helpers.\\n\\n\\n\\n  1. Use SQL tools if necessary.\\n  2. Fill the Pydantic response for your final answer.\\n  3. base_random_keys should only be filled if user asks for product(s). And member_random_keys should only be filled if user\\n  asks for shop(s). So there is no need, for example, to fill member_random_keys if user is only after a product.\\n\\n\\nBelow is structure of data in database:\\n\\nWe have data from torob.com structured in multiple tables. Below is a detailed description of each table and its columns:\\n\\n1. Table: searches\\n- id: Unique identifier for each search result page. Used to connect logs like views and clicks to this search.\\n- uid: Unique identifier for the entire search session (same across all pages of a search; equals id of page 0).\\n- query: The search phrase entered by the user.\\n- page: Page number in search results (starts from 0).\\n- timestamp: Exact UTC time when the search was logged.\\n- session_id: Identifier of the user’s session.\\n- result_base_product_rks: A string (list encoded in string) of base product random keys shown in the results.\\n- category_id: ID of the category user restricted the search to (0 means no category).\\n- category_brand_boosts: A string (list encoded in string) of categories/brands boosted in ranking for this search.\\n\\n2. Table: base_views\\n- id: Unique identifier for each product base view.\\n- search_id: The search page ID this view came from (links to searches.id).\\n- base_product_rk: Random key of the base product that was viewed.\\n- timestamp: Exact UTC time when the view was logged.\\n\\n3. Table: final_clicks\\n- id: Unique identifier for each final click.\\n- base_view_id: ID linking this click to a base product view (links to base_views.id).\\n- shop_id: Identifier of the shop where the clicked product belongs.\\n- timestamp: Exact UTC time when the click occurred.\\n\\n4. Table: base_products\\n- random_key: Unique identifier of a base product.\\n- persian_name: Persian name of the product.\\n- english_name: English name of the product.\\n- category_id: Category ID of the product.\\n- brand_id: Brand ID of the product.\\n- extra_features: JSON string of additional product features.\\nExample: Features may be width (عرض), height (ارتفاع), size (اندازه), color (رنگ), material (جنس), originality, stock_status, meterage, piece_count, power, etc.\\n- image_url: URL of the product’s image.\\n- members: A string (list encoded in string) of random keys of shop products linked to this base product.\\n\\n5. Table: members (shop products)\\n- random_key: Unique identifier of a product in a shop.\\n- base_random_key: Random key linking the shop product to its base product.\\n- shop_id: Identifier of the shop offering the product.\\n- price: Price of the product in this shop.\\n\\n6. Table: shops\\n- id: Unique identifier of the shop.\\n- city_id: ID of the city where the shop is located.\\n- score: Shop’s rating in Torob (0 to 5).\\n- has_warranty: Boolean indicating whether the shop has Torob warranty.\\n\\n7. Table: categories\\n- id: Unique identifier of the category.\\n- title: Title of the category.\\n- parent_id: ID of the parent category (-1 if no parent). Categories are hierarchical.\\n\\n8. Table: brands\\n- id: Unique identifier of the brand.\\n- title: Title of the brand.\\n\\n9. Table: cities\\n- id: Unique identifier of the city.\\n- name: Name of the city.\\n', timestamp=datetime.datetime(2025, 9, 18, 5, 5, 55, 329128, tzinfo=datetime.timezone.utc)), UserPromptPart(content='Input: کمترین قیمت در این پایه برای گیاه طبیعی بلک گلد بنسای نارگل کد ۰۱۰۸ چقدر است؟\\n\\nPlan:\\n\\n1. Translate the user request: The user wants to know the lowest price for the base product named \"گیاه طبیعی بلک گلد بنسای نارگل کد ۰۱۰۸\" (Natural Plant Black Gold Bonsai Nargol Code 0108).\\n\\n2. Task: Find the base product with the exact Persian name \"گیاه طبیعی بلک گلد بنسای نارگل کد ۰۱۰۸\" in the base_products table.\\n\\n3. Once the base product is found, get its random_key.\\n\\n4. Use this random_key to find all related shop products (members) in the members table.\\n\\n5. From these members, find the minimum price.\\n\\n6. Output the minimum price.\\n\\nSubtasks and tools:\\n\\n- Use build_exact_query_and_execute on base_products with column persian_name = \"گیاه طبیعی بلک گلد بنسای نارگل کد ۰۱۰۸\" to get the base product random_key.\\n\\n- Use build_exact_query_and_execute on members with column base_random_key = found random_key to get prices.\\n\\n- Find the minimum price from the returned members.\\n\\nOutput:\\n\\n- message: The minimum price found.\\n\\n- base_random_keys and member_random_keys: null (not requested).\\n\\nThis is a straightforward exact match and aggregation task.', timestamp=datetime.datetime(2025, 9, 18, 5, 5, 55, 329135, tzinfo=datetime.timezone.utc))]),\n",
       " ModelResponse(parts=[ToolCallPart(tool_name='build_exact_query_and_execute', args='{\"table_name\":\"base_products\",\"column_name\":\"persian_name\",\"variable_query\":\"گیاه طبیعی بلک گلد بنسای نارگل کد ۰۱۰۸\",\"limit\":1,\"columns\":[\"random_key\"]}', tool_call_id='call_pczf0uJ5d76ibf9KGxrViSYM')], usage=RequestUsage(input_tokens=2027, cache_read_tokens=1664, output_tokens=58, details={'accepted_prediction_tokens': 0, 'audio_tokens': 0, 'reasoning_tokens': 0, 'rejected_prediction_tokens': 0}), model_name='gpt-4.1-mini-2025-04-14', timestamp=datetime.datetime(2025, 9, 18, 5, 6, 7, tzinfo=TzInfo(UTC)), provider_name='openai', provider_details={'finish_reason': 'tool_calls'}, provider_response_id='chatcmpl-CH18JgxA1sY25M2Wfi7syzYcrnXID', finish_reason='tool_call'),\n",
       " ModelRequest(parts=[ToolReturnPart(tool_name='build_exact_query_and_execute', content=[], tool_call_id='call_pczf0uJ5d76ibf9KGxrViSYM', timestamp=datetime.datetime(2025, 9, 18, 5, 5, 57, 659885, tzinfo=datetime.timezone.utc))]),\n",
       " ModelResponse(parts=[ToolCallPart(tool_name='build_like_query_and_execute', args='{\"table_name\":\"base_products\",\"column_name\":\"persian_name\",\"variable_query\":\"گیاه طبیعی بلک گلد بنسای نارگل کد ۰۱۰۸\",\"limit\":3,\"columns\":[\"random_key\",\"persian_name\"]}', tool_call_id='call_O9eqb28RaE63eaOxn8WdF84f')], usage=RequestUsage(input_tokens=2097, output_tokens=62, details={'reasoning_tokens': 0}), model_name='openai/gpt-4.1-mini', timestamp=datetime.datetime(2025, 9, 18, 5, 6, 9, tzinfo=TzInfo(UTC)), provider_name='openai', provider_details={'finish_reason': 'tool_calls'}, provider_response_id='gen-1758171969-vfpZzAMpRGkZRmf0W6Qk', finish_reason='tool_call'),\n",
       " ModelRequest(parts=[ToolReturnPart(tool_name='build_like_query_and_execute', content=[], tool_call_id='call_O9eqb28RaE63eaOxn8WdF84f', timestamp=datetime.datetime(2025, 9, 18, 5, 6, 2, 953913, tzinfo=datetime.timezone.utc))]),\n",
       " ModelResponse(parts=[ToolCallPart(tool_name='build_like_query_and_execute', args='{\"table_name\":\"base_products\",\"column_name\":\"persian_name\",\"variable_query\":\"بلک گلد بنسای\",\"limit\":3,\"columns\":[\"random_key\",\"persian_name\"]}', tool_call_id='call_v6kwNqdls3xipGNUACcr7ef6')], usage=RequestUsage(input_tokens=2171, cache_read_tokens=2048, output_tokens=51, details={'accepted_prediction_tokens': 0, 'audio_tokens': 0, 'reasoning_tokens': 0, 'rejected_prediction_tokens': 0}), model_name='gpt-4.1-mini-2025-04-14', timestamp=datetime.datetime(2025, 9, 18, 5, 6, 14, tzinfo=TzInfo(UTC)), provider_name='openai', provider_details={'finish_reason': 'tool_calls'}, provider_response_id='chatcmpl-CH18QfTbMRNakZgP3OULVTyNeSJI9', finish_reason='tool_call'),\n",
       " ModelRequest(parts=[ToolReturnPart(tool_name='build_like_query_and_execute', content=[RealDictRow({'random_key': 'wmkpoc', 'persian_name': 'گیاه طبیعی بلک گلد بنسای نارگل کد 0108'})], tool_call_id='call_v6kwNqdls3xipGNUACcr7ef6', timestamp=datetime.datetime(2025, 9, 18, 5, 6, 7, 271095, tzinfo=datetime.timezone.utc))]),\n",
       " ModelResponse(parts=[ToolCallPart(tool_name='build_exact_query_and_execute', args='{\"table_name\":\"members\",\"column_name\":\"base_random_key\",\"variable_query\":\"wmkpoc\",\"limit\":10,\"columns\":[\"price\"]}', tool_call_id='call_vYsn3SIsZMXv4HOdru9HYWrQ')], usage=RequestUsage(input_tokens=2265, cache_read_tokens=2176, output_tokens=41, details={'accepted_prediction_tokens': 0, 'audio_tokens': 0, 'reasoning_tokens': 0, 'rejected_prediction_tokens': 0}), model_name='gpt-4.1-mini-2025-04-14', timestamp=datetime.datetime(2025, 9, 18, 5, 6, 19, tzinfo=TzInfo(UTC)), provider_name='openai', provider_details={'finish_reason': 'tool_calls'}, provider_response_id='chatcmpl-CH18VT5e1t8CVzzsNLrBCHGn2PhWc', finish_reason='tool_call'),\n",
       " ModelRequest(parts=[ToolReturnPart(tool_name='build_exact_query_and_execute', content=[RealDictRow({'price': 275000})], tool_call_id='call_vYsn3SIsZMXv4HOdru9HYWrQ', timestamp=datetime.datetime(2025, 9, 18, 5, 6, 9, 258509, tzinfo=datetime.timezone.utc))]),\n",
       " ModelResponse(parts=[ToolCallPart(tool_name='final_result', args='{\"message\":\"کمترین قیمت برای پایه محصول گیاه طبیعی بلک گلد بنسای نارگل کد ۰۱۰۸ برابر با 275000 تومان است.\",\"base_random_keys\":null,\"member_random_keys\":null}', tool_call_id='call_lk8qyPuuPojXwV7yEbHuyD8G')], usage=RequestUsage(input_tokens=2324, cache_read_tokens=2048, output_tokens=56, details={'reasoning_tokens': 0}), model_name='openai/gpt-4.1-mini', timestamp=datetime.datetime(2025, 9, 18, 5, 6, 20, tzinfo=TzInfo(UTC)), provider_name='openai', provider_details={'finish_reason': 'tool_calls'}, provider_response_id='gen-1758171980-yU3LY2TTwzGNuwmZMvnQ', finish_reason='tool_call'),\n",
       " ModelRequest(parts=[ToolReturnPart(tool_name='final_result', content='Final result processed.', tool_call_id='call_lk8qyPuuPojXwV7yEbHuyD8G', timestamp=datetime.datetime(2025, 9, 18, 5, 6, 10, 834303, tzinfo=datetime.timezone.utc))])]"
      ]
     },
     "execution_count": 23,
     "metadata": {},
     "output_type": "execute_result"
    }
   ],
   "source": [
    "result.all_messages()"
   ]
  },
  {
   "cell_type": "code",
   "execution_count": null,
   "id": "56236f74",
   "metadata": {},
   "outputs": [],
   "source": []
  }
 ],
 "metadata": {
  "kernelspec": {
   "display_name": ".venv",
   "language": "python",
   "name": "python3"
  },
  "language_info": {
   "codemirror_mode": {
    "name": "ipython",
    "version": 3
   },
   "file_extension": ".py",
   "mimetype": "text/x-python",
   "name": "python",
   "nbconvert_exporter": "python",
   "pygments_lexer": "ipython3",
   "version": "3.13.6"
  }
 },
 "nbformat": 4,
 "nbformat_minor": 5
}
