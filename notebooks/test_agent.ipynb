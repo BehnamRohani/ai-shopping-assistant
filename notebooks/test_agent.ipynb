{
 "cells": [
  {
   "cell_type": "code",
   "execution_count": 1,
   "id": "f5af9da3",
   "metadata": {},
   "outputs": [],
   "source": [
    "import os\n",
    "sys.path.append(os.path.abspath(\"..\"))\n",
    "from shopping_agent import run_shopping_agent"
   ]
  },
  {
   "cell_type": "code",
   "execution_count": 13,
   "id": "f112e751",
   "metadata": {},
   "outputs": [
    {
     "name": "stdout",
     "output_type": "stream",
     "text": [
      "Step-by-step plan:\n",
      "\n",
      "0. Translation:\n",
      "   - User asks: \"Which of these mugs—'ماگ-لیوان هندوانه فانتزی و کارتونی کد 1375' (Watermelon Fantasy and Cartoon Mug-Glass Code 1375) or 'ماگ لته خوری سرامیکی با زیره کد 741' (Ceramic Latte Mug with Saucer Code 741)—has a cartoon and fantasy style and is more suitable for children or teenagers?\"\n",
      "   - Key words: cartoon, fantasy, suitable for children/teenagers.\n",
      "\n",
      "1. What does the user want?\n",
      "   - The user wants a comparison between two specific mugs to determine which one has a cartoon/fantasy style and is more suitable for kids or teens.\n",
      "   - Product names to extract:\n",
      "     + ماگ-لیوان هندوانه فانتزی و کارتونی کد 1375\n",
      "     + ماگ لته خوری سرامیکی با زیره کد 741\n",
      "\n",
      "2. Which parts of output to fill?\n",
      "   - message: Yes (explanation/comparison of suitability and style)\n",
      "   - base_random_keys: Yes (for both products, to identify them)\n",
      "   - member_random_keys: Optional (if needed for more detail, but not required for this comparison)\n",
      "\n",
      "3. Subtasks:\n",
      "   a. Search for both products in the base_products table using their Persian names (preferably with build_like_query_and_execute for partial matches).\n",
      "   b. Retrieve their extra_features (especially style, target audience, etc.), image_url, and persian_name.\n",
      "   c. Analyze extra_features for keywords like \"کارتونی\", \"فانتزی\", \"کودک\", \"نوجوان\" (cartoon, fantasy, child, teenager).\n",
      "   d. Compare both products based on these features.\n",
      "   e. Compose a message explaining which mug is more cartoon/fantasy styled and more suitable for children/teens.\n",
      "   f. Return the base_random_keys for both products for reference.\n",
      "\n",
      "Summary:\n",
      "- Search for both mugs by name.\n",
      "- Extract and analyze their features for cartoon/fantasy style and suitability for kids/teens.\n",
      "- Compare and explain which is more appropriate.\n",
      "- Return their base_random_keys and a message with the comparison.\n"
     ]
    }
   ],
   "source": [
    "# instruction = \"لطفاً دراور چهار کشو (کد D14) را برای من تهیه کنید.\"\n",
    "# instruction = \"عرض پارچه تریکو جودون 1/30 لاکرا گردباف نوریس به رنگ زرد طلایی چقدر است؟\"\n",
    "# instruction = \"کمترین قیمت در این پایه برای گیاه طبیعی بلک گلد بنسای نارگل کد ۰۱۰۸ چقدر است؟\"\n",
    "# instruction = \"یک لپ تاپ مناسبمناسب بهم پیشنهاد کن.\"\n",
    "# instruction = \"\"\"\n",
    "# چند تا کالا پیدا کن که برای فروشگاه های متفاوتی هستند و بهم معرفی کن.\n",
    "# # \"\"\"\n",
    "instruction = \"\"\"\n",
    "\"کدام یک از این ماگ‌های خرید ماگ-لیوان هندوانه فانتزی و کارتونی کد 1375 یا ماگ لته خوری سرامیکی با زیره کد 741 دارای سبک کارتونی و فانتزی بوده و برای کودکان یا نوجوانان مناسب‌تر است؟\"\n",
    "\"\"\"\n",
    "# instruction = \"\"\"\n",
    "# What is the average price of all products in Torob?\n",
    "# \"\"\"\n",
    "result, out = await run_shopping_agent(instruction)"
   ]
  },
  {
   "cell_type": "code",
   "execution_count": 14,
   "id": "13bf9fd2",
   "metadata": {},
   "outputs": [
    {
     "data": {
      "text/plain": [
       "AgentRunResult(output=ShoppingResponse(message='ماگ-لیوان هندوانه فانتزی و کارتونی کد 1375 دارای سبک کارتونی و فانتزی است و برای کودکان یا نوجوانان مناسب\\u200cتر است. ماگ لته خوری سرامیکی با زیره کد 741 سبک کارتونی و فانتزی ندارد.', base_random_keys=['hhtgaa', 'qjhdsx'], member_random_keys=None))"
      ]
     },
     "execution_count": 14,
     "metadata": {},
     "output_type": "execute_result"
    }
   ],
   "source": [
    "result"
   ]
  },
  {
   "cell_type": "code",
   "execution_count": 15,
   "id": "6a553b5f",
   "metadata": {},
   "outputs": [
    {
     "data": {
      "text/plain": [
       "{'message': 'ماگ-لیوان هندوانه فانتزی و کارتونی کد 1375 دارای سبک کارتونی و فانتزی است و برای کودکان یا نوجوانان مناسب\\u200cتر است.',\n",
       " 'base_random_keys': ['hhtgaa', 'qjhdsx'],\n",
       " 'member_random_keys': None}"
      ]
     },
     "execution_count": 15,
     "metadata": {},
     "output_type": "execute_result"
    }
   ],
   "source": [
    "out"
   ]
  },
  {
   "cell_type": "code",
   "execution_count": 16,
   "id": "9dde5de5",
   "metadata": {},
   "outputs": [
    {
     "data": {
      "text/plain": [
       "{'message': 'ماگ-لیوان هندوانه فانتزی و کارتونی کد 1375 دارای سبک کارتونی و فانتزی است و برای کودکان یا نوجوانان مناسب\\u200cتر است. ماگ لته خوری سرامیکی با زیره کد 741 سبک کارتونی و فانتزی ندارد.',\n",
       " 'base_random_keys': ['hhtgaa', 'qjhdsx'],\n",
       " 'member_random_keys': None}"
      ]
     },
     "execution_count": 16,
     "metadata": {},
     "output_type": "execute_result"
    }
   ],
   "source": [
    "dict(result.output)"
   ]
  },
  {
   "cell_type": "code",
   "execution_count": 17,
   "id": "ce583a3d",
   "metadata": {},
   "outputs": [
    {
     "data": {
      "text/plain": [
       "RunUsage(input_tokens=5067, cache_read_tokens=3328, output_tokens=235, details={'accepted_prediction_tokens': 0, 'audio_tokens': 0, 'reasoning_tokens': 0, 'rejected_prediction_tokens': 0}, requests=2, tool_calls=2)"
      ]
     },
     "execution_count": 17,
     "metadata": {},
     "output_type": "execute_result"
    }
   ],
   "source": [
    "result.usage()"
   ]
  },
  {
   "cell_type": "code",
   "execution_count": 18,
   "id": "459e7b61",
   "metadata": {},
   "outputs": [
    {
     "data": {
      "text/plain": [
       "[ModelRequest(parts=[SystemPromptPart(content='\\n\\nYou are an AI Shopping Assistant for Torob. Your job is to answer user instructions by retrieving product information.\\n\\n\\n\\nYou have access to the following tools:\\n\\n1. build_exact_query_and_execute(table_name: str, column_name: str, variable_query: str, limit: int = 10, columns: list[str] | None = None) -> list[RealDictRow] | str:\\n   Builds and executes a SQL query that searches for rows where a column exactly matches\\n   the given value. You can specify which columns to return. Enforces a minimum limit of 1.\\n\\n2. build_like_query_and_execute(table_name: str, column_name: str, variable_query: str, limit: int = 10, columns: list[str] | None = None) -> list[RealDictRow] | str:\\n   Builds and executes a SQL query that searches for rows where a column contains\\n   a given substring (case-insensitive). You can specify which columns to return.\\n   Enforces a minimum limit of 3.\\n   \\n3. generate_sql_query(instruction: str) -> tuple[str, str]: \\n   Generates a PostgreSQL query from natural language.\\n\\n4. execute_sql(query: str) -> list[RealDictRow]: \\n   Executes a PostgreSQL query and returns results.\\n\\n\\n\\n1. Always return the Pydantic response with these fields:\\n   - message: a short, direct answer to the user’s request.\\n   - base_random_keys: list of random_key(s) for products (only if user is asking about products).\\n   - member_random_keys: list of random_key(s) for shops (only if user is asking about shops).\\n2. base_random_keys should always contain the **final product(s) the user actually requested**. Do not include intermediate results or related products unless explicitly asked.\\n3. Keep the `message` concise, containing only the requested information. No extra commentary.\\n\\n\\n\\nBelow is structure of data in database:\\n\\nWe have data from torob.com structured in multiple tables. Below is a detailed description of each table and its columns:\\n\\n1. Table: searches\\n- id: Unique identifier for each search result page. Used to connect logs like views and clicks to this search.\\n- uid: Unique identifier for the entire search session (same across all pages of a search; equals id of page 0).\\n- query: The search phrase entered by the user.\\n- page: Page number in search results (starts from 0).\\n- timestamp: Exact UTC time when the search was logged.\\n- session_id: Identifier of the user’s session.\\n- result_base_product_rks: A string (list encoded in string) of base product random keys shown in the results.\\n- category_id: ID of the category user restricted the search to (0 means no category).\\n- category_brand_boosts: A string (list encoded in string) of categories/brands boosted in ranking for this search.\\n\\n2. Table: base_views\\n- id: Unique identifier for each product base view.\\n- search_id: The search page ID this view came from (links to searches.id).\\n- base_product_rk: Random key of the base product that was viewed.\\n- timestamp: Exact UTC time when the view was logged.\\n\\n3. Table: final_clicks\\n- id: Unique identifier for each final click.\\n- base_view_id: ID linking this click to a base product view (links to base_views.id).\\n- shop_id: Identifier of the shop where the clicked product belongs.\\n- timestamp: Exact UTC time when the click occurred.\\n\\n4. Table: base_products\\n- random_key: Unique identifier of a base product.\\n- persian_name: Persian name of the product.\\n- english_name: English name of the product.\\n- category_id: Category ID of the product.\\n- brand_id: Brand ID of the product.\\n- extra_features: JSON string of additional product features.\\nExample: Features may be width (عرض), height (ارتفاع), size (اندازه), color (رنگ), material (جنس), originality, stock_status, meterage, piece_count, power, etc.\\n- image_url: URL of the product’s image.\\n- members: A string (list encoded in string) of random keys of shop products linked to this base product.\\n\\n5. Table: members (shop products)\\n- random_key: Unique identifier of a product in a shop.\\n- base_random_key: Random key linking the shop product to its base product.\\n- shop_id: Identifier of the shop offering the product.\\n- price: Price of the product in this shop.\\n\\n6. Table: shops\\n- id: Unique identifier of the shop.\\n- city_id: ID of the city where the shop is located.\\n- score: Shop’s rating in Torob (0 to 5).\\n- has_warranty: Boolean indicating whether the shop has Torob warranty.\\n\\n7. Table: categories\\n- id: Unique identifier of the category.\\n- title: Title of the category.\\n- parent_id: ID of the parent category (-1 if no parent). Categories are hierarchical.\\n\\n8. Table: brands\\n- id: Unique identifier of the brand.\\n- title: Title of the brand.\\n\\n9. Table: cities\\n- id: Unique identifier of the city.\\n- name: Name of the city.\\n', timestamp=datetime.datetime(2025, 9, 18, 20, 9, 43, 230149, tzinfo=datetime.timezone.utc)), UserPromptPart(content='Input: \"کدام یک از این ماگ\\u200cهای خرید ماگ-لیوان هندوانه فانتزی و کارتونی کد 1375 یا ماگ لته خوری سرامیکی با زیره کد 741 دارای سبک کارتونی و فانتزی بوده و برای کودکان یا نوجوانان مناسب\\u200cتر است?\"\\n\\nStep-by-step plan:\\n\\n0. Translation:\\n   - User asks: \"Which of these mugs—\\'ماگ-لیوان هندوانه فانتزی و کارتونی کد 1375\\' (Watermelon Fantasy and Cartoon Mug-Glass Code 1375) or \\'ماگ لته خوری سرامیکی با زیره کد 741\\' (Ceramic Latte Mug with Saucer Code 741)—has a cartoon and fantasy style and is more suitable for children or teenagers?\"\\n   - Key words: cartoon, fantasy, suitable for children/teenagers.\\n\\n1. What does the user want?\\n   - The user wants a comparison between two specific mugs to determine which one has a cartoon/fantasy style and is more suitable for kids or teens.\\n   - Product names to extract:\\n     + ماگ-لیوان هندوانه فانتزی و کارتونی کد 1375\\n     + ماگ لته خوری سرامیکی با زیره کد 741\\n\\n2. Which parts of output to fill?\\n   - message: Yes (explanation/comparison of suitability and style)\\n   - base_random_keys: Yes (for both products, to identify them)\\n   - member_random_keys: Optional (if needed for more detail, but not required for this comparison)\\n\\n3. Subtasks:\\n   a. Search for both products in the base_products table using their Persian names (preferably with build_like_query_and_execute for partial matches).\\n   b. Retrieve their extra_features (especially style, target audience, etc.), image_url, and persian_name.\\n   c. Analyze extra_features for keywords like \"کارتونی\", \"فانتزی\", \"کودک\", \"نوجوان\" (cartoon, fantasy, child, teenager).\\n   d. Compare both products based on these features.\\n   e. Compose a message explaining which mug is more cartoon/fantasy styled and more suitable for children/teens.\\n   f. Return the base_random_keys for both products for reference.\\n\\nSummary:\\n- Search for both mugs by name.\\n- Extract and analyze their features for cartoon/fantasy style and suitability for kids/teens.\\n- Compare and explain which is more appropriate.\\n- Return their base_random_keys and a message with the comparison.', timestamp=datetime.datetime(2025, 9, 18, 20, 9, 43, 230156, tzinfo=datetime.timezone.utc))]),\n",
       " ModelResponse(parts=[ToolCallPart(tool_name='build_like_query_and_execute', args='{\"table_name\": \"base_products\", \"column_name\": \"persian_name\", \"variable_query\": \"ماگ-لیوان هندوانه فانتزی و کارتونی کد 1375\", \"limit\": 5, \"columns\": [\"random_key\", \"persian_name\", \"extra_features\"]}', tool_call_id='call_2J4ew0ggcm9SzuNccRlBiNFy'), ToolCallPart(tool_name='build_like_query_and_execute', args='{\"table_name\": \"base_products\", \"column_name\": \"persian_name\", \"variable_query\": \"ماگ لته خوری سرامیکی با زیره کد 741\", \"limit\": 5, \"columns\": [\"random_key\", \"persian_name\", \"extra_features\"]}', tool_call_id='call_Qf8n23kQP0BjyUJX1JQbWnqE')], usage=RequestUsage(input_tokens=2283, cache_read_tokens=1664, output_tokens=145, details={'accepted_prediction_tokens': 0, 'audio_tokens': 0, 'reasoning_tokens': 0, 'rejected_prediction_tokens': 0}), model_name='gpt-4.1-mini-2025-04-14', timestamp=datetime.datetime(2025, 9, 18, 20, 9, 55, tzinfo=TzInfo(UTC)), provider_name='openai', provider_details={'finish_reason': 'tool_calls'}, provider_response_id='chatcmpl-CHFExqFe9btRVBtO43ysF9mzRNgPI', finish_reason='tool_call'),\n",
       " ModelRequest(parts=[ToolReturnPart(tool_name='build_like_query_and_execute', content=[RealDictRow({'random_key': 'hhtgaa', 'persian_name': 'خرید ماگ-لیوان هندوانه فانتزی و کارتونی کد 1375', 'extra_features': '{\"capacity\": \"\", \"material\": \"\\\\u0633\\\\u0631\\\\u0627\\\\u0645\\\\u06cc\\\\u06a9\", \"originality\": \"\", \"stock_status\": \"new\"}'})], tool_call_id='call_2J4ew0ggcm9SzuNccRlBiNFy', timestamp=datetime.datetime(2025, 9, 18, 20, 9, 52, 249388, tzinfo=datetime.timezone.utc)), ToolReturnPart(tool_name='build_like_query_and_execute', content=[RealDictRow({'random_key': 'qjhdsx', 'persian_name': 'ماگ لته خوری سرامیکی با زیره کد 741', 'extra_features': '{\"capacity\": \"\", \"material\": \"\\\\u0633\\\\u0631\\\\u0627\\\\u0645\\\\u06cc\\\\u06a9\", \"originality\": \"\", \"stock_status\": \"new\"}'})], tool_call_id='call_Qf8n23kQP0BjyUJX1JQbWnqE', timestamp=datetime.datetime(2025, 9, 18, 20, 9, 52, 86263, tzinfo=datetime.timezone.utc))]),\n",
       " ModelResponse(parts=[ToolCallPart(tool_name='final_result', args='{\"message\":\"ماگ-لیوان هندوانه فانتزی و کارتونی کد 1375 دارای سبک کارتونی و فانتزی است و برای کودکان یا نوجوانان مناسب\\u200cتر است. ماگ لته خوری سرامیکی با زیره کد 741 سبک کارتونی و فانتزی ندارد.\",\"base_random_keys\":[\"hhtgaa\",\"qjhdsx\"]}', tool_call_id='call_1GQsYAb2JcOsDkxjn94C19nC')], usage=RequestUsage(input_tokens=2784, cache_read_tokens=1664, output_tokens=90, details={'accepted_prediction_tokens': 0, 'audio_tokens': 0, 'reasoning_tokens': 0, 'rejected_prediction_tokens': 0}), model_name='gpt-4.1-mini-2025-04-14', timestamp=datetime.datetime(2025, 9, 18, 20, 10, 4, tzinfo=TzInfo(UTC)), provider_name='openai', provider_details={'finish_reason': 'tool_calls'}, provider_response_id='chatcmpl-CHFF6neeXocurMFbpYWG1896Ye3Du', finish_reason='tool_call'),\n",
       " ModelRequest(parts=[ToolReturnPart(tool_name='final_result', content='Final result processed.', tool_call_id='call_1GQsYAb2JcOsDkxjn94C19nC', timestamp=datetime.datetime(2025, 9, 18, 20, 9, 54, 667106, tzinfo=datetime.timezone.utc))])]"
      ]
     },
     "execution_count": 18,
     "metadata": {},
     "output_type": "execute_result"
    }
   ],
   "source": [
    "result.all_messages()"
   ]
  },
  {
   "cell_type": "code",
   "execution_count": null,
   "id": "11c62eb1",
   "metadata": {},
   "outputs": [],
   "source": []
  },
  {
   "cell_type": "code",
   "execution_count": null,
   "id": "38198333",
   "metadata": {},
   "outputs": [],
   "source": []
  }
 ],
 "metadata": {
  "kernelspec": {
   "display_name": ".venv",
   "language": "python",
   "name": "python3"
  },
  "language_info": {
   "codemirror_mode": {
    "name": "ipython",
    "version": 3
   },
   "file_extension": ".py",
   "mimetype": "text/x-python",
   "name": "python",
   "nbconvert_exporter": "python",
   "pygments_lexer": "ipython3",
   "version": "3.13.6"
  }
 },
 "nbformat": 4,
 "nbformat_minor": 5
}
