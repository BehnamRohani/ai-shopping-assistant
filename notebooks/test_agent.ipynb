{
 "cells": [
  {
   "cell_type": "code",
   "execution_count": 1,
   "id": "f5af9da3",
   "metadata": {},
   "outputs": [],
   "source": [
    "import os, sys\n",
    "sys.path.append(os.path.abspath(\"..\"))\n",
    "from shopping_agent import run_shopping_agent"
   ]
  },
  {
   "cell_type": "code",
   "execution_count": 43,
   "id": "f112e751",
   "metadata": {},
   "outputs": [
    {
     "name": "stdout",
     "output_type": "stream",
     "text": [
      "Plan:\n",
      "- The user is asking for a specific attribute (عرض = width) of a particular product (پارچه تریکو جودون 1/30 لاکرا گردباف نوریس به رنگ زرد طلایی).\n",
      "- I need to find the base product that matches this Persian name using a LIKE query.\n",
      "- Then, extract the \"عرض\" (width) attribute from the extra_features JSON of that base product.\n",
      "- Output the width value in the message field. No need to return base_random_keys or member/shop info.\n"
     ]
    }
   ],
   "source": [
    "# instruction = \"لطفاً دراور چهار کشو (کد D14) را برای من تهیه کنید.\"\n",
    "instruction = \"عرض پارچه تریکو جودون 1/30 لاکرا گردباف نوریس به رنگ زرد طلایی چقدر است؟\"\n",
    "# instruction = \"کمترین قیمت در این پایه برای گیاه طبیعی بلک گلد بنسای نارگل کد ۰۱۰۸ چقدر است؟\"\n",
    "# instruction = \"یک لپ تاپ مناسبمناسب بهم پیشنهاد کن.\"\n",
    "# instruction = \"\"\"\n",
    "# چند تا کالا پیدا کن که برای فروشگاه های متفاوتی هستند و بهم معرفی کن.\n",
    "# # \"\"\"\n",
    "# instruction = \"\"\"\n",
    "# \"کدام یک از این ماگ‌های خرید ماگ-لیوان هندوانه فانتزی و کارتونی کد 1375 یا ماگ لته خوری سرامیکی با زیره کد 741 دارای سبک کارتونی و فانتزی بوده و برای کودکان یا نوجوانان مناسب‌تر است؟\"\n",
    "# \"\"\"\n",
    "# instruction = \"\"\"\n",
    "# What is the average price of all products in Torob?\n",
    "# \"\"\"\n",
    "result, out = await run_shopping_agent(instruction, use_initial_plan = True)"
   ]
  },
  {
   "cell_type": "code",
   "execution_count": 44,
   "id": "13bf9fd2",
   "metadata": {},
   "outputs": [
    {
     "data": {
      "text/plain": [
       "AgentRunResult(output=ShoppingResponse(message='عرض پارچه تریکو جودون 1/30 لاکرا گردباف نوریس حدود 1.18 متر است.', base_random_keys=['dsgroz'], member_random_keys=None))"
      ]
     },
     "execution_count": 44,
     "metadata": {},
     "output_type": "execute_result"
    }
   ],
   "source": [
    "result"
   ]
  },
  {
   "cell_type": "code",
   "execution_count": 45,
   "id": "6a553b5f",
   "metadata": {},
   "outputs": [
    {
     "data": {
      "text/plain": [
       "{'message': '1.18 متر',\n",
       " 'base_random_keys': ['dsgroz'],\n",
       " 'member_random_keys': None}"
      ]
     },
     "execution_count": 45,
     "metadata": {},
     "output_type": "execute_result"
    }
   ],
   "source": [
    "out"
   ]
  },
  {
   "cell_type": "code",
   "execution_count": 46,
   "id": "9dde5de5",
   "metadata": {},
   "outputs": [
    {
     "data": {
      "text/plain": [
       "{'message': 'عرض پارچه تریکو جودون 1/30 لاکرا گردباف نوریس حدود 1.18 متر است.',\n",
       " 'base_random_keys': ['dsgroz'],\n",
       " 'member_random_keys': None}"
      ]
     },
     "execution_count": 46,
     "metadata": {},
     "output_type": "execute_result"
    }
   ],
   "source": [
    "dict(result.output)"
   ]
  },
  {
   "cell_type": "code",
   "execution_count": 47,
   "id": "ce583a3d",
   "metadata": {},
   "outputs": [
    {
     "data": {
      "text/plain": [
       "RunUsage(input_tokens=6283, cache_read_tokens=5248, output_tokens=190, details={'reasoning_tokens': 0, 'accepted_prediction_tokens': 0, 'audio_tokens': 0, 'rejected_prediction_tokens': 0}, requests=3, tool_calls=2)"
      ]
     },
     "execution_count": 47,
     "metadata": {},
     "output_type": "execute_result"
    }
   ],
   "source": [
    "result.usage()"
   ]
  },
  {
   "cell_type": "code",
   "execution_count": 48,
   "id": "459e7b61",
   "metadata": {},
   "outputs": [
    {
     "data": {
      "text/plain": [
       "[ModelRequest(parts=[SystemPromptPart(content='\\n\\nYou are an AI Shopping Assistant for Torob. Your job is to answer user instructions by retrieving product information.\\n\\n\\n\\nYou have access to the following tools:\\n\\n1. build_exact_query_and_execute(table_name: str, column_name: str, variable_query: str, limit: int = 10, columns: list[str] | None = None) -> list[RealDictRow] | str:\\n   Builds and executes a SQL query that searches for rows where a column exactly matches\\n   the given value. You can specify which columns to return. Enforces a minimum limit of 1.\\n\\n2. build_like_query_and_execute(table_name: str, column_name: str, variable_query: str, limit: int = 10, columns: list[str] | None = None) -> list[RealDictRow] | str:\\n   Builds and executes a SQL query that searches for rows where a column contains\\n   a given substring (case-insensitive). You can specify which columns to return.\\n   Enforces a minimum limit of 3.\\n   \\n3. generate_sql_query(instruction: str) -> tuple[str, str]: \\n   Generates a PostgreSQL query from natural language.\\n\\n4. execute_sql(query: str) -> list[RealDictRow]: \\n   Executes a PostgreSQL query and returns results.\\n\\n\\n\\n1. Always return the Pydantic response with these fields:\\n   - message: a short, direct answer to the user’s request.\\n   - base_random_keys: list of random_key(s) for products (only if user is asking about products).\\n   - member_random_keys: list of random_key(s) for shops (only if user is asking about shops).\\n2. base_random_keys should always contain the **final product(s) the user actually requested**. Do not include intermediate results or related products unless explicitly asked.\\n3. Keep the `message` concise, containing only the requested information. No extra commentary.\\n\\n\\nBelow is structure of data in database:\\n\\nWe have data from torob.com structured in multiple tables. Below is a detailed description of each table and its columns:\\n\\n1. Table: searches\\n- id: Unique identifier for each search result page. Used to connect logs like views and clicks to this search.\\n- uid: Unique identifier for the entire search session (same across all pages of a search; equals id of page 0).\\n- query: The search phrase entered by the user.\\n- page: Page number in search results (starts from 0).\\n- timestamp: Exact UTC time when the search was logged.\\n- session_id: Identifier of the user’s session.\\n- result_base_product_rks: A string (list encoded in string) of base product random keys shown in the results.\\n- category_id: ID of the category user restricted the search to (0 means no category).\\n- category_brand_boosts: A string (list encoded in string) of categories/brands boosted in ranking for this search.\\n\\n2. Table: base_views\\n- id: Unique identifier for each product base view.\\n- search_id: The search page ID this view came from (links to searches.id).\\n- base_product_rk: Random key of the base product that was viewed.\\n- timestamp: Exact UTC time when the view was logged.\\n\\n3. Table: final_clicks\\n- id: Unique identifier for each final click.\\n- base_view_id: ID linking this click to a base product view (links to base_views.id).\\n- shop_id: Identifier of the shop where the clicked product belongs.\\n- timestamp: Exact UTC time when the click occurred.\\n\\n4. Table: base_products\\n- random_key: Unique identifier of a base product.\\n- persian_name: Persian name of the product.\\n- english_name: English name of the product.\\n- category_id: Category ID of the product.\\n- brand_id: Brand ID of the product.\\n- extra_features: JSON string of additional product features.\\nExample: Features may be width (عرض), height (ارتفاع), size (اندازه), color (رنگ), material (جنس), originality, stock_status, meterage, piece_count, power, etc.\\n- image_url: URL of the product’s image.\\n- members: A string (list encoded in string) of random keys of shop products linked to this base product.\\n\\n5. Table: members (shop products)\\n- random_key: Unique identifier of a product in a shop.\\n- base_random_key: Random key linking the shop product to its base product.\\n- shop_id: Identifier of the shop offering the product.\\n- price: Price of the product in this shop.\\n\\n6. Table: shops\\n- id: Unique identifier of the shop.\\n- city_id: ID of the city where the shop is located.\\n- score: Shop’s rating in Torob (0 to 5).\\n- has_warranty: Boolean indicating whether the shop has Torob warranty.\\n\\n7. Table: categories\\n- id: Unique identifier of the category.\\n- title: Title of the category.\\n- parent_id: ID of the parent category (-1 if no parent). Categories are hierarchical.\\n\\n8. Table: brands\\n- id: Unique identifier of the brand.\\n- title: Title of the brand.\\n\\n9. Table: cities\\n- id: Unique identifier of the city.\\n- name: Name of the city.\\n', timestamp=datetime.datetime(2025, 9, 19, 6, 3, 32, 481156, tzinfo=datetime.timezone.utc)), UserPromptPart(content='Input: عرض پارچه تریکو جودون 1/30 لاکرا گردباف نوریس به رنگ زرد طلایی چقدر است?\\n\\nPlan:\\n- The user is asking for a specific attribute (عرض = width) of a particular product (پارچه تریکو جودون 1/30 لاکرا گردباف نوریس به رنگ زرد طلایی).\\n- I need to find the base product that matches this Persian name using a LIKE query.\\n- Then, extract the \"عرض\" (width) attribute from the extra_features JSON of that base product.\\n- Output the width value in the message field. No need to return base_random_keys or member/shop info.', timestamp=datetime.datetime(2025, 9, 19, 6, 3, 32, 481160, tzinfo=datetime.timezone.utc))]),\n",
       " ModelResponse(parts=[ToolCallPart(tool_name='build_like_query_and_execute', args='{\"table_name\":\"base_products\",\"column_name\":\"persian_name\",\"variable_query\":\"پارچه تریکو جودون 1/30 لاکرا گردباف نوریس به رنگ زرد طلایی\",\"limit\":5,\"columns\":[\"random_key\",\"persian_name\",\"extra_features\"]}', tool_call_id='call_L35xi8xa7QoKYN6b5eDZ0W75')], usage=RequestUsage(input_tokens=1895, cache_read_tokens=1664, output_tokens=73, details={'reasoning_tokens': 0}), model_name='openai/gpt-4.1-mini', timestamp=datetime.datetime(2025, 9, 19, 6, 3, 47, tzinfo=TzInfo(UTC)), provider_name='openai', provider_details={'finish_reason': 'tool_calls'}, provider_response_id='gen-1758261827-1juCcxLGmKD6XRzjxivz', finish_reason='tool_call'),\n",
       " ModelRequest(parts=[ToolReturnPart(tool_name='build_like_query_and_execute', content=[], tool_call_id='call_L35xi8xa7QoKYN6b5eDZ0W75', timestamp=datetime.datetime(2025, 9, 19, 6, 3, 37, 750714, tzinfo=datetime.timezone.utc))]),\n",
       " ModelResponse(parts=[ToolCallPart(tool_name='build_like_query_and_execute', args='{\"table_name\":\"base_products\",\"column_name\":\"persian_name\",\"variable_query\":\"پارچه تریکو جودون 1/30 لاکرا گردباف نوریس\",\"limit\":5,\"columns\":[\"random_key\",\"persian_name\",\"extra_features\"]}', tool_call_id='call_lNMwqcvwbqaxeFxGSvqzfT8t')], usage=RequestUsage(input_tokens=1980, cache_read_tokens=1920, output_tokens=67, details={'reasoning_tokens': 0}), model_name='openai/gpt-4.1-mini', timestamp=datetime.datetime(2025, 9, 19, 6, 3, 52, tzinfo=TzInfo(UTC)), provider_name='openai', provider_details={'finish_reason': 'tool_calls'}, provider_response_id='gen-1758261832-SVb7v7BQxiP8SlafjOtB', finish_reason='tool_call'),\n",
       " ModelRequest(parts=[ToolReturnPart(tool_name='build_like_query_and_execute', content=[RealDictRow({'random_key': 'dsgroz', 'persian_name': 'پارچه تریکو جودون 1/30 لاکرا گردباف نوریس | خردلی', 'extra_features': '{\"width\": \"1.18 meter\", \"meterage\": \"\", \"originality\": \"\", \"stock_status\": \"new\"}'}), RealDictRow({'random_key': 'iuszja', 'persian_name': 'پارچه تریکو جودون 1/30 لاکرا گردباف نوریس | آبی شالی', 'extra_features': '{\"width\": \"1.18 meter\", \"meterage\": \"\", \"originality\": \"\", \"stock_status\": \"new\"}'}), RealDictRow({'random_key': 'ahbmdp', 'persian_name': 'پارچه تریکو جودون 1/30 لاکرا گردباف نوریس | مدادی 29', 'extra_features': '{\"width\": \"1.18 meter\", \"meterage\": \"\", \"originality\": \"\", \"stock_status\": \"new\"}'}), RealDictRow({'random_key': 'syttmj', 'persian_name': 'پارچه تریکو جودون 1/30 لاکرا گردباف نوریس | عبایی', 'extra_features': '{\"width\": \"1.18 meter\", \"meterage\": \"\", \"originality\": \"\", \"stock_status\": \"new\"}'}), RealDictRow({'random_key': 'ouetkm', 'persian_name': 'پارچه تریکو جودون 1/30 لاکرا گردباف نوریس | آبی نفتی', 'extra_features': '{\"width\": \"1.18 meter\", \"meterage\": \"\", \"originality\": \"\", \"stock_status\": \"new\"}'})], tool_call_id='call_lNMwqcvwbqaxeFxGSvqzfT8t', timestamp=datetime.datetime(2025, 9, 19, 6, 3, 40, 488750, tzinfo=datetime.timezone.utc))]),\n",
       " ModelResponse(parts=[ToolCallPart(tool_name='final_result', args='{\"message\":\"عرض پارچه تریکو جودون 1/30 لاکرا گردباف نوریس حدود 1.18 متر است.\",\"base_random_keys\":[\"dsgroz\"]}', tool_call_id='call_DdaXiL3gQotlBkPjlx9gKW93')], usage=RequestUsage(input_tokens=2408, cache_read_tokens=1664, output_tokens=50, details={'accepted_prediction_tokens': 0, 'audio_tokens': 0, 'reasoning_tokens': 0, 'rejected_prediction_tokens': 0}), model_name='gpt-4.1-mini-2025-04-14', timestamp=datetime.datetime(2025, 9, 19, 6, 3, 55, tzinfo=TzInfo(UTC)), provider_name='openai', provider_details={'finish_reason': 'tool_calls'}, provider_response_id='chatcmpl-CHOVnqp3XeKg2OrtXcqjLiF2Kvf9D', finish_reason='tool_call'),\n",
       " ModelRequest(parts=[ToolReturnPart(tool_name='final_result', content='Final result processed.', tool_call_id='call_DdaXiL3gQotlBkPjlx9gKW93', timestamp=datetime.datetime(2025, 9, 19, 6, 3, 42, 790544, tzinfo=datetime.timezone.utc))])]"
      ]
     },
     "execution_count": 48,
     "metadata": {},
     "output_type": "execute_result"
    }
   ],
   "source": [
    "result.all_messages()"
   ]
  },
  {
   "cell_type": "code",
   "execution_count": null,
   "id": "11c62eb1",
   "metadata": {},
   "outputs": [],
   "source": []
  },
  {
   "cell_type": "code",
   "execution_count": null,
   "id": "38198333",
   "metadata": {},
   "outputs": [],
   "source": []
  }
 ],
 "metadata": {
  "kernelspec": {
   "display_name": ".venv",
   "language": "python",
   "name": "python3"
  },
  "language_info": {
   "codemirror_mode": {
    "name": "ipython",
    "version": 3
   },
   "file_extension": ".py",
   "mimetype": "text/x-python",
   "name": "python",
   "nbconvert_exporter": "python",
   "pygments_lexer": "ipython3",
   "version": "3.13.6"
  }
 },
 "nbformat": 4,
 "nbformat_minor": 5
}
