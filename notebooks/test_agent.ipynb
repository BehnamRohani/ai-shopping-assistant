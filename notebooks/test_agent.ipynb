{
 "cells": [
  {
   "cell_type": "code",
   "execution_count": 1,
   "id": "f5af9da3",
   "metadata": {},
   "outputs": [],
   "source": [
    "import os\n",
    "sys.path.append(os.path.abspath(\"..\"))\n",
    "from shopping_agent import run_shopping_agent"
   ]
  },
  {
   "cell_type": "code",
   "execution_count": 2,
   "id": "f112e751",
   "metadata": {},
   "outputs": [
    {
     "name": "stdout",
     "output_type": "stream",
     "text": [
      "Plan:\n",
      "\n",
      "1. Translate the user request: The user wants to know the lowest price for the base product \"گیاه طبیعی بلک گلد بنسای نارگل کد 0108\" (Natural Plant Black Gold Bonsai Nargol Code 0108).\n",
      "\n",
      "2. Identify the product name from the input: \"گیاه طبیعی بلک گلد بنسای نارگل کد 0108\".\n",
      "\n",
      "3. Search the base_products table for an exact match on the Persian name column with the product name \"گیاه طبیعی بلک گلد بنسای نارگل کد 0108\" to get the base product random key.\n",
      "\n",
      "4. Using the base product random key, query the members table to find all shop products (members) linked to this base product.\n",
      "\n",
      "5. From these members, find the minimum price among all shops.\n",
      "\n",
      "6. Return the minimum price found as the answer.\n",
      "\n",
      "Output to fill: message (with the minimum price information), base_random_keys (the base product random key), member_random_keys (can be null or omitted).\n"
     ]
    }
   ],
   "source": [
    "# instruction = \"لطفاً دراور چهار کشو (کد D14) را برای من تهیه کنید.\"\n",
    "# instruction = \"عرض پارچه تریکو جودون 1/30 لاکرا گردباف نوریس به رنگ زرد طلایی چقدر است؟\"\n",
    "instruction = \"کمترین قیمت در این پایه برای گیاه طبیعی بلک گلد بنسای نارگل کد ۰۱۰۸ چقدر است؟\"\n",
    "# instruction = \"یک لپ تاپ مناسب بهم پیشنهاد کن.\"\n",
    "# instruction = \"\"\"\n",
    "# چند تا کالا پیدا کن که برای فروشگاه های متفاوتی هستند و بهم معرفی کن.\n",
    "# # \"\"\"\n",
    "# instruction = \"\"\"\n",
    "# random_key رو برای اونی که مناسبتره بنویس.\n",
    "# \"کدام یک از این ماگ‌های خرید ماگ-لیوان هندوانه فانتزی و کارتونی کد 1375 یا ماگ لته خوری سرامیکی با زیره کد 741 دارای سبک کارتونی و فانتزی بوده و برای کودکان یا نوجوانان مناسب‌تر است؟\"\n",
    "# \"\"\"\n",
    "# instruction = \"\"\"\n",
    "# What is the average price of all products in Torob?\n",
    "# \"\"\"\n",
    "result = await run_shopping_agent(instruction)"
   ]
  },
  {
   "cell_type": "code",
   "execution_count": 3,
   "id": "13bf9fd2",
   "metadata": {},
   "outputs": [
    {
     "data": {
      "text/plain": [
       "AgentRunResult(output=ShoppingResponse(message='کمترین قیمت برای گیاه طبیعی بلک گلد بنسای نارگل کد 0108 برابر با 275000 تومان است.', base_random_keys=['wmkpoc'], member_random_keys=None))"
      ]
     },
     "execution_count": 3,
     "metadata": {},
     "output_type": "execute_result"
    }
   ],
   "source": [
    "result"
   ]
  },
  {
   "cell_type": "code",
   "execution_count": 4,
   "id": "9dde5de5",
   "metadata": {},
   "outputs": [
    {
     "data": {
      "text/plain": [
       "{'message': 'کمترین قیمت برای گیاه طبیعی بلک گلد بنسای نارگل کد 0108 برابر با 275000 تومان است.',\n",
       " 'base_random_keys': ['wmkpoc'],\n",
       " 'member_random_keys': None}"
      ]
     },
     "execution_count": 4,
     "metadata": {},
     "output_type": "execute_result"
    }
   ],
   "source": [
    "dict(result.output)"
   ]
  },
  {
   "cell_type": "code",
   "execution_count": 5,
   "id": "ce583a3d",
   "metadata": {},
   "outputs": [
    {
     "data": {
      "text/plain": [
       "RunUsage(input_tokens=6288, cache_read_tokens=3840, output_tokens=151, details={'reasoning_tokens': 0, 'accepted_prediction_tokens': 0, 'audio_tokens': 0, 'rejected_prediction_tokens': 0}, requests=3, tool_calls=2)"
      ]
     },
     "execution_count": 5,
     "metadata": {},
     "output_type": "execute_result"
    }
   ],
   "source": [
    "result.usage()"
   ]
  },
  {
   "cell_type": "code",
   "execution_count": 6,
   "id": "459e7b61",
   "metadata": {},
   "outputs": [
    {
     "data": {
      "text/plain": [
       "[ModelRequest(parts=[SystemPromptPart(content='\\n\\nYou are an AI Shopping Assistant for Torob. Your job is to answer user instructions by retrieving product information.\\n\\n\\n\\nYou have access to the following tools:\\n\\n1. build_exact_query_and_execute(table_name: str, column_name: str, variable_query: str, limit: int = 10, columns: list[str] | None = None) -> list[RealDictRow] | str:\\n   Builds and executes a SQL query that searches for rows where a column exactly matches\\n   the given value. You can specify which columns to return. Enforces a minimum limit of 1.\\n\\n2. build_like_query_and_execute(table_name: str, column_name: str, variable_query: str, limit: int = 10, columns: list[str] | None = None) -> list[RealDictRow] | str:\\n   Builds and executes a SQL query that searches for rows where a column contains\\n   a given substring (case-insensitive). You can specify which columns to return.\\n   Enforces a minimum limit of 3.\\n   \\n3. generate_sql_query(instruction: str) -> tuple[str, str]: \\n   Generates a PostgreSQL query from natural language.\\n\\n4. execute_sql(query: str) -> list[RealDictRow]: \\n   Executes a PostgreSQL query and returns results.\\n\\n### Priority:\\n- Use `generate_sql_query` only when a query cannot be expressed through the built-in query helpers.\\n\\n\\n\\n1. Always return the Pydantic response with these fields:\\n   - message: a short, direct answer to the user’s request.\\n   - base_random_keys: list of random_key(s) for products (only if user is asking about products).\\n   - member_random_keys: list of random_key(s) for shops (only if user is asking about shops).\\n2. base_random_keys should always contain the **final product(s) the user actually requested**. Do not include intermediate results or related products unless explicitly asked.\\n3. Keep the `message` concise, containing only the requested information. No extra commentary.\\n\\n\\n\\nBelow is structure of data in database:\\n\\nWe have data from torob.com structured in multiple tables. Below is a detailed description of each table and its columns:\\n\\n1. Table: searches\\n- id: Unique identifier for each search result page. Used to connect logs like views and clicks to this search.\\n- uid: Unique identifier for the entire search session (same across all pages of a search; equals id of page 0).\\n- query: The search phrase entered by the user.\\n- page: Page number in search results (starts from 0).\\n- timestamp: Exact UTC time when the search was logged.\\n- session_id: Identifier of the user’s session.\\n- result_base_product_rks: A string (list encoded in string) of base product random keys shown in the results.\\n- category_id: ID of the category user restricted the search to (0 means no category).\\n- category_brand_boosts: A string (list encoded in string) of categories/brands boosted in ranking for this search.\\n\\n2. Table: base_views\\n- id: Unique identifier for each product base view.\\n- search_id: The search page ID this view came from (links to searches.id).\\n- base_product_rk: Random key of the base product that was viewed.\\n- timestamp: Exact UTC time when the view was logged.\\n\\n3. Table: final_clicks\\n- id: Unique identifier for each final click.\\n- base_view_id: ID linking this click to a base product view (links to base_views.id).\\n- shop_id: Identifier of the shop where the clicked product belongs.\\n- timestamp: Exact UTC time when the click occurred.\\n\\n4. Table: base_products\\n- random_key: Unique identifier of a base product.\\n- persian_name: Persian name of the product.\\n- english_name: English name of the product.\\n- category_id: Category ID of the product.\\n- brand_id: Brand ID of the product.\\n- extra_features: JSON string of additional product features.\\nExample: Features may be width (عرض), height (ارتفاع), size (اندازه), color (رنگ), material (جنس), originality, stock_status, meterage, piece_count, power, etc.\\n- image_url: URL of the product’s image.\\n- members: A string (list encoded in string) of random keys of shop products linked to this base product.\\n\\n5. Table: members (shop products)\\n- random_key: Unique identifier of a product in a shop.\\n- base_random_key: Random key linking the shop product to its base product.\\n- shop_id: Identifier of the shop offering the product.\\n- price: Price of the product in this shop.\\n\\n6. Table: shops\\n- id: Unique identifier of the shop.\\n- city_id: ID of the city where the shop is located.\\n- score: Shop’s rating in Torob (0 to 5).\\n- has_warranty: Boolean indicating whether the shop has Torob warranty.\\n\\n7. Table: categories\\n- id: Unique identifier of the category.\\n- title: Title of the category.\\n- parent_id: ID of the parent category (-1 if no parent). Categories are hierarchical.\\n\\n8. Table: brands\\n- id: Unique identifier of the brand.\\n- title: Title of the brand.\\n\\n9. Table: cities\\n- id: Unique identifier of the city.\\n- name: Name of the city.\\n', timestamp=datetime.datetime(2025, 9, 18, 17, 35, 20, 543553, tzinfo=datetime.timezone.utc)), UserPromptPart(content='Input: کمترین قیمت در این پایه برای گیاه طبیعی بلک گلد بنسای نارگل کد 0108 چقدر است?\\n\\nPlan:\\n\\n1. Translate the user request: The user wants to know the lowest price for the base product \"گیاه طبیعی بلک گلد بنسای نارگل کد 0108\" (Natural Plant Black Gold Bonsai Nargol Code 0108).\\n\\n2. Identify the product name from the input: \"گیاه طبیعی بلک گلد بنسای نارگل کد 0108\".\\n\\n3. Search the base_products table for an exact match on the Persian name column with the product name \"گیاه طبیعی بلک گلد بنسای نارگل کد 0108\" to get the base product random key.\\n\\n4. Using the base product random key, query the members table to find all shop products (members) linked to this base product.\\n\\n5. From these members, find the minimum price among all shops.\\n\\n6. Return the minimum price found as the answer.\\n\\nOutput to fill: message (with the minimum price information), base_random_keys (the base product random key), member_random_keys (can be null or omitted).', timestamp=datetime.datetime(2025, 9, 18, 17, 35, 20, 543562, tzinfo=datetime.timezone.utc))]),\n",
       " ModelResponse(parts=[ToolCallPart(tool_name='build_exact_query_and_execute', args='{\"table_name\":\"base_products\",\"column_name\":\"persian_name\",\"variable_query\":\"گیاه طبیعی بلک گلد بنسای نارگل کد 0108\",\"limit\":1,\"columns\":[\"random_key\"]}', tool_call_id='call_2CPvcb1wL7P137gA86kGhdVS')], usage=RequestUsage(input_tokens=2021, cache_read_tokens=1792, output_tokens=57, details={'reasoning_tokens': 0}), model_name='openai/gpt-4.1-mini', timestamp=datetime.datetime(2025, 9, 18, 17, 35, 31, tzinfo=TzInfo(UTC)), provider_name='openai', provider_details={'finish_reason': 'tool_calls'}, provider_response_id='gen-1758216931-prTzHyNQ4ORgdWC9Z6rZ', finish_reason='tool_call'),\n",
       " ModelRequest(parts=[ToolReturnPart(tool_name='build_exact_query_and_execute', content=[RealDictRow({'random_key': 'wmkpoc'})], tool_call_id='call_2CPvcb1wL7P137gA86kGhdVS', timestamp=datetime.datetime(2025, 9, 18, 17, 35, 23, 458646, tzinfo=datetime.timezone.utc))]),\n",
       " ModelResponse(parts=[ToolCallPart(tool_name='build_exact_query_and_execute', args='{\"table_name\":\"members\",\"column_name\":\"base_random_key\",\"variable_query\":\"wmkpoc\",\"limit\":10,\"columns\":[\"random_key\",\"price\"]}', tool_call_id='call_ZQDRgHDvzBbFHZ3kHucZWAFe')], usage=RequestUsage(input_tokens=2099, output_tokens=44, details={'accepted_prediction_tokens': 0, 'audio_tokens': 0, 'reasoning_tokens': 0, 'rejected_prediction_tokens': 0}), model_name='gpt-4.1-mini-2025-04-14', timestamp=datetime.datetime(2025, 9, 18, 17, 35, 35, tzinfo=TzInfo(UTC)), provider_name='openai', provider_details={'finish_reason': 'tool_calls'}, provider_response_id='chatcmpl-CHCpbwsvXcQD1FjwiqfbMWMq9OUsL', finish_reason='tool_call'),\n",
       " ModelRequest(parts=[ToolReturnPart(tool_name='build_exact_query_and_execute', content=[RealDictRow({'random_key': 'cbldgn', 'price': 275000})], tool_call_id='call_ZQDRgHDvzBbFHZ3kHucZWAFe', timestamp=datetime.datetime(2025, 9, 18, 17, 35, 26, 242553, tzinfo=datetime.timezone.utc))]),\n",
       " ModelResponse(parts=[ToolCallPart(tool_name='final_result', args='{\"message\":\"کمترین قیمت برای گیاه طبیعی بلک گلد بنسای نارگل کد 0108 برابر با 275000 تومان است.\",\"base_random_keys\":[\"wmkpoc\"]}', tool_call_id='call_uFc1A0fdrQUxF0WxYChmLuuC')], usage=RequestUsage(input_tokens=2168, cache_read_tokens=2048, output_tokens=50, details={'accepted_prediction_tokens': 0, 'audio_tokens': 0, 'reasoning_tokens': 0, 'rejected_prediction_tokens': 0}), model_name='gpt-4.1-mini-2025-04-14', timestamp=datetime.datetime(2025, 9, 18, 17, 35, 37, tzinfo=TzInfo(UTC)), provider_name='openai', provider_details={'finish_reason': 'tool_calls'}, provider_response_id='chatcmpl-CHCpdvPJm3h1kQ01l6jyc8T8HJMPj', finish_reason='tool_call'),\n",
       " ModelRequest(parts=[ToolReturnPart(tool_name='final_result', content='Final result processed.', tool_call_id='call_uFc1A0fdrQUxF0WxYChmLuuC', timestamp=datetime.datetime(2025, 9, 18, 17, 35, 27, 905609, tzinfo=datetime.timezone.utc))])]"
      ]
     },
     "execution_count": 6,
     "metadata": {},
     "output_type": "execute_result"
    }
   ],
   "source": [
    "result.all_messages()"
   ]
  },
  {
   "cell_type": "code",
   "execution_count": null,
   "id": "11c62eb1",
   "metadata": {},
   "outputs": [
    {
     "ename": "",
     "evalue": "",
     "output_type": "error",
     "traceback": [
      "\u001b[1;31mFailed to start the Kernel. \n",
      "\u001b[1;31mUnable to start Kernel '.venv (Python 3.13.6)' due to a timeout waiting for the ports to get used. \n",
      "\u001b[1;31mView Jupyter <a href='command:jupyter.viewOutput'>log</a> for further details."
     ]
    }
   ],
   "source": []
  },
  {
   "cell_type": "code",
   "execution_count": null,
   "id": "38198333",
   "metadata": {},
   "outputs": [],
   "source": []
  }
 ],
 "metadata": {
  "kernelspec": {
   "display_name": ".venv",
   "language": "python",
   "name": "python3"
  },
  "language_info": {
   "codemirror_mode": {
    "name": "ipython",
    "version": 3
   },
   "file_extension": ".py",
   "mimetype": "text/x-python",
   "name": "python",
   "nbconvert_exporter": "python",
   "pygments_lexer": "ipython3",
   "version": "3.13.6"
  }
 },
 "nbformat": 4,
 "nbformat_minor": 5
}
