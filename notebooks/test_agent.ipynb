{
 "cells": [
  {
   "cell_type": "code",
   "execution_count": 1,
   "id": "f5af9da3",
   "metadata": {},
   "outputs": [],
   "source": [
    "import os, sys\n",
    "sys.path.append(os.path.abspath(\"..\"))\n",
    "from shopping_agent import run_shopping_agent"
   ]
  },
  {
   "cell_type": "code",
   "execution_count": null,
   "id": "f112e751",
   "metadata": {},
   "outputs": [
    {
     "name": "stdout",
     "output_type": "stream",
     "text": [
      "Plan:\n",
      "- The user wants a list of several products, each offered by different shops (i.e., products that are available in multiple shops).\n",
      "- Intent: Find product bases (not attributes or shop details).\n",
      "- I will search for base products that have more than one associated shop product (member), ensuring they are available in multiple shops.\n",
      "- I will select a few such products and provide their base random keys.\n",
      "- Only fill base_random_keys; no need for shop/member details or attributes.\n"
     ]
    }
   ],
   "source": [
    "# instruction = \"لطفاً دراور چهار کشو (کد D14) را برای من تهیه کنید.\"\n",
    "# instruction = \"عرض پارچه تریکو جودون 1/30 لاکرا گردباف نوریس به رنگ زرد طلایی چقدر است؟\"\n",
    "# instruction = \"کمترین قیمت در این پایه برای گیاه طبیعی بلک گلد بنسای نارگل کد ۰۱۰۸ چقدر است؟\"\n",
    "# instruction = \"یک لپ تاپ مناسبمناسب بهم پیشنهاد کن.\"\n",
    "# instruction = \"\"\"\n",
    "# چند تا کالا پیدا کن که برای فروشگاه های متفاوتی هستند و بهم معرفی کن.\n",
    "# # \"\"\"\n",
    "# instruction = \"\"\"\n",
    "# \"کدام یک از این ماگ‌های خرید ماگ-لیوان هندوانه فانتزی و کارتونی کد 1375 یا ماگ لته خوری سرامیکی با زیره کد 741 دارای سبک کارتونی و فانتزی بوده و برای کودکان یا نوجوانان مناسب‌تر است؟\"\n",
    "# \"\"\"\n",
    "# instruction = \"\"\"\n",
    "# What is the average price of all products in Torob?\n",
    "# \"\"\"\n",
    "# instruction = \"\"\"\n",
    "# قیمت متوسط خردکن سیلور کرست مدل NF-1923 تیغه تیتانیومی در شهر قم چقدر است؟\n",
    "# \"\"\"\n",
    "result, out = await run_shopping_agent(instruction, use_initial_plan = True)"
   ]
  },
  {
   "cell_type": "code",
   "execution_count": 27,
   "id": "13bf9fd2",
   "metadata": {},
   "outputs": [
    {
     "data": {
      "text/plain": [
       "AgentRunResult(output=ShoppingResponse(message='چند کالا که در فروشگاه\\u200cهای متفاوتی عرضه می\\u200cشوند: شیربرقی لباسشویی الجی sf15(تفکیکی)، سرویس قهوه خوری 12 پارچه هتلی سفید تقدیس، جارو شارژی روبوراک مدل A20 AIR، قهوه ساز گاستروبک مدل 42711، پنکه USB شارک مدل FIBER.', base_random_keys=['aaaavw', 'aaactf', 'aaaivb', 'aaavdk', 'aaavuw'], member_random_keys=None))"
      ]
     },
     "execution_count": 27,
     "metadata": {},
     "output_type": "execute_result"
    }
   ],
   "source": [
    "result"
   ]
  },
  {
   "cell_type": "code",
   "execution_count": 28,
   "id": "6a553b5f",
   "metadata": {},
   "outputs": [
    {
     "data": {
      "text/plain": [
       "{'message': 'شیربرقی لباسشویی الجی sf15(تفکیکی)، سرویس قهوه خوری ۱۲ پارچه هتلی سفید تقدیس، جارو شارژی روبوراک مدل A20 AIR، قهوه ساز گاستروبک مدل 42711، پنکه USB شارک مدل FIBER.',\n",
       " 'base_random_keys': ['aaaavw', 'aaactf', 'aaaivb', 'aaavdk', 'aaavuw'],\n",
       " 'member_random_keys': None}"
      ]
     },
     "execution_count": 28,
     "metadata": {},
     "output_type": "execute_result"
    }
   ],
   "source": [
    "out"
   ]
  },
  {
   "cell_type": "code",
   "execution_count": 29,
   "id": "9dde5de5",
   "metadata": {},
   "outputs": [
    {
     "data": {
      "text/plain": [
       "{'message': 'چند کالا که در فروشگاه\\u200cهای متفاوتی عرضه می\\u200cشوند: شیربرقی لباسشویی الجی sf15(تفکیکی)، سرویس قهوه خوری 12 پارچه هتلی سفید تقدیس، جارو شارژی روبوراک مدل A20 AIR، قهوه ساز گاستروبک مدل 42711، پنکه USB شارک مدل FIBER.',\n",
       " 'base_random_keys': ['aaaavw', 'aaactf', 'aaaivb', 'aaavdk', 'aaavuw'],\n",
       " 'member_random_keys': None}"
      ]
     },
     "execution_count": 29,
     "metadata": {},
     "output_type": "execute_result"
    }
   ],
   "source": [
    "dict(result.output)"
   ]
  },
  {
   "cell_type": "code",
   "execution_count": 30,
   "id": "ce583a3d",
   "metadata": {},
   "outputs": [
    {
     "data": {
      "text/plain": [
       "RunUsage(input_tokens=7379, cache_read_tokens=6656, output_tokens=235, details={'accepted_prediction_tokens': 0, 'audio_tokens': 0, 'reasoning_tokens': 0, 'rejected_prediction_tokens': 0}, requests=3, tool_calls=2)"
      ]
     },
     "execution_count": 30,
     "metadata": {},
     "output_type": "execute_result"
    }
   ],
   "source": [
    "result.usage()"
   ]
  },
  {
   "cell_type": "code",
   "execution_count": 31,
   "id": "459e7b61",
   "metadata": {},
   "outputs": [
    {
     "data": {
      "text/plain": [
       "[ModelRequest(parts=[SystemPromptPart(content='\\n\\nYou are an AI Shopping Assistant for Torob. Your job is to answer user instructions by retrieving product information.\\n\\n\\n\\nYou have access to the following tools:\\n\\n1. build_exact_query_and_execute(table_name: str, column_name: str, variable_query: str, limit: int = 10, columns: list[str] | None = None) -> list[RealDictRow] | str:\\n   Builds and executes a SQL query that searches for rows where a column exactly matches\\n   the given value. You can specify which columns to return. Enforces a minimum limit of 1.\\n   → Use when you are confident you have the full exact product name.  \\n   ⚠️ If no match is found, do **not** stop — fallback to LIKE search.  \\n\\n2. build_like_query_and_execute(table_name: str, column_name: str, variable_query: str, limit: int = 10, columns: list[str] | None = None) -> list[RealDictRow] | str:\\n   Builds and executes a SQL query that searches for rows where a column contains\\n   a given substring (case-insensitive). You can specify which columns to return.\\n   Enforces a minimum limit of 3.\\n   → Use when the product name may differ slightly (extra words, spacing, spelling).  \\n   ⚠️ Must return at least 3 rows, so always set limit >= 3.  \\n   \\n3. generate_sql_query(instruction: str) -> tuple[str, str]: \\n   Generates a PostgreSQL query from natural language.\\n   → Use for complex requests (aggregations, computations).  \\n\\n4. execute_sql(query: str) -> list[RealDictRow]: \\n   Executes a PostgreSQL query and returns results.\\n   → Run SQL directly (your own query or one produced by `generate_sql_query`).  \\n\\n\\n\\n1. Always return the Pydantic response with these fields:\\n   - message: a short, direct answer to the user’s request.\\n   - base_random_keys: list of random_key(s) for products (only if user is asking about products).\\n   - member_random_keys: list of random_key(s) for shops (only if user is asking about shops).\\n2. base_random_keys should always contain the **final product(s) the user actually requested**. Do not include intermediate results or related products unless explicitly asked.\\n3. Keep the `message` concise, containing only the requested information. No extra commentary.\\n\\n### SQL Query Guidelines:\\n- For anything that requires **aggregation, computation, or statistics**  \\n  (lowest price, highest price, average, total stock, shop counts, sums, etc.),  \\n  either:  \\n    • write the full SQL query yourself and run it with `execute_sql`, or  \\n    • use `generate_sql_query` to create the SQL, then run it with `execute_sql`.  \\n- Use `build_exact_query_and_execute` or `build_like_query_and_execute` only for simple lookups by name/id.  \\n\\n## Important: Never give up too soon.  \\n- Product names may not match user text exactly.  \\n- In order to get the random_key of a product from the supposed name (a simple query), always try progressively:  \\n  1. First attempt: `build_exact_query_and_execute` if you think you have a clean match.  \\n  2. If no result: retry with `build_like_query_and_execute` using key parts of the product name.  \\n  3. If still no result: consider synonyms, shortened forms, or partial brand/model extraction.  \\n- Only after multiple reasonable attempts can you conclude a product truly does not exist.  \\n\\nNotes:  \\n- Many failures happen because the product name is slightly different in the DB.  \\n- Your job is to find the closest match, not to stop early.  \\n\\n\\nBelow is structure of data in database:\\n\\nWe have data from torob.com structured in multiple tables. Below is a detailed description of each table and its columns:\\n\\n1. Table: searches\\n- id: Unique identifier for each search result page. Used to connect logs like views and clicks to this search.\\n- uid: Unique identifier for the entire search session (same across all pages of a search; equals id of page 0).\\n- query: The search phrase entered by the user.\\n- page: Page number in search results (starts from 0).\\n- timestamp: Exact UTC time when the search was logged.\\n- session_id: Identifier of the user’s session.\\n- result_base_product_rks: A string (list encoded in string) of base product random keys shown in the results.\\n- category_id: ID of the category user restricted the search to (0 means no category).\\n- category_brand_boosts: A string (list encoded in string) of categories/brands boosted in ranking for this search.\\n\\n2. Table: base_views\\n- id: Unique identifier for each product base view.\\n- search_id: The search page ID this view came from (links to searches.id).\\n- base_product_rk: Random key of the base product that was viewed.\\n- timestamp: Exact UTC time when the view was logged.\\n\\n3. Table: final_clicks\\n- id: Unique identifier for each final click.\\n- base_view_id: ID linking this click to a base product view (links to base_views.id).\\n- shop_id: Identifier of the shop where the clicked product belongs.\\n- timestamp: Exact UTC time when the click occurred.\\n\\n4. Table: base_products\\n- random_key: Unique identifier of a base product.\\n- persian_name: Persian name of the product.\\n- english_name: English name of the product.\\n- category_id: Category ID of the product.\\n- brand_id: Brand ID of the product.\\n- extra_features: JSON string of additional product features.\\nExample: Features may be width (عرض), height (ارتفاع), size (اندازه), color (رنگ), material (جنس), originality, stock_status, meterage, piece_count, power, etc.\\n- image_url: URL of the product’s image.\\n- members: A string (list encoded in string) of random keys of shop products linked to this base product.\\n\\n5. Table: members (shop products)\\n- random_key: Unique identifier of a product in a shop.\\n- base_random_key: Random key linking the shop product to its base product.\\n- shop_id: Identifier of the shop offering the product.\\n- price: Price of the product in this shop.\\n\\n6. Table: shops\\n- id: Unique identifier of the shop.\\n- city_id: ID of the city where the shop is located.\\n- score: Shop’s rating in Torob (0 to 5).\\n- has_warranty: Boolean indicating whether the shop has Torob warranty.\\n\\n7. Table: categories\\n- id: Unique identifier of the category.\\n- title: Title of the category.\\n- parent_id: ID of the parent category (-1 if no parent). Categories are hierarchical.\\n\\n8. Table: brands\\n- id: Unique identifier of the brand.\\n- title: Title of the brand.\\n\\n9. Table: cities\\n- id: Unique identifier of the city.\\n- name: Name of the city.\\n', timestamp=datetime.datetime(2025, 9, 19, 8, 35, 40, 365442, tzinfo=datetime.timezone.utc)), UserPromptPart(content='Input: چند تا کالا پیدا کن که برای فروشگاه های متفاوتی هستند و بهم معرفی کن. #\\n\\nPlan:\\n- The user wants a list of several products, each offered by different shops (i.e., products that are available in multiple shops).\\n- Intent: Find product bases (not attributes or shop details).\\n- I will search for base products that have more than one associated shop product (member), ensuring they are available in multiple shops.\\n- I will select a few such products and provide their base random keys.\\n- Only fill base_random_keys; no need for shop/member details or attributes.', timestamp=datetime.datetime(2025, 9, 19, 8, 35, 40, 365448, tzinfo=datetime.timezone.utc))]),\n",
       " ModelResponse(parts=[ToolCallPart(tool_name='generate_sql_query', args='{\"instruction\":\"Find 5 base products that have shop products (members) from at least 2 different shops. Return their random_key and persian_name.\"}', tool_call_id='call_ihhiqnHdWfnmoy8s4XNGrvZr')], usage=RequestUsage(input_tokens=2264, cache_read_tokens=2048, output_tokens=43, details={'accepted_prediction_tokens': 0, 'audio_tokens': 0, 'reasoning_tokens': 0, 'rejected_prediction_tokens': 0}), model_name='gpt-4.1-mini-2025-04-14', timestamp=datetime.datetime(2025, 9, 19, 8, 35, 56, tzinfo=TzInfo(UTC)), provider_name='openai', provider_details={'finish_reason': 'tool_calls'}, provider_response_id='chatcmpl-CHQsulHstmc1TCykGjaEsEdJL1kw6', finish_reason='tool_call'),\n",
       " ModelRequest(parts=[ToolReturnPart(tool_name='generate_sql_query', content=('SELECT bp.random_key, bp.persian_name\\nFROM base_products bp\\nJOIN members m ON bp.random_key = m.base_random_key\\nGROUP BY bp.random_key, bp.persian_name\\nHAVING COUNT(DISTINCT m.shop_id) >= 2\\nLIMIT 5;', '```sql\\nSELECT bp.random_key, bp.persian_name\\nFROM base_products bp\\nJOIN members m ON bp.random_key = m.base_random_key\\nGROUP BY bp.random_key, bp.persian_name\\nHAVING COUNT(DISTINCT m.shop_id) >= 2\\nLIMIT 5;\\n```'), tool_call_id='call_ihhiqnHdWfnmoy8s4XNGrvZr', timestamp=datetime.datetime(2025, 9, 19, 8, 35, 45, 458432, tzinfo=datetime.timezone.utc))]),\n",
       " ModelResponse(parts=[ToolCallPart(tool_name='execute_sql', args='{\"query\":\"SELECT bp.random_key, bp.persian_name\\\\nFROM base_products bp\\\\nJOIN members m ON bp.random_key = m.base_random_key\\\\nGROUP BY bp.random_key, bp.persian_name\\\\nHAVING COUNT(DISTINCT m.shop_id) >= 2\\\\nLIMIT 5;\"}', tool_call_id='call_bqZGRAf0yifyaev1ioP54N7Q')], usage=RequestUsage(input_tokens=2442, cache_read_tokens=2176, output_tokens=72, details={'accepted_prediction_tokens': 0, 'audio_tokens': 0, 'reasoning_tokens': 0, 'rejected_prediction_tokens': 0}), model_name='gpt-4.1-mini-2025-04-14', timestamp=datetime.datetime(2025, 9, 19, 8, 36, tzinfo=TzInfo(UTC)), provider_name='openai', provider_details={'finish_reason': 'tool_calls'}, provider_response_id='chatcmpl-CHQsyRujUFjdI7ufB0Y863ZjjEyod', finish_reason='tool_call'),\n",
       " ModelRequest(parts=[ToolReturnPart(tool_name='execute_sql', content=[RealDictRow({'random_key': 'aaaavw', 'persian_name': 'شیربرقی لباسشویی الجی sf15(تفکیکی)'}), RealDictRow({'random_key': 'aaactf', 'persian_name': 'سرویس قهوه خوری 12 پارچه هتلی سفید تقدیس'}), RealDictRow({'random_key': 'aaaivb', 'persian_name': 'جارو شارژی روبوراک مدل A20 AIR با زمان کارکرد ۱۸۰ دقیقه'}), RealDictRow({'random_key': 'aaavdk', 'persian_name': 'قهوه ساز گاستروبک مدل 42711 ظرفیت ۱ لیتر'}), RealDictRow({'random_key': 'aaavuw', 'persian_name': 'پنکه USB شارک مدل FIBER سایز ۲۵ سانتیمتر'})], tool_call_id='call_bqZGRAf0yifyaev1ioP54N7Q', timestamp=datetime.datetime(2025, 9, 19, 8, 35, 54, 840343, tzinfo=datetime.timezone.utc))]),\n",
       " ModelResponse(parts=[ToolCallPart(tool_name='final_result', args='{\"message\":\"چند کالا که در فروشگاه\\u200cهای متفاوتی عرضه می\\u200cشوند: شیربرقی لباسشویی الجی sf15(تفکیکی)، سرویس قهوه خوری 12 پارچه هتلی سفید تقدیس، جارو شارژی روبوراک مدل A20 AIR، قهوه ساز گاستروبک مدل 42711، پنکه USB شارک مدل FIBER.\",\"base_random_keys\":[\"aaaavw\",\"aaactf\",\"aaaivb\",\"aaavdk\",\"aaavuw\"]}', tool_call_id='call_6czd84cqBS9vf7qmIEysF2Hp')], usage=RequestUsage(input_tokens=2673, cache_read_tokens=2432, output_tokens=120, details={'accepted_prediction_tokens': 0, 'audio_tokens': 0, 'reasoning_tokens': 0, 'rejected_prediction_tokens': 0}), model_name='gpt-4.1-mini-2025-04-14', timestamp=datetime.datetime(2025, 9, 19, 8, 36, 10, tzinfo=TzInfo(UTC)), provider_name='openai', provider_details={'finish_reason': 'tool_calls'}, provider_response_id='chatcmpl-CHQt8sURmDKWgHmyCYR82XyCUwdd6', finish_reason='tool_call'),\n",
       " ModelRequest(parts=[ToolReturnPart(tool_name='final_result', content='Final result processed.', tool_call_id='call_6czd84cqBS9vf7qmIEysF2Hp', timestamp=datetime.datetime(2025, 9, 19, 8, 35, 57, 836580, tzinfo=datetime.timezone.utc))])]"
      ]
     },
     "execution_count": 31,
     "metadata": {},
     "output_type": "execute_result"
    }
   ],
   "source": [
    "result.all_messages()"
   ]
  },
  {
   "cell_type": "code",
   "execution_count": null,
   "id": "3b1fcfde",
   "metadata": {},
   "outputs": [],
   "source": []
  }
 ],
 "metadata": {
  "kernelspec": {
   "display_name": ".venv",
   "language": "python",
   "name": "python3"
  },
  "language_info": {
   "codemirror_mode": {
    "name": "ipython",
    "version": 3
   },
   "file_extension": ".py",
   "mimetype": "text/x-python",
   "name": "python",
   "nbconvert_exporter": "python",
   "pygments_lexer": "ipython3",
   "version": "3.13.6"
  }
 },
 "nbformat": 4,
 "nbformat_minor": 5
}
