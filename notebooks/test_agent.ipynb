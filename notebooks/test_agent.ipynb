{
 "cells": [
  {
   "cell_type": "code",
   "execution_count": 1,
   "id": "f5af9da3",
   "metadata": {},
   "outputs": [],
   "source": [
    "import os\n",
    "sys.path.append(os.path.abspath(\"..\"))\n",
    "from shopping_agent import run_shopping_agent"
   ]
  },
  {
   "cell_type": "code",
   "execution_count": 2,
   "id": "f112e751",
   "metadata": {},
   "outputs": [
    {
     "name": "stdout",
     "output_type": "stream",
     "text": [
      "Step 1: Understand the task:\n",
      "The user wants to know the most popular product. Popular product can be interpreted in different ways such as most viewed product, most clicked product, or most searched product. The most reasonable approach is to consider popularity measured by user interactions (views and clicks) on base products.\n",
      "\n",
      "Step 2: Determine output parts:\n",
      "We need to provide a message describing the most popular product, which could include its Persian name and the measure of popularity (like views or clicks count). base_random_keys and member_random_keys will be null since user asked general info.\n",
      "\n",
      "Step 3: Breakdown subtasks:\n",
      "- Decide the popularity metric: number of final clicks on base products is the best indicator.\n",
      "- Count clicks per base product by joining clicks with base_views (to get base product from base_view).\n",
      "- Find the base product with the highest clicks.\n",
      "- Retrieve product details (e.g. Persian name) from base_products table.\n",
      "\n",
      "Step 4: Tools and queries:\n",
      "- Use execute_sql to run a query that joins final_clicks, base_views, and base_products.\n",
      "- Aggregate clicks by base product and order by descending click count.\n",
      "- Limit 1 to get the top product.\n",
      "\n",
      "Step 5: Procedure:\n",
      "- Write and run SQL query that counts clicks per base product.\n",
      "- Get product details of the top clicked base product.\n",
      "- Return the product name and popularity info to user.\n",
      "\n",
      "This approach efficiently provides the most popular product according to user clicks.\n"
     ]
    }
   ],
   "source": [
    "# instruction = \"لطفاً دراور چهار کشو (کد D14) را برای من تهیه کنید.\"\n",
    "# instruction = \"عرض پارچه تریکو جودون 1/30 لاکرا گردباف نوریس به رنگ زرد طلایی چقدر است؟\"\n",
    "# instruction = \"کمترین قیمت در این پایه برای گیاه طبیعی بلک گلد بنسای نارگل کد ۰۱۰۸ چقدر است؟\"\n",
    "instruction = \"What is the most popular product?\"\n",
    "result = await run_shopping_agent(instruction)"
   ]
  },
  {
   "cell_type": "code",
   "execution_count": 3,
   "id": "13bf9fd2",
   "metadata": {},
   "outputs": [
    {
     "data": {
      "text/plain": [
       "AgentRunResult(output=ShoppingResponse(message='The most popular product based on user clicks is \"سرخ کن فیلیپس مدل HD9270 ظرفیت ۶.۲ لیتر بدون روغن\" with 24 clicks. This indicates it is highly favored by users on Torob.', base_random_keys=None, member_random_keys=None))"
      ]
     },
     "execution_count": 3,
     "metadata": {},
     "output_type": "execute_result"
    }
   ],
   "source": [
    "result"
   ]
  },
  {
   "cell_type": "code",
   "execution_count": 4,
   "id": "9dde5de5",
   "metadata": {},
   "outputs": [
    {
     "data": {
      "text/plain": [
       "{'message': 'The most popular product based on user clicks is \"سرخ کن فیلیپس مدل HD9270 ظرفیت ۶.۲ لیتر بدون روغن\" with 24 clicks. This indicates it is highly favored by users on Torob.',\n",
       " 'base_random_keys': None,\n",
       " 'member_random_keys': None}"
      ]
     },
     "execution_count": 4,
     "metadata": {},
     "output_type": "execute_result"
    }
   ],
   "source": [
    "dict(result.output)"
   ]
  },
  {
   "cell_type": "code",
   "execution_count": 30,
   "id": "459e7b61",
   "metadata": {},
   "outputs": [
    {
     "data": {
      "text/plain": [
       "[ModelRequest(parts=[SystemPromptPart(content=\"\\n\\nYou are an AI Shopping Assistant for Torob. Your job is to answer user instructions by retrieving product information.\\n\\n\\n\\nYou have access to the following tools:\\n\\n1. execute_sql(query: str) -> list[RealDictRow]: Executes a PostgreSQL query and returns results.\\n2. generate_sql_query(instruction: str) -> tuple[str, str]: Generates a PostgreSQL query from natural language.\\n3. build_like_query(table_name: str, column_name: str, variable_query: str, limit: int = 10) -> str:\\n   Returns a SQL query string that searches for rows in a table where a column contains a given substring (case-insensitive).\\n   I would suggest to let limit be at least 3.\\n\\n\\n\\n  0. Avoid redundant calls to generate_sql_query if it's actually unncessary.\\n  1. Use the already given queries if it's sufficient, and avoid calling generate_sql_query to create a new query.\\n  2. Execute SQL if necessary.\\n  3. Fill the Pydantic response for your final answer.\\n\\n\\nBelow is structure of data in database:\\n\\nWe have data from torob.com structured in multiple tables. Below is a detailed description of each table and its columns:\\n\\n1. Table: searches\\n- id: Unique identifier for each search result page. Used to connect logs like views and clicks to this search.\\n- uid: Unique identifier for the entire search session (same across all pages of a search; equals id of page 0).\\n- query: The search phrase entered by the user.\\n- page: Page number in search results (starts from 0).\\n- timestamp: Exact UTC time when the search was logged.\\n- session_id: Identifier of the user’s session.\\n- result_base_product_rks: A string (list encoded in string) of base product random keys shown in the results.\\n- category_id: ID of the category user restricted the search to (0 means no category).\\n- category_brand_boosts: A string (list encoded in string) of categories/brands boosted in ranking for this search.\\n\\n2. Table: base_views\\n- id: Unique identifier for each product base view.\\n- search_id: The search page ID this view came from (links to searches.id).\\n- base_product_rk: Random key of the base product that was viewed.\\n- timestamp: Exact UTC time when the view was logged.\\n\\n3. Table: final_clicks\\n- id: Unique identifier for each final click.\\n- base_view_id: ID linking this click to a base product view (links to base_views.id).\\n- shop_id: Identifier of the shop where the clicked product belongs.\\n- timestamp: Exact UTC time when the click occurred.\\n\\n4. Table: base_products\\n- random_key: Unique identifier of a base product.\\n- persian_name: Persian name of the product.\\n- english_name: English name of the product.\\n- category_id: Category ID of the product.\\n- brand_id: Brand ID of the product.\\n- extra_features: JSON string of additional product features.\\nExample: Features may be width (عرض), height (ارتفاع), size (اندازه), color (رنگ), material (جنس), originality, stock_status, meterage, piece_count, power, etc.\\n- image_url: URL of the product’s image.\\n- members: A string (list encoded in string) of random keys of shop products linked to this base product.\\n\\n5. Table: members (shop products)\\n- random_key: Unique identifier of a product in a shop.\\n- base_random_key: Random key linking the shop product to its base product.\\n- shop_id: Identifier of the shop offering the product.\\n- price: Price of the product in this shop.\\n\\n6. Table: shops\\n- id: Unique identifier of the shop.\\n- city_id: ID of the city where the shop is located.\\n- score: Shop’s rating in Torob (0 to 5).\\n- has_warranty: Boolean indicating whether the shop has Torob warranty.\\n\\n7. Table: categories\\n- id: Unique identifier of the category.\\n- title: Title of the category.\\n- parent_id: ID of the parent category (-1 if no parent). Categories are hierarchical.\\n\\n8. Table: brands\\n- id: Unique identifier of the brand.\\n- title: Title of the brand.\\n\\n9. Table: cities\\n- id: Unique identifier of the city.\\n- name: Name of the city.\\n\", timestamp=datetime.datetime(2025, 9, 18, 3, 8, 51, 644166, tzinfo=datetime.timezone.utc)), UserPromptPart(content='What is the most popular product?\\n\\nStep 1: Understand the user request\\n- The user wants to know the \"most popular product.\"\\n- Popularity typically can be interpreted by highest views or highest clicks.\\n\\nStep 2: Define the subtasks\\n- Identify the product with the highest user engagement.\\n- Engagement here can be number of views or final clicks.\\n\\nStep 3: Determine the best measurement of popularity\\n- Final clicks on products (final_clicks table) reflect actual user interest more than views.\\n- Aggregate number of clicks per base product from final_clicks joined with base_views to get the base_product_rk.\\n- Find the base product with the highest sum of clicks.\\n\\nStep 4: Tools and queries\\n- Join final_clicks to base_views on base_view_id to get base_product_rk for each click.\\n- Group by base_product_rk and count clicks.\\n- Order by count descending and limit to 1.\\n- Retrieve the Persian name of that base product from base_products table for a user-friendly answer.\\n\\nStep 5: Execution path\\n- Execute a SQL query joining final_clicks with base_views to count clicks per base product.\\n- Order results to get the product with the highest clicks.\\n- Get the Persian name of that product from base_products.\\n- Return the Persian name and possibly related info like the number of clicks.\\n\\nOutput instructions:\\n- Fill the message with the answer.\\n- No need to fill member_random_keys or base_random_keys since this is a product summary.\\n\\nSummary:\\nTo find the most popular product, run a query joining final_clicks and base_views to count clicks per base product, order by clicks descending, limit 1, then retrieve the product Persian name from base_products. This gives the product with the highest popularity on Torob.', timestamp=datetime.datetime(2025, 9, 18, 3, 8, 51, 644172, tzinfo=datetime.timezone.utc))]),\n",
       " ModelResponse(parts=[ToolCallPart(tool_name='execute_sql', args='{\"query\":\"SELECT bp.persian_name, COUNT(fc.id) AS total_clicks\\\\nFROM final_clicks fc\\\\nJOIN base_views bv ON fc.base_view_id = bv.id\\\\nJOIN base_products bp ON bv.base_product_rk = bp.random_key\\\\nGROUP BY bp.random_key, bp.persian_name\\\\nORDER BY total_clicks DESC\\\\nLIMIT 1;\"}', tool_call_id='call_cOzqhH28r38LUMZ355xkTuLd')], usage=RequestUsage(input_tokens=1748, cache_read_tokens=1280, output_tokens=86, details={'accepted_prediction_tokens': 0, 'audio_tokens': 0, 'reasoning_tokens': 0, 'rejected_prediction_tokens': 0}), model_name='gpt-4.1-mini-2025-04-14', timestamp=datetime.datetime(2025, 9, 18, 3, 9, 3, tzinfo=TzInfo(UTC)), provider_name='openai', provider_details={'finish_reason': 'tool_calls'}, provider_response_id='chatcmpl-CGzJ17eC31J7uD7cDXYCurvDOmAHC', finish_reason='tool_call'),\n",
       " ModelRequest(parts=[ToolReturnPart(tool_name='execute_sql', content=[RealDictRow({'persian_name': 'سرخ کن فیلیپس مدل HD9270 ظرفیت ۶.۲ لیتر بدون روغن', 'total_clicks': 24})], tool_call_id='call_cOzqhH28r38LUMZ355xkTuLd', timestamp=datetime.datetime(2025, 9, 18, 3, 8, 54, 916973, tzinfo=datetime.timezone.utc))]),\n",
       " ModelResponse(parts=[ToolCallPart(tool_name='final_result', args='{\"message\":\"محصول محبوب\\u200cترین با بیشترین کلیک\\u200cها در سایت ترب، \\\\\"سرخ کن فیلیپس مدل HD9270 ظرفیت ۶.۲ لیتر بدون روغن\\\\\" است که تاکنون ۲۴ کلیک دریافت کرده است.\",\"base_random_keys\":null,\"member_random_keys\":null}', tool_call_id='call_xAKuEu9fTTuAHNVOFn2FUbGo')], usage=RequestUsage(input_tokens=1875, cache_read_tokens=1280, output_tokens=73, details={'reasoning_tokens': 0}), model_name='openai/gpt-4.1-mini', timestamp=datetime.datetime(2025, 9, 18, 3, 9, 6, tzinfo=TzInfo(UTC)), provider_name='openai', provider_details={'finish_reason': 'tool_calls'}, provider_response_id='gen-1758164946-PqHpAzZ4JtD1ihoY4ZJq', finish_reason='tool_call'),\n",
       " ModelRequest(parts=[ToolReturnPart(tool_name='final_result', content='Final result processed.', tool_call_id='call_xAKuEu9fTTuAHNVOFn2FUbGo', timestamp=datetime.datetime(2025, 9, 18, 3, 8, 56, 738556, tzinfo=datetime.timezone.utc))])]"
      ]
     },
     "execution_count": 30,
     "metadata": {},
     "output_type": "execute_result"
    }
   ],
   "source": [
    "result.all_messages()"
   ]
  },
  {
   "cell_type": "code",
   "execution_count": null,
   "id": "56236f74",
   "metadata": {},
   "outputs": [],
   "source": []
  }
 ],
 "metadata": {
  "kernelspec": {
   "display_name": ".venv",
   "language": "python",
   "name": "python3"
  },
  "language_info": {
   "codemirror_mode": {
    "name": "ipython",
    "version": 3
   },
   "file_extension": ".py",
   "mimetype": "text/x-python",
   "name": "python",
   "nbconvert_exporter": "python",
   "pygments_lexer": "ipython3",
   "version": "3.13.6"
  }
 },
 "nbformat": 4,
 "nbformat_minor": 5
}
