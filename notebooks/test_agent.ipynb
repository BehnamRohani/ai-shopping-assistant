{
 "cells": [
  {
   "cell_type": "code",
   "execution_count": 1,
   "id": "f5af9da3",
   "metadata": {},
   "outputs": [],
   "source": [
    "import os\n",
    "sys.path.append(os.path.abspath(\"..\"))\n",
    "from shopping_agent import run_shopping_agent"
   ]
  },
  {
   "cell_type": "code",
   "execution_count": 12,
   "id": "f112e751",
   "metadata": {},
   "outputs": [
    {
     "name": "stdout",
     "output_type": "stream",
     "text": [
      "Step-by-step plan:\n",
      "\n",
      "1. Understand the user request: The user wants to find multiple products that are available in different shops. The goal is to identify products that have listings in more than one shop.\n",
      "\n",
      "2. Identify the relevant tables:\n",
      "   - base_products: to get product information.\n",
      "   - members: to find shop products linked to base products and their shops.\n",
      "   - shops: to confirm different shops.\n",
      "\n",
      "3. Approach:\n",
      "   - Find base products that have members (shop products) linked to at least two different shops.\n",
      "   - For these base products, retrieve some basic info like Persian name, English name, and the list of shops offering them.\n",
      "   - Limit the number of results to a reasonable number (e.g., 10) to avoid overwhelming the user.\n",
      "\n",
      "4. Query construction:\n",
      "   - Use SQL to find base products with members linked to multiple distinct shops.\n",
      "   - Join base_products and members tables.\n",
      "   - Group by base product and count distinct shops.\n",
      "   - Filter for count of distinct shops > 1.\n",
      "   - Retrieve product details and some shop info.\n",
      "\n",
      "5. Output:\n",
      "   - Prepare a message listing several products with their names and mention that they are available in multiple shops.\n",
      "   - Provide base_random_keys for these products for potential further queries.\n",
      "   - No member_random_keys needed now.\n",
      "\n",
      "Summary:\n",
      "- The main task is to find products sold by multiple shops.\n",
      "- Use members table to identify products with multiple shops.\n",
      "- Retrieve product info from base_products.\n",
      "- Return a concise list of such products to the user.\n"
     ]
    }
   ],
   "source": [
    "# instruction = \"لطفاً دراور چهار کشو (کد D14) را برای من تهیه کنید.\"\n",
    "# instruction = \"عرض پارچه تریکو جودون 1/30 لاکرا گردباف نوریس به رنگ زرد طلایی چقدر است؟\"\n",
    "# instruction = \"کمترین قیمت در این پایه برای گیاه طبیعی بلک گلد بنسای نارگل کد ۰۱۰۸ چقدر است؟\"\n",
    "# instruction = \"یک لپ تاپ مناسب بهم پیشنهاد کن.\"\n",
    "instruction = \"\"\"\n",
    "چند تا کالا پیدا کن که برای فروشگاه های متفاوتی هستند و بهم معرفی کن.\n",
    "\"\"\"\n",
    "result = await run_shopping_agent(instruction)"
   ]
  },
  {
   "cell_type": "code",
   "execution_count": 13,
   "id": "13bf9fd2",
   "metadata": {},
   "outputs": [
    {
     "data": {
      "text/plain": [
       "AgentRunResult(output=ShoppingResponse(message='چند کالا که در فروشگاه\\u200cهای مختلف عرضه می\\u200cشوند:\\n1. شیربرقی لباسشویی الجی sf15(تفکیکی) - در 2 فروشگاه\\n2. سرویس قهوه خوری 12 پارچه هتلی سفید تقدیس - در 2 فروشگاه\\n3. جارو شارژی روبوراک مدل A20 AIR با زمان کارکرد ۱۸۰ دقیقه - در 4 فروشگاه\\n4. قهوه ساز گاستروبک مدل 42711 ظرفیت ۱ لیتر - در 2 فروشگاه\\n5. پنکه USB شارک مدل FIBER سایز ۲۵ سانتیمتر - در 2 فروشگاه\\n6. گاز کولرگازی مبرد R22 برند دی وای ۱۳/۶ کیلوگرمی - در 7 فروشگاه\\n7. ست سرویس بهداشتی هفت پارچه الیکا سفید طلایی - در 2 فروشگاه\\n8. گوشت کوب برقی 270 وات تیغه 16 سانت اسمارت - در 3 فروشگاه\\n9. جا مایعی بیضی لیمون - در 6 فروشگاه\\n10. پیاله ماست خوری گلدکیش مدل کلاسیک کد GK208516 - در 6 فروشگاه', base_random_keys=['aaaavw', 'aaactf', 'aaaivb', 'aaavdk', 'aaavuw', 'aaawnf', 'aababq', 'aabdbg', 'aabrja', 'aabsob'], member_random_keys=None))"
      ]
     },
     "execution_count": 13,
     "metadata": {},
     "output_type": "execute_result"
    }
   ],
   "source": [
    "result"
   ]
  },
  {
   "cell_type": "code",
   "execution_count": 14,
   "id": "9dde5de5",
   "metadata": {},
   "outputs": [
    {
     "data": {
      "text/plain": [
       "{'message': 'چند کالا که در فروشگاه\\u200cهای مختلف عرضه می\\u200cشوند:\\n1. شیربرقی لباسشویی الجی sf15(تفکیکی) - در 2 فروشگاه\\n2. سرویس قهوه خوری 12 پارچه هتلی سفید تقدیس - در 2 فروشگاه\\n3. جارو شارژی روبوراک مدل A20 AIR با زمان کارکرد ۱۸۰ دقیقه - در 4 فروشگاه\\n4. قهوه ساز گاستروبک مدل 42711 ظرفیت ۱ لیتر - در 2 فروشگاه\\n5. پنکه USB شارک مدل FIBER سایز ۲۵ سانتیمتر - در 2 فروشگاه\\n6. گاز کولرگازی مبرد R22 برند دی وای ۱۳/۶ کیلوگرمی - در 7 فروشگاه\\n7. ست سرویس بهداشتی هفت پارچه الیکا سفید طلایی - در 2 فروشگاه\\n8. گوشت کوب برقی 270 وات تیغه 16 سانت اسمارت - در 3 فروشگاه\\n9. جا مایعی بیضی لیمون - در 6 فروشگاه\\n10. پیاله ماست خوری گلدکیش مدل کلاسیک کد GK208516 - در 6 فروشگاه',\n",
       " 'base_random_keys': ['aaaavw',\n",
       "  'aaactf',\n",
       "  'aaaivb',\n",
       "  'aaavdk',\n",
       "  'aaavuw',\n",
       "  'aaawnf',\n",
       "  'aababq',\n",
       "  'aabdbg',\n",
       "  'aabrja',\n",
       "  'aabsob'],\n",
       " 'member_random_keys': None}"
      ]
     },
     "execution_count": 14,
     "metadata": {},
     "output_type": "execute_result"
    }
   ],
   "source": [
    "dict(result.output)"
   ]
  },
  {
   "cell_type": "code",
   "execution_count": 15,
   "id": "ce583a3d",
   "metadata": {},
   "outputs": [
    {
     "data": {
      "text/plain": [
       "RunUsage(input_tokens=7413, cache_read_tokens=5376, output_tokens=507, details={'accepted_prediction_tokens': 0, 'audio_tokens': 0, 'reasoning_tokens': 0, 'rejected_prediction_tokens': 0}, requests=3, tool_calls=2)"
      ]
     },
     "execution_count": 15,
     "metadata": {},
     "output_type": "execute_result"
    }
   ],
   "source": [
    "result.usage()"
   ]
  },
  {
   "cell_type": "code",
   "execution_count": 16,
   "id": "459e7b61",
   "metadata": {},
   "outputs": [
    {
     "data": {
      "text/plain": [
       "[ModelRequest(parts=[SystemPromptPart(content=\"\\n\\nYou are an AI Shopping Assistant for Torob. Your job is to answer user instructions by retrieving product information.\\n\\n\\n\\nYou have access to the following tools:\\n\\n1. build_exact_query_and_execute(table_name: str, column_name: str, variable_query: str, limit: int = 10, columns: list[str] | None = None) -> list[RealDictRow] | str:\\n   Builds and executes a SQL query that searches for rows where a column exactly matches\\n   the given value. You can specify which columns to return. Enforces a minimum limit of 1.\\n\\n2. build_like_query_and_execute(table_name: str, column_name: str, variable_query: str, limit: int = 10, columns: list[str] | None = None) -> list[RealDictRow] | str:\\n   Builds and executes a SQL query that searches for rows where a column contains\\n   a given substring (case-insensitive). You can specify which columns to return.\\n   Enforces a minimum limit of 3.\\n   \\n3. generate_sql_query(instruction: str) -> tuple[str, str]: \\n   Generates a PostgreSQL query from natural language.\\n\\n4. execute_sql(query: str) -> list[RealDictRow]: \\n   Executes a PostgreSQL query and returns results.\\n\\n### Priority:\\n- Use `generate_sql_query` only when a query cannot be expressed through the built-in query helpers.\\n\\n\\n\\n  1. Use SQL tools if necessary.\\n  2. Fill the Pydantic response for your final answer.\\n  3. base_random_keys should only be filled if user asks for product(s). And member_random_keys should only be filled if user\\n  asks for shop(s). So there is no need, for example, to fill member_random_keys if user is only after a product.\\n  4. message field should only contain desired information requested by the user. Avoid long messages and only give what's requested.\\n\\n\\nBelow is structure of data in database:\\n\\nWe have data from torob.com structured in multiple tables. Below is a detailed description of each table and its columns:\\n\\n1. Table: searches\\n- id: Unique identifier for each search result page. Used to connect logs like views and clicks to this search.\\n- uid: Unique identifier for the entire search session (same across all pages of a search; equals id of page 0).\\n- query: The search phrase entered by the user.\\n- page: Page number in search results (starts from 0).\\n- timestamp: Exact UTC time when the search was logged.\\n- session_id: Identifier of the user’s session.\\n- result_base_product_rks: A string (list encoded in string) of base product random keys shown in the results.\\n- category_id: ID of the category user restricted the search to (0 means no category).\\n- category_brand_boosts: A string (list encoded in string) of categories/brands boosted in ranking for this search.\\n\\n2. Table: base_views\\n- id: Unique identifier for each product base view.\\n- search_id: The search page ID this view came from (links to searches.id).\\n- base_product_rk: Random key of the base product that was viewed.\\n- timestamp: Exact UTC time when the view was logged.\\n\\n3. Table: final_clicks\\n- id: Unique identifier for each final click.\\n- base_view_id: ID linking this click to a base product view (links to base_views.id).\\n- shop_id: Identifier of the shop where the clicked product belongs.\\n- timestamp: Exact UTC time when the click occurred.\\n\\n4. Table: base_products\\n- random_key: Unique identifier of a base product.\\n- persian_name: Persian name of the product.\\n- english_name: English name of the product.\\n- category_id: Category ID of the product.\\n- brand_id: Brand ID of the product.\\n- extra_features: JSON string of additional product features.\\nExample: Features may be width (عرض), height (ارتفاع), size (اندازه), color (رنگ), material (جنس), originality, stock_status, meterage, piece_count, power, etc.\\n- image_url: URL of the product’s image.\\n- members: A string (list encoded in string) of random keys of shop products linked to this base product.\\n\\n5. Table: members (shop products)\\n- random_key: Unique identifier of a product in a shop.\\n- base_random_key: Random key linking the shop product to its base product.\\n- shop_id: Identifier of the shop offering the product.\\n- price: Price of the product in this shop.\\n\\n6. Table: shops\\n- id: Unique identifier of the shop.\\n- city_id: ID of the city where the shop is located.\\n- score: Shop’s rating in Torob (0 to 5).\\n- has_warranty: Boolean indicating whether the shop has Torob warranty.\\n\\n7. Table: categories\\n- id: Unique identifier of the category.\\n- title: Title of the category.\\n- parent_id: ID of the parent category (-1 if no parent). Categories are hierarchical.\\n\\n8. Table: brands\\n- id: Unique identifier of the brand.\\n- title: Title of the brand.\\n\\n9. Table: cities\\n- id: Unique identifier of the city.\\n- name: Name of the city.\\n\", timestamp=datetime.datetime(2025, 9, 18, 5, 50, 42, 807923, tzinfo=datetime.timezone.utc)), UserPromptPart(content='Input: \\nچند تا کالا پیدا کن که برای فروشگاه های متفاوتی هستند و بهم معرفی کن.\\n\\n\\nStep-by-step plan:\\n\\n1. Understand the user request: The user wants to find multiple products that are available in different shops. The goal is to identify products that have listings in more than one shop.\\n\\n2. Identify the relevant tables:\\n   - base_products: to get product information.\\n   - members: to find shop products linked to base products and their shops.\\n   - shops: to confirm different shops.\\n\\n3. Approach:\\n   - Find base products that have members (shop products) linked to at least two different shops.\\n   - For these base products, retrieve some basic info like Persian name, English name, and the list of shops offering them.\\n   - Limit the number of results to a reasonable number (e.g., 10) to avoid overwhelming the user.\\n\\n4. Query construction:\\n   - Use SQL to find base products with members linked to multiple distinct shops.\\n   - Join base_products and members tables.\\n   - Group by base product and count distinct shops.\\n   - Filter for count of distinct shops > 1.\\n   - Retrieve product details and some shop info.\\n\\n5. Output:\\n   - Prepare a message listing several products with their names and mention that they are available in multiple shops.\\n   - Provide base_random_keys for these products for potential further queries.\\n   - No member_random_keys needed now.\\n\\nSummary:\\n- The main task is to find products sold by multiple shops.\\n- Use members table to identify products with multiple shops.\\n- Retrieve product info from base_products.\\n- Return a concise list of such products to the user.', timestamp=datetime.datetime(2025, 9, 18, 5, 50, 42, 807929, tzinfo=datetime.timezone.utc))]),\n",
       " ModelResponse(parts=[ToolCallPart(tool_name='generate_sql_query', args='{\"instruction\":\"Find base products that have members (shop products) linked to at least two different shops. Retrieve the base product random_key, Persian name, English name, and count of distinct shops. Limit the results to 10.\"}', tool_call_id='call_xaHSXhtsPu1EpGfGG5oVO8vn')], usage=RequestUsage(input_tokens=2094, cache_read_tokens=1664, output_tokens=58, details={'accepted_prediction_tokens': 0, 'audio_tokens': 0, 'reasoning_tokens': 0, 'rejected_prediction_tokens': 0}), model_name='gpt-4.1-mini-2025-04-14', timestamp=datetime.datetime(2025, 9, 18, 5, 50, 54, tzinfo=TzInfo(UTC)), provider_name='openai', provider_details={'finish_reason': 'tool_calls'}, provider_response_id='chatcmpl-CH1peEXIPQTM39pFaJqxTCHCvhxsD', finish_reason='tool_call'),\n",
       " ModelRequest(parts=[ToolReturnPart(tool_name='generate_sql_query', content=('SELECT \\n    bp.random_key, \\n    bp.persian_name, \\n    bp.english_name, \\n    COUNT(DISTINCT m.shop_id) AS distinct_shop_count\\nFROM \\n    base_products bp\\nJOIN \\n    members m ON bp.random_key = m.base_random_key\\nGROUP BY \\n    bp.random_key, bp.persian_name, bp.english_name\\nHAVING \\n    COUNT(DISTINCT m.shop_id) >= 2\\nLIMIT 10;', '```sql\\nSELECT \\n    bp.random_key, \\n    bp.persian_name, \\n    bp.english_name, \\n    COUNT(DISTINCT m.shop_id) AS distinct_shop_count\\nFROM \\n    base_products bp\\nJOIN \\n    members m ON bp.random_key = m.base_random_key\\nGROUP BY \\n    bp.random_key, bp.persian_name, bp.english_name\\nHAVING \\n    COUNT(DISTINCT m.shop_id) >= 2\\nLIMIT 10;\\n```'), tool_call_id='call_xaHSXhtsPu1EpGfGG5oVO8vn', timestamp=datetime.datetime(2025, 9, 18, 5, 50, 47, 31208, tzinfo=datetime.timezone.utc))]),\n",
       " ModelResponse(parts=[ToolCallPart(tool_name='execute_sql', args='{\"query\":\"SELECT \\\\n    bp.random_key, \\\\n    bp.persian_name, \\\\n    bp.english_name, \\\\n    COUNT(DISTINCT m.shop_id) AS distinct_shop_count\\\\nFROM \\\\n    base_products bp\\\\nJOIN \\\\n    members m ON bp.random_key = m.base_random_key\\\\nGROUP BY \\\\n    bp.random_key, bp.persian_name, bp.english_name\\\\nHAVING \\\\n    COUNT(DISTINCT m.shop_id) >= 2\\\\nLIMIT 10;\"}', tool_call_id='call_WgUVCIcWkrq62vlniTWOpWNr')], usage=RequestUsage(input_tokens=2381, cache_read_tokens=2048, output_tokens=119, details={'accepted_prediction_tokens': 0, 'audio_tokens': 0, 'reasoning_tokens': 0, 'rejected_prediction_tokens': 0}), model_name='gpt-4.1-mini-2025-04-14', timestamp=datetime.datetime(2025, 9, 18, 5, 50, 59, tzinfo=TzInfo(UTC)), provider_name='openai', provider_details={'finish_reason': 'tool_calls'}, provider_response_id='chatcmpl-CH1pj2CpZHhnz5wjAZvgKdqHC6Wed', finish_reason='tool_call'),\n",
       " ModelRequest(parts=[ToolReturnPart(tool_name='execute_sql', content=[RealDictRow({'random_key': 'aaaavw', 'persian_name': 'شیربرقی لباسشویی الجی sf15(تفکیکی)', 'english_name': 'Washing machine faucet LG _sf15(Separation)', 'distinct_shop_count': 2}), RealDictRow({'random_key': 'aaactf', 'persian_name': 'سرویس قهوه خوری 12 پارچه هتلی سفید تقدیس', 'english_name': '', 'distinct_shop_count': 2}), RealDictRow({'random_key': 'aaaivb', 'persian_name': 'جارو شارژی روبوراک مدل A20 AIR با زمان کارکرد ۱۸۰ دقیقه', 'english_name': '', 'distinct_shop_count': 4}), RealDictRow({'random_key': 'aaavdk', 'persian_name': 'قهوه ساز گاستروبک مدل 42711 ظرفیت ۱ لیتر', 'english_name': '', 'distinct_shop_count': 2}), RealDictRow({'random_key': 'aaavuw', 'persian_name': 'پنکه USB شارک مدل FIBER سایز ۲۵ سانتیمتر', 'english_name': '', 'distinct_shop_count': 2}), RealDictRow({'random_key': 'aaawnf', 'persian_name': 'گاز کولرگازی مبرد R22 برند دی وای ۱۳/۶ کیلوگرمی', 'english_name': 'DY R22 Refrigerant 13.6 kg', 'distinct_shop_count': 7}), RealDictRow({'random_key': 'aababq', 'persian_name': 'ست سرویس بهداشتی هفت پارچه الیکا سفید طلایی', 'english_name': '', 'distinct_shop_count': 2}), RealDictRow({'random_key': 'aabdbg', 'persian_name': 'گوشت کوب برقی 270 وات تیغه 16 سانت اسمارت', 'english_name': '', 'distinct_shop_count': 3}), RealDictRow({'random_key': 'aabrja', 'persian_name': 'جا مایعی بیضی لیمون', 'english_name': 'کد : 1236', 'distinct_shop_count': 6}), RealDictRow({'random_key': 'aabsob', 'persian_name': 'پیاله ماست خوری گلدکیش مدل کلاسیک کد GK208516', 'english_name': 'پیاله ماست خوری گلد کیش مدل کلاسیک یک عددی', 'distinct_shop_count': 6})], tool_call_id='call_WgUVCIcWkrq62vlniTWOpWNr', timestamp=datetime.datetime(2025, 9, 18, 5, 50, 56, 475910, tzinfo=datetime.timezone.utc))]),\n",
       " ModelResponse(parts=[ToolCallPart(tool_name='final_result', args='{\"message\":\"چند کالا که در فروشگاه\\u200cهای مختلف عرضه می\\u200cشوند:\\\\n1. شیربرقی لباسشویی الجی sf15(تفکیکی) - در 2 فروشگاه\\\\n2. سرویس قهوه خوری 12 پارچه هتلی سفید تقدیس - در 2 فروشگاه\\\\n3. جارو شارژی روبوراک مدل A20 AIR با زمان کارکرد ۱۸۰ دقیقه - در 4 فروشگاه\\\\n4. قهوه ساز گاستروبک مدل 42711 ظرفیت ۱ لیتر - در 2 فروشگاه\\\\n5. پنکه USB شارک مدل FIBER سایز ۲۵ سانتیمتر - در 2 فروشگاه\\\\n6. گاز کولرگازی مبرد R22 برند دی وای ۱۳/۶ کیلوگرمی - در 7 فروشگاه\\\\n7. ست سرویس بهداشتی هفت پارچه الیکا سفید طلایی - در 2 فروشگاه\\\\n8. گوشت کوب برقی 270 وات تیغه 16 سانت اسمارت - در 3 فروشگاه\\\\n9. جا مایعی بیضی لیمون - در 6 فروشگاه\\\\n10. پیاله ماست خوری گلدکیش مدل کلاسیک کد GK208516 - در 6 فروشگاه\",\"base_random_keys\":[\"aaaavw\",\"aaactf\",\"aaaivb\",\"aaavdk\",\"aaavuw\",\"aaawnf\",\"aababq\",\"aabdbg\",\"aabrja\",\"aabsob\"]}', tool_call_id='call_AqYas4GYyKLKBZyvgIlKI9eq')], usage=RequestUsage(input_tokens=2938, cache_read_tokens=1664, output_tokens=330, details={'reasoning_tokens': 0}), model_name='openai/gpt-4.1-mini', timestamp=datetime.datetime(2025, 9, 18, 5, 51, 8, tzinfo=TzInfo(UTC)), provider_name='openai', provider_details={'finish_reason': 'tool_calls'}, provider_response_id='gen-1758174668-5iaZ4cgmUmB1ygFCZKka', finish_reason='tool_call'),\n",
       " ModelRequest(parts=[ToolReturnPart(tool_name='final_result', content='Final result processed.', tool_call_id='call_AqYas4GYyKLKBZyvgIlKI9eq', timestamp=datetime.datetime(2025, 9, 18, 5, 50, 59, 943235, tzinfo=datetime.timezone.utc))])]"
      ]
     },
     "execution_count": 16,
     "metadata": {},
     "output_type": "execute_result"
    }
   ],
   "source": [
    "result.all_messages()"
   ]
  },
  {
   "cell_type": "code",
   "execution_count": null,
   "id": "11c62eb1",
   "metadata": {},
   "outputs": [],
   "source": []
  }
 ],
 "metadata": {
  "kernelspec": {
   "display_name": ".venv",
   "language": "python",
   "name": "python3"
  },
  "language_info": {
   "codemirror_mode": {
    "name": "ipython",
    "version": 3
   },
   "file_extension": ".py",
   "mimetype": "text/x-python",
   "name": "python",
   "nbconvert_exporter": "python",
   "pygments_lexer": "ipython3",
   "version": "3.13.6"
  }
 },
 "nbformat": 4,
 "nbformat_minor": 5
}
