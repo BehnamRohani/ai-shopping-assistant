{
 "cells": [
  {
   "cell_type": "code",
   "execution_count": 1,
   "id": "f5af9da3",
   "metadata": {},
   "outputs": [],
   "source": [
    "import os\n",
    "sys.path.append(os.path.abspath(\"..\"))\n",
    "from shopping_agent import run_shopping_agent"
   ]
  },
  {
   "cell_type": "code",
   "execution_count": 18,
   "id": "f112e751",
   "metadata": {},
   "outputs": [
    {
     "name": "stdout",
     "output_type": "stream",
     "text": [
      "Step-by-step plan:\n",
      "\n",
      "1. Translate the user request: The user wants to know the lowest price for the base product \"گیاه طبیعی بلک گلد بنسای نارگل کد ۰۱۰۸\" (Natural plant Black Gold Bonsai Nargol code 0108).\n",
      "\n",
      "2. Identify the product name: \"گیاه طبیعی بلک گلد بنسای نارگل کد ۰۱۰۸\" is the Persian name of the base product.\n",
      "\n",
      "3. Search the base_products table for an exact match on the persian_name column with \"گیاه طبیعی بلک گلد بنسای نارگل کد ۰۱۰۸\" to get the base product's random_key.\n",
      "\n",
      "4. Using the base product's random_key, query the members table to find all shop products (members) linked to this base product.\n",
      "\n",
      "5. From these members, find the minimum price among all shop products.\n",
      "\n",
      "6. Return the minimum price as the answer.\n",
      "\n",
      "Output fields to fill: message (with the minimum price information), base_random_keys (with the base product random_key), member_random_keys (can be null or omitted).\n",
      "\n",
      "This plan ensures we find the exact base product and then find the lowest price among all shops offering it.\n"
     ]
    }
   ],
   "source": [
    "instruction = \"لطفاً دراور چهار کشو (کد D14) را برای من تهیه کنید.\"\n",
    "instruction = \"عرض پارچه تریکو جودون 1/30 لاکرا گردباف نوریس به رنگ زرد طلایی چقدر است؟\"\n",
    "instruction = \"کمترین قیمت در این پایه برای گیاه طبیعی بلک گلد بنسای نارگل کد ۰۱۰۸ چقدر است؟\"\n",
    "# instruction = \"یک لپ تاپ مناسب بهم پیشنهاد کن.\"\n",
    "# instruction = \"\"\"\n",
    "# چند تا کالا پیدا کن که برای فروشگاه های متفاوتی هستند و بهم معرفی کن.\n",
    "# \"\"\"\n",
    "# instruction = \"\"\"\n",
    "# \"کدام یک از این ماگ‌های خرید ماگ-لیوان هندوانه فانتزی و کارتونی کد 1375 یا ماگ لته خوری سرامیکی با زیره کد 741 دارای سبک کارتونی و فانتزی بوده و برای کودکان یا نوجوانان مناسب‌تر است؟\"\n",
    "# \"\"\"\n",
    "result = await run_shopping_agent(instruction)"
   ]
  },
  {
   "cell_type": "code",
   "execution_count": 19,
   "id": "13bf9fd2",
   "metadata": {},
   "outputs": [
    {
     "data": {
      "text/plain": [
       "AgentRunResult(output=ShoppingResponse(message='کمترین قیمت برای گیاه طبیعی بلک گلد بنسای نارگل کد ۰۱۰۸ برابر با 275000 تومان است.', base_random_keys=['wmkpoc'], member_random_keys=None))"
      ]
     },
     "execution_count": 19,
     "metadata": {},
     "output_type": "execute_result"
    }
   ],
   "source": [
    "result"
   ]
  },
  {
   "cell_type": "code",
   "execution_count": 20,
   "id": "9dde5de5",
   "metadata": {},
   "outputs": [
    {
     "data": {
      "text/plain": [
       "{'message': 'کمترین قیمت برای گیاه طبیعی بلک گلد بنسای نارگل کد ۰۱۰۸ برابر با 275000 تومان است.',\n",
       " 'base_random_keys': ['wmkpoc'],\n",
       " 'member_random_keys': None}"
      ]
     },
     "execution_count": 20,
     "metadata": {},
     "output_type": "execute_result"
    }
   ],
   "source": [
    "dict(result.output)"
   ]
  },
  {
   "cell_type": "code",
   "execution_count": 21,
   "id": "ce583a3d",
   "metadata": {},
   "outputs": [
    {
     "data": {
      "text/plain": [
       "RunUsage(input_tokens=10945, cache_read_tokens=9728, output_tokens=263, details={'reasoning_tokens': 0, 'accepted_prediction_tokens': 0, 'audio_tokens': 0, 'rejected_prediction_tokens': 0}, requests=5, tool_calls=4)"
      ]
     },
     "execution_count": 21,
     "metadata": {},
     "output_type": "execute_result"
    }
   ],
   "source": [
    "result.usage()"
   ]
  },
  {
   "cell_type": "code",
   "execution_count": 22,
   "id": "459e7b61",
   "metadata": {},
   "outputs": [
    {
     "data": {
      "text/plain": [
       "[ModelRequest(parts=[SystemPromptPart(content=\"\\n\\nYou are an AI Shopping Assistant for Torob. Your job is to answer user instructions by retrieving product information.\\n\\n\\n\\nYou have access to the following tools:\\n\\n1. build_exact_query_and_execute(table_name: str, column_name: str, variable_query: str, limit: int = 10, columns: list[str] | None = None) -> list[RealDictRow] | str:\\n   Builds and executes a SQL query that searches for rows where a column exactly matches\\n   the given value. You can specify which columns to return. Enforces a minimum limit of 1.\\n\\n2. build_like_query_and_execute(table_name: str, column_name: str, variable_query: str, limit: int = 10, columns: list[str] | None = None) -> list[RealDictRow] | str:\\n   Builds and executes a SQL query that searches for rows where a column contains\\n   a given substring (case-insensitive). You can specify which columns to return.\\n   Enforces a minimum limit of 3.\\n   \\n3. generate_sql_query(instruction: str) -> tuple[str, str]: \\n   Generates a PostgreSQL query from natural language.\\n\\n4. execute_sql(query: str) -> list[RealDictRow]: \\n   Executes a PostgreSQL query and returns results.\\n\\n### Priority:\\n- Use `generate_sql_query` only when a query cannot be expressed through the built-in query helpers.\\n\\n\\n\\n  1. Use SQL tools if necessary.\\n  2. Fill the Pydantic response for your final answer.\\n  3. base_random_keys should only be filled if user asks for product(s). And member_random_keys should only be filled if user\\n  asks for shop(s). So there is no need, for example, to fill member_random_keys if user is only after a product.\\n  4. message field should only contain desired information requested by the user. Avoid long messages and only give what's requested.\\n\\n\\nBelow is structure of data in database:\\n\\nWe have data from torob.com structured in multiple tables. Below is a detailed description of each table and its columns:\\n\\n1. Table: searches\\n- id: Unique identifier for each search result page. Used to connect logs like views and clicks to this search.\\n- uid: Unique identifier for the entire search session (same across all pages of a search; equals id of page 0).\\n- query: The search phrase entered by the user.\\n- page: Page number in search results (starts from 0).\\n- timestamp: Exact UTC time when the search was logged.\\n- session_id: Identifier of the user’s session.\\n- result_base_product_rks: A string (list encoded in string) of base product random keys shown in the results.\\n- category_id: ID of the category user restricted the search to (0 means no category).\\n- category_brand_boosts: A string (list encoded in string) of categories/brands boosted in ranking for this search.\\n\\n2. Table: base_views\\n- id: Unique identifier for each product base view.\\n- search_id: The search page ID this view came from (links to searches.id).\\n- base_product_rk: Random key of the base product that was viewed.\\n- timestamp: Exact UTC time when the view was logged.\\n\\n3. Table: final_clicks\\n- id: Unique identifier for each final click.\\n- base_view_id: ID linking this click to a base product view (links to base_views.id).\\n- shop_id: Identifier of the shop where the clicked product belongs.\\n- timestamp: Exact UTC time when the click occurred.\\n\\n4. Table: base_products\\n- random_key: Unique identifier of a base product.\\n- persian_name: Persian name of the product.\\n- english_name: English name of the product.\\n- category_id: Category ID of the product.\\n- brand_id: Brand ID of the product.\\n- extra_features: JSON string of additional product features.\\nExample: Features may be width (عرض), height (ارتفاع), size (اندازه), color (رنگ), material (جنس), originality, stock_status, meterage, piece_count, power, etc.\\n- image_url: URL of the product’s image.\\n- members: A string (list encoded in string) of random keys of shop products linked to this base product.\\n\\n5. Table: members (shop products)\\n- random_key: Unique identifier of a product in a shop.\\n- base_random_key: Random key linking the shop product to its base product.\\n- shop_id: Identifier of the shop offering the product.\\n- price: Price of the product in this shop.\\n\\n6. Table: shops\\n- id: Unique identifier of the shop.\\n- city_id: ID of the city where the shop is located.\\n- score: Shop’s rating in Torob (0 to 5).\\n- has_warranty: Boolean indicating whether the shop has Torob warranty.\\n\\n7. Table: categories\\n- id: Unique identifier of the category.\\n- title: Title of the category.\\n- parent_id: ID of the parent category (-1 if no parent). Categories are hierarchical.\\n\\n8. Table: brands\\n- id: Unique identifier of the brand.\\n- title: Title of the brand.\\n\\n9. Table: cities\\n- id: Unique identifier of the city.\\n- name: Name of the city.\\n\", timestamp=datetime.datetime(2025, 9, 18, 6, 30, 13, 339050, tzinfo=datetime.timezone.utc)), UserPromptPart(content='Input: کمترین قیمت در این پایه برای گیاه طبیعی بلک گلد بنسای نارگل کد ۰۱۰۸ چقدر است؟\\n\\nStep-by-step plan:\\n\\n1. Translate the user request: The user wants to know the lowest price for the base product \"گیاه طبیعی بلک گلد بنسای نارگل کد ۰۱۰۸\" (Natural plant Black Gold Bonsai Nargol code 0108).\\n\\n2. Identify the product name: \"گیاه طبیعی بلک گلد بنسای نارگل کد ۰۱۰۸\" is the Persian name of the base product.\\n\\n3. Search the base_products table for an exact match on the persian_name column with \"گیاه طبیعی بلک گلد بنسای نارگل کد ۰۱۰۸\" to get the base product\\'s random_key.\\n\\n4. Using the base product\\'s random_key, query the members table to find all shop products (members) linked to this base product.\\n\\n5. From these members, find the minimum price among all shop products.\\n\\n6. Return the minimum price as the answer.\\n\\nOutput fields to fill: message (with the minimum price information), base_random_keys (with the base product random_key), member_random_keys (can be null or omitted).\\n\\nThis plan ensures we find the exact base product and then find the lowest price among all shops offering it.', timestamp=datetime.datetime(2025, 9, 18, 6, 30, 13, 339057, tzinfo=datetime.timezone.utc))]),\n",
       " ModelResponse(parts=[ToolCallPart(tool_name='build_exact_query_and_execute', args='{\"table_name\":\"base_products\",\"column_name\":\"persian_name\",\"variable_query\":\"گیاه طبیعی بلک گلد بنسای نارگل کد ۰۱۰۸\",\"limit\":1,\"columns\":[\"random_key\"]}', tool_call_id='call_IQdNp5KSvJuhlj2aFCp3yD6x')], usage=RequestUsage(input_tokens=2039, cache_read_tokens=1664, output_tokens=58, details={'reasoning_tokens': 0}), model_name='openai/gpt-4.1-mini', timestamp=datetime.datetime(2025, 9, 18, 6, 30, 24, tzinfo=TzInfo(UTC)), provider_name='openai', provider_details={'finish_reason': 'tool_calls'}, provider_response_id='gen-1758177024-FJOQXHkYPIrSVSEnBarV', finish_reason='tool_call'),\n",
       " ModelRequest(parts=[ToolReturnPart(tool_name='build_exact_query_and_execute', content=[], tool_call_id='call_IQdNp5KSvJuhlj2aFCp3yD6x', timestamp=datetime.datetime(2025, 9, 18, 6, 30, 15, 487895, tzinfo=datetime.timezone.utc))]),\n",
       " ModelResponse(parts=[ToolCallPart(tool_name='build_like_query_and_execute', args='{\"table_name\":\"base_products\",\"column_name\":\"persian_name\",\"variable_query\":\"بلک گلد بنسای نارگل کد ۰۱۰۸\",\"limit\":3,\"columns\":[\"random_key\",\"persian_name\"]}', tool_call_id='call_dsEYujtiU9I4CjG6ODghuf4K')], usage=RequestUsage(input_tokens=2109, cache_read_tokens=1664, output_tokens=59, details={'accepted_prediction_tokens': 0, 'audio_tokens': 0, 'reasoning_tokens': 0, 'rejected_prediction_tokens': 0}), model_name='gpt-4.1-mini-2025-04-14', timestamp=datetime.datetime(2025, 9, 18, 6, 30, 27, tzinfo=TzInfo(UTC)), provider_name='openai', provider_details={'finish_reason': 'tool_calls'}, provider_response_id='chatcmpl-CH2RvN0UmHsDE8bBmO9oVKrGZMDNM', finish_reason='tool_call'),\n",
       " ModelRequest(parts=[ToolReturnPart(tool_name='build_like_query_and_execute', content=[], tool_call_id='call_dsEYujtiU9I4CjG6ODghuf4K', timestamp=datetime.datetime(2025, 9, 18, 6, 30, 20, 204586, tzinfo=datetime.timezone.utc))]),\n",
       " ModelResponse(parts=[ToolCallPart(tool_name='build_like_query_and_execute', args='{\"table_name\":\"base_products\",\"column_name\":\"persian_name\",\"variable_query\":\"بلک گلد بنسای\",\"limit\":3,\"columns\":[\"random_key\",\"persian_name\"]}', tool_call_id='call_teH6wMTnjOZv6YH00FQZ4RwN')], usage=RequestUsage(input_tokens=2180, cache_read_tokens=2048, output_tokens=51, details={'reasoning_tokens': 0}), model_name='openai/gpt-4.1-mini', timestamp=datetime.datetime(2025, 9, 18, 6, 30, 31, tzinfo=TzInfo(UTC)), provider_name='openai', provider_details={'finish_reason': 'tool_calls'}, provider_response_id='gen-1758177031-ocSxg6QAZqpTymlnEci1', finish_reason='tool_call'),\n",
       " ModelRequest(parts=[ToolReturnPart(tool_name='build_like_query_and_execute', content=[RealDictRow({'random_key': 'wmkpoc', 'persian_name': 'گیاه طبیعی بلک گلد بنسای نارگل کد 0108'})], tool_call_id='call_teH6wMTnjOZv6YH00FQZ4RwN', timestamp=datetime.datetime(2025, 9, 18, 6, 30, 24, 796209, tzinfo=datetime.timezone.utc))]),\n",
       " ModelResponse(parts=[ToolCallPart(tool_name='build_exact_query_and_execute', args='{\"table_name\":\"members\",\"column_name\":\"base_random_key\",\"variable_query\":\"wmkpoc\",\"limit\":10,\"columns\":[\"random_key\",\"price\"]}', tool_call_id='call_OV2mJNZ1IJLWQ7FO9l2vwHMp')], usage=RequestUsage(input_tokens=2274, cache_read_tokens=2048, output_tokens=44, details={'accepted_prediction_tokens': 0, 'audio_tokens': 0, 'reasoning_tokens': 0, 'rejected_prediction_tokens': 0}), model_name='gpt-4.1-mini-2025-04-14', timestamp=datetime.datetime(2025, 9, 18, 6, 30, 36, tzinfo=TzInfo(UTC)), provider_name='openai', provider_details={'finish_reason': 'tool_calls'}, provider_response_id='chatcmpl-CH2S4B0eZvbDGwnGrEbxmD9gk3uZU', finish_reason='tool_call'),\n",
       " ModelRequest(parts=[ToolReturnPart(tool_name='build_exact_query_and_execute', content=[RealDictRow({'random_key': 'cbldgn', 'price': 275000})], tool_call_id='call_OV2mJNZ1IJLWQ7FO9l2vwHMp', timestamp=datetime.datetime(2025, 9, 18, 6, 30, 26, 677063, tzinfo=datetime.timezone.utc))]),\n",
       " ModelResponse(parts=[ToolCallPart(tool_name='final_result', args='{\"message\":\"کمترین قیمت برای گیاه طبیعی بلک گلد بنسای نارگل کد ۰۱۰۸ برابر با 275000 تومان است.\",\"base_random_keys\":[\"wmkpoc\"]}', tool_call_id='call_jtnuc8A1ji9colZi515GPcuw')], usage=RequestUsage(input_tokens=2343, cache_read_tokens=2304, output_tokens=51, details={'accepted_prediction_tokens': 0, 'audio_tokens': 0, 'reasoning_tokens': 0, 'rejected_prediction_tokens': 0}), model_name='gpt-4.1-mini-2025-04-14', timestamp=datetime.datetime(2025, 9, 18, 6, 30, 38, tzinfo=TzInfo(UTC)), provider_name='openai', provider_details={'finish_reason': 'tool_calls'}, provider_response_id='chatcmpl-CH2S69jRdHbfC9FYICTvQVdRddVTT', finish_reason='tool_call'),\n",
       " ModelRequest(parts=[ToolReturnPart(tool_name='final_result', content='Final result processed.', tool_call_id='call_jtnuc8A1ji9colZi515GPcuw', timestamp=datetime.datetime(2025, 9, 18, 6, 30, 28, 201062, tzinfo=datetime.timezone.utc))])]"
      ]
     },
     "execution_count": 22,
     "metadata": {},
     "output_type": "execute_result"
    }
   ],
   "source": [
    "result.all_messages()"
   ]
  },
  {
   "cell_type": "code",
   "execution_count": null,
   "id": "11c62eb1",
   "metadata": {},
   "outputs": [],
   "source": []
  }
 ],
 "metadata": {
  "kernelspec": {
   "display_name": ".venv",
   "language": "python",
   "name": "python3"
  },
  "language_info": {
   "codemirror_mode": {
    "name": "ipython",
    "version": 3
   },
   "file_extension": ".py",
   "mimetype": "text/x-python",
   "name": "python",
   "nbconvert_exporter": "python",
   "pygments_lexer": "ipython3",
   "version": "3.13.6"
  }
 },
 "nbformat": 4,
 "nbformat_minor": 5
}
