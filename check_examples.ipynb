{
 "cells": [
  {
   "cell_type": "code",
   "execution_count": 1,
   "id": "1ec55d5c",
   "metadata": {},
   "outputs": [],
   "source": [
    "failed_chat_ids = [\n",
    "    \"t316-943c8d19-2080-4bf8-bfd4-ffaec3e31b10\",\n",
    "    \"t1256-a4029e29-8815-4df7-abd8-2a62947e5633\",\n",
    "    \"t1276-22af6db8-3ced-44cf-a9b4-cd21146e05f1\",\n",
    "    \"t313-ba62867d-4d37-47cf-9c07-13e4390e9586\",\n",
    "    \"t1272-57c3b4ca-3d86-413f-9e1f-418e08076b45\",\n",
    "    \"t1246-7c5fdac7-dab6-408d-9d57-56601c0e9523\",\n",
    "    \"t1420-df50b175-e74d-4194-ae9c-ce517459a511\",\n",
    "    \"t1262-c7c390cc-fb4d-4308-8c90-a354009303b2\",\n",
    "    \"t1406-bc8fcdc0-0f8d-4f85-bcb0-6180ad32c990\",\n",
    "    \"t1259-7b5b26fb-c0c1-4c1c-baab-09a19222b86e\"\n",
    "]"
   ]
  },
  {
   "cell_type": "code",
   "execution_count": 2,
   "id": "2f1a1c64",
   "metadata": {},
   "outputs": [
    {
     "data": {
      "text/plain": [
       "10"
      ]
     },
     "execution_count": 2,
     "metadata": {},
     "output_type": "execute_result"
    }
   ],
   "source": [
    "len(failed_chat_ids)"
   ]
  },
  {
   "cell_type": "code",
   "execution_count": 3,
   "id": "18134c02",
   "metadata": {},
   "outputs": [],
   "source": [
    "import requests\n",
    "import json\n",
    "import ast\n",
    "def get_chat_log(x):\n",
    "    url = \"https://behnam-torob-ai-shopping-assistant.darkube.app/chat\"\n",
    "    messages = [{\"type\": \"text\", \"content\":  x}]\n",
    "    data = {\n",
    "            \"chat_id\": \"check_chat_log\",\n",
    "            \"messages\": messages,\n",
    "        }\n",
    "\n",
    "        # Disable system proxy\n",
    "    resp = requests.post(url, json=data, proxies={\"http\": None, \"https\": None})\n",
    "    return resp"
   ]
  },
  {
   "cell_type": "code",
   "execution_count": 4,
   "id": "04485f68",
   "metadata": {},
   "outputs": [],
   "source": [
    "import ast\n",
    "import datetime\n",
    "from typing import Any\n",
    "import re\n",
    "\n",
    "import ast\n",
    "import re\n",
    "\n",
    "def clean_problematic_calls(s: str) -> str:\n",
    "    \"\"\"\n",
    "    Replace problematic function calls (like datetime.datetime(...)) with safe strings\n",
    "    before passing to literal_eval.\n",
    "    \"\"\"\n",
    "    if not s:\n",
    "        return s\n",
    "    # Replace datetime.datetime(YYYY, MM, DD, hh, mm, ss) → \"YYYY-MM-DD-hh-mm-ss\"\n",
    "    s = re.sub(\n",
    "        r\"datetime\\.datetime\\(([^)]+)\\)\",\n",
    "        lambda m: \"'\" + m.group(1).replace(\", \", \"-\") + \"'\",\n",
    "        s\n",
    "    )\n",
    "    return s\n",
    "\n",
    "\n",
    "def safe_str_to_list(s: str) -> list[str]:\n",
    "    \"\"\"\n",
    "    Convert a string representation of a list into a list of strings safely.\n",
    "    \"\"\"\n",
    "    if not s:\n",
    "        return []\n",
    "    s = clean_problematic_calls(s)\n",
    "    try:\n",
    "        result = ast.literal_eval(s)\n",
    "        if isinstance(result, list):\n",
    "            return [str(item) for item in result]\n",
    "    except Exception as e:\n",
    "        print(\"Failed to parse list string:\", e)\n",
    "    return []\n",
    "\n",
    "def safe_str_to_dict(s: str) -> dict:\n",
    "    \"\"\"\n",
    "    Convert a string representation of a Python dict into an actual dict,\n",
    "    handling datetime and 'null' strings safely.\n",
    "    \"\"\"\n",
    "    if not s:\n",
    "        return {}\n",
    "    s = s.replace(\"'null'\", \"None\")\n",
    "    s = re.sub(\n",
    "        r\"datetime\\.datetime\\(([^)]+)\\)\",\n",
    "        lambda m: f\"'{m.group(1).replace(', ', '-')}'\",\n",
    "        s\n",
    "    )\n",
    "    \n",
    "    try:\n",
    "        result = ast.literal_eval(s)\n",
    "        if isinstance(result, dict):\n",
    "            return result\n",
    "    except Exception as e:\n",
    "        print(\"Failed to parse string:\", e)\n",
    "    \n",
    "    return {}\n",
    "\n",
    "def parse_chat_log(raw: str) -> list[dict]:\n",
    "    \"\"\"\n",
    "    Convert a raw string (list of dict-strings) into a list of dicts.\n",
    "    \"\"\"\n",
    "    list_strs = safe_str_to_list(raw)\n",
    "    return [safe_str_to_dict(item) for item in list_strs]"
   ]
  },
  {
   "cell_type": "code",
   "execution_count": 5,
   "id": "881f2330",
   "metadata": {},
   "outputs": [],
   "source": [
    "import matplotlib.pyplot as plt\n",
    "from PIL import Image\n",
    "from io import BytesIO\n",
    "import base64\n",
    "def visualize_iamge(image_b64):\n",
    "    if image_b64.startswith(\"data:\"):\n",
    "        image_b64 = image_b64.split(\",\")[1]\n",
    "    image_bytes = base64.b64decode(image_b64)\n",
    "    image = Image.open(BytesIO(image_bytes))\n",
    "    plt.imshow(image)\n",
    "    plt.axis(\"off\")\n",
    "    plt.show()"
   ]
  },
  {
   "cell_type": "code",
   "execution_count": 6,
   "id": "dec35ed2",
   "metadata": {},
   "outputs": [],
   "source": [
    "def request_chat(x, image_url=None, chat_id = 'mytest'):\n",
    "\n",
    "    url = \"https://behnam-torob-ai-shopping-assistant.darkube.app/chat\"\n",
    "    messages = [{\"type\": \"text\", \"content\":  x}]\n",
    "    if image_url:\n",
    "        messages.append({\"type\": \"image\", \"content\": image_url})\n",
    "    data = {\n",
    "        \"chat_id\": chat_id,\n",
    "        \"messages\": messages,\n",
    "    }\n",
    "\n",
    "    # Disable system proxy\n",
    "    resp = requests.post(url, json=data, proxies={\"http\": None, \"https\": None})\n",
    "    return resp.json()"
   ]
  },
  {
   "cell_type": "code",
   "execution_count": 7,
   "id": "5df29951",
   "metadata": {},
   "outputs": [
    {
     "name": "stderr",
     "output_type": "stream",
     "text": [
      "100%|██████████| 10/10 [00:09<00:00,  1.04it/s]\n"
     ]
    }
   ],
   "source": [
    "from tqdm import tqdm\n",
    "failed_dicts = []\n",
    "for x in tqdm(sorted(failed_chat_ids, reverse=True)):\n",
    "    chat_log = get_chat_log(x)\n",
    "    chat_log_str = chat_log.json()['message']  # raw string\n",
    "    chat_log_dicts = parse_chat_log(chat_log_str)\n",
    "    failed_dicts.append(chat_log_dicts)"
   ]
  },
  {
   "cell_type": "code",
   "execution_count": 8,
   "id": "8a731304",
   "metadata": {},
   "outputs": [
    {
     "ename": "IndentationError",
     "evalue": "expected an indented block after 'else' statement on line 25 (2952506293.py, line 32)",
     "output_type": "error",
     "traceback": [
      "  \u001b[36mCell\u001b[39m\u001b[36m \u001b[39m\u001b[32mIn[8]\u001b[39m\u001b[32m, line 32\u001b[39m\n\u001b[31m    \u001b[39m\u001b[31mprint(\"\\n\")\u001b[39m\n    ^\n\u001b[31mIndentationError\u001b[39m\u001b[31m:\u001b[39m expected an indented block after 'else' statement on line 25\n"
     ]
    }
   ],
   "source": [
    "image_keys = ['user_image_url', 'model_image_url']\n",
    "import random\n",
    "import time\n",
    "\n",
    "for i, chat_dict_list in enumerate(failed_dicts, 1):\n",
    "    print(f\"--- Chat #{i} ---\")\n",
    "    chat_id = f\"chat_testv{int(random.random() * 10000)}\"\n",
    "    # Each chat is now a list of dicts (chat turns)\n",
    "    for turn_idx, chat_dict in enumerate(chat_dict_list, 1):\n",
    "        print(f\" Turn {turn_idx}:\")\n",
    "        for key, value in chat_dict.items():\n",
    "            if key not in image_keys:\n",
    "                print(f\"   {key}: {value}\")\n",
    "        \n",
    "        # Show the image if available (byte content)\n",
    "        text_input = chat_dict.get(\"user_text\", \"\")\n",
    "        if chat_dict.get(\"user_image_url\"):\n",
    "            try:\n",
    "                img_bytes = chat_dict[\"user_image_url\"]  # should be bytes\n",
    "                # Example usage if you want to test sending it:\n",
    "\n",
    "                visualize_iamge(img_bytes)  # <- fixed typo\n",
    "            except Exception as e:\n",
    "                print(f\"   Failed to load image: {e}\")\n",
    "        else:\n",
    "            # start = time.time()\n",
    "            # resp = request_chat(text_input, chat_id = chat_id)\n",
    "            # end = time.time()\n",
    "            # elapsed = end - start\n",
    "            # print(resp)\n",
    "            # print(f\"Elapsed time: {elapsed:.4f} seconds\")\n",
    "    print(\"\\n\")\n"
   ]
  },
  {
   "cell_type": "code",
   "execution_count": null,
   "id": "644964d9",
   "metadata": {},
   "outputs": [],
   "source": []
  }
 ],
 "metadata": {
  "kernelspec": {
   "display_name": ".venv",
   "language": "python",
   "name": "python3"
  },
  "language_info": {
   "codemirror_mode": {
    "name": "ipython",
    "version": 3
   },
   "file_extension": ".py",
   "mimetype": "text/x-python",
   "name": "python",
   "nbconvert_exporter": "python",
   "pygments_lexer": "ipython3",
   "version": "3.13.6"
  }
 },
 "nbformat": 4,
 "nbformat_minor": 5
}
